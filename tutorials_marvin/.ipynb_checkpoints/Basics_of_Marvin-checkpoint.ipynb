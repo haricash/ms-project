{
 "cells": [
  {
   "cell_type": "markdown",
   "metadata": {},
   "source": [
    "# Basics of Marvin\n",
    "\n",
    "In this notebook, you will learn the common core functionality across many of the Marvin Tools.  This includes the basics of accessing and handling MaNGA data from different locations, as well as a beginners guide of interacting with data via the core tools of Cubes and Maps.  Much of this information can be found in the [Getting Started section](https://sdss-marvin.readthedocs.io/en/stable/getting-started.html) of the Marvin documentation.  \n",
    "\n",
    "## Table of Contents\n",
    "- [Data Access Modes](#modes) <br>\n",
    "- [Interacting with Data Content](#interaction) <br>\n",
    " - [Object Datamodels](#datamodel) <br>\n",
    " - [Extracting Data](#extract) <br> \n",
    " - [Accessing Associated Objects](#associates)<br>\n",
    " - [Quality and Target Flags](#flags)<br>\n",
    " - [NSA and DAPall Metadata](#mixin)<br>\n",
    " - [Downloading Files](#download)<br>\n",
    "- [Interacting with Spaxels](#spaxels)<br>"
   ]
  },
  {
   "cell_type": "markdown",
   "metadata": {},
   "source": [
    "<a id=\"common\"></a>\n",
    "## Common Core Functionality \n",
    "\n",
    "Marvin Tools provides the core functionality for accessing MaNGA data with Marvin. At the lowest level they are class wrappers around data products or elements (datacubes, maps, and spaxels). Their purpose is to provide a more natural way to interact with the data, unconstrained by specific data storage architectures such as files or databases, or by data location such as a laptop or remote server.  \n",
    "\n",
    "All Marvin Tools are built off a set of common core functionalities and features, and thus behave in very similar ways.  There are four main classes provided in Marvin: the ``Cube``, the ``RSS``, the ``Maps``, and the ``ModelCube``.\n",
    "We will start by focusing on a Marvin Cube to demonstrate the common features and handling of Marvin Tools.  Everything discussed here also applies to any of the other available Marvin Tools listed above.   \n",
    "  \n",
    "Let's start by importing the Marvin Cube class."
   ]
  },
  {
   "cell_type": "code",
   "execution_count": 1,
   "metadata": {},
   "outputs": [
    {
     "name": "stderr",
     "output_type": "stream",
     "text": [
      "\u001b[0;34m[INFO]: \u001b[0mNo release version set. Setting default to DR17\n",
      "\u001b[1;33m[WARNING]: \u001b[0m\u001b[0;39mpath /home/haricash/sas/mangawork/manga/spectro/redux/v3_1_1/drpall-v3_1_1.fits cannot be found. Setting drpall to None.\u001b[0m \u001b[0;36m(MarvinUserWarning)\u001b[0m\n",
      "\u001b[1;33m[WARNING]: \u001b[0m\u001b[0;39mpath /home/haricash/sas/mangawork/manga/spectro/analysis/v3_1_1/3.1.0/dapall-v3_1_1-3.1.0.fits cannot be found. Setting dapall to None.\u001b[0m \u001b[0;36m(MarvinUserWarning)\u001b[0m\n",
      "\u001b[1;33m[WARNING]: \u001b[0m\u001b[0;39mPassing field metadata as keyword arguments is deprecated. Use the explicit `metadata=...` argument instead. Additional metadata: {'location': 'view_args'}\u001b[0m \u001b[0;36m(RemovedInMarshmallow4Warning)\u001b[0m\n",
      "\u001b[1;33m[WARNING]: \u001b[0m\u001b[0;39mThe 'missing' argument to fields is deprecated. Use 'load_default' instead.\u001b[0m \u001b[0;36m(RemovedInMarshmallow4Warning)\u001b[0m\n",
      "\u001b[1;33m[WARNING]: \u001b[0m\u001b[0;39mdistutils Version classes are deprecated. Use packaging.version instead.\u001b[0m \u001b[0;36m(DeprecationWarning)\u001b[0m\n"
     ]
    }
   ],
   "source": [
    "from marvin.tools import Cube"
   ]
  },
  {
   "cell_type": "markdown",
   "metadata": {},
   "source": [
    "You may see the info message `No release version set. Setting default to DR15`.  The default data release Marvin uses is DR15. For this tutorial, we will be using DR15 data so there is no need to do anything further.  In general, to change which release Marvin uses, we can use the Marvin `config.setRelease` method on the `config` object.   "
   ]
  },
  {
   "cell_type": "code",
   "execution_count": 2,
   "metadata": {},
   "outputs": [
    {
     "name": "stderr",
     "output_type": "stream",
     "text": [
      "\u001b[1;33m[WARNING]: \u001b[0m\u001b[0;39mpath /home/haricash/sas/dr15/manga/spectro/redux/v2_4_3/drpall-v2_4_3.fits cannot be found. Setting drpall to None.\u001b[0m \u001b[0;36m(MarvinUserWarning)\u001b[0m\n",
      "\u001b[1;33m[WARNING]: \u001b[0m\u001b[0;39mpath /home/haricash/sas/dr15/manga/spectro/analysis/v2_4_3/2.2.1/dapall-v2_4_3-2.2.1.fits cannot be found. Setting dapall to None.\u001b[0m \u001b[0;36m(MarvinUserWarning)\u001b[0m\n"
     ]
    }
   ],
   "source": [
    "from marvin import config\n",
    "# set the release to DR15\n",
    "config.setRelease(\"DR15\")"
   ]
  },
  {
   "cell_type": "markdown",
   "metadata": {},
   "source": [
    "<a id=\"modes\"></a>\n",
    "### Data Access Modes"
   ]
  },
  {
   "cell_type": "markdown",
   "metadata": {},
   "source": [
    "Let's instantiate our first cube, for galaxy with plate-IFU designation 8485-1901.  Each marvin tool takes a string id input and can one of: a string filepath and name, a plate-IFU designation, or a manga-ID designation.  Marvin will attempt to identify the input format and properly load the target data."
   ]
  },
  {
   "cell_type": "code",
   "execution_count": 3,
   "metadata": {},
   "outputs": [
    {
     "data": {
      "text/plain": [
       "<Marvin Cube (plateifu='8485-1901', mode='remote', data_origin='api')>"
      ]
     },
     "execution_count": 3,
     "metadata": {},
     "output_type": "execute_result"
    }
   ],
   "source": [
    "# instantiate a cube for 8485-1901\n",
    "cube = Cube('8485-1901')\n",
    "cube"
   ]
  },
  {
   "cell_type": "markdown",
   "metadata": {},
   "source": [
    "Once instantiated, each marvin tool indicates a **mode** and a **data-origin**.  Note that `mode=\"local\"` and  `data_origin=\"file\"`.  This indicates that we have accessed a file from our local filesystem.  Our cube now has a ``filename`` attribute indicating its location on disk. "
   ]
  },
  {
   "cell_type": "code",
   "execution_count": 5,
   "metadata": {},
   "outputs": [],
   "source": [
    "# print the local filename\n",
    "cube.filename"
   ]
  },
  {
   "cell_type": "markdown",
   "metadata": {},
   "source": [
    "What if we won't have the MaNGa data products for our target of interest?  We can specify the **plateifu** or **mangaid** of the target and Marvin will access it remotely.  Let's open a cube for 8485-1902."
   ]
  },
  {
   "cell_type": "code",
   "execution_count": 6,
   "metadata": {},
   "outputs": [
    {
     "data": {
      "text/plain": [
       "<Marvin Cube (plateifu='8485-1902', mode='remote', data_origin='api')>"
      ]
     },
     "execution_count": 6,
     "metadata": {},
     "output_type": "execute_result"
    }
   ],
   "source": [
    "remote_cube = Cube('8485-1902')\n",
    "remote_cube"
   ]
  },
  {
   "cell_type": "markdown",
   "metadata": {},
   "source": [
    "Now note that ``mode=\"remote\"`` and ``data_origin=\"api\"``.  This indicates the cube has been remotely loaded using the built-in Marvin API.  By specifying an input **plateifu** or **mangaid**, marvin will always first try to access the data locally, and then fall back to remote access.  You can also explicitly load a file using the ``filename`` keyword argument.    "
   ]
  },
  {
   "cell_type": "code",
   "execution_count": 23,
   "metadata": {},
   "outputs": [
    {
     "data": {
      "text/plain": [
       "<Marvin Cube (plateifu='8485-1901', mode='local', data_origin='file')>"
      ]
     },
     "execution_count": 23,
     "metadata": {},
     "output_type": "execute_result"
    }
   ],
   "source": [
    "# Explicitly load a cube from a file on disk \n",
    "filename = '/Users/Brian/Work/sdss/sas/dr15/manga/spectro/redux/v2_4_3/8485/stack/manga-8485-1901-LOGCUBE.fits.gz'\n",
    "cube = Cube(filename=filename)\n",
    "cube"
   ]
  },
  {
   "cell_type": "markdown",
   "metadata": {},
   "source": [
    "<a id=\"interaction\"></a>\n",
    "### Interacting with Data Content\n",
    "\n",
    "Regardless of how you load an object, the way we interact with all the tools, and the way they behave, is the same.  They also all provide some quick access to basic metadata, like coordinates, header information, and WCS.\n",
    "<a id=\"metadata\"></a>"
   ]
  },
  {
   "cell_type": "code",
   "execution_count": 7,
   "metadata": {},
   "outputs": [
    {
     "name": "stdout",
     "output_type": "stream",
     "text": [
      "Target Coordindates: 232.544703894 48.6902009334\n",
      "Header:\n"
     ]
    },
    {
     "data": {
      "text/plain": [
       "XTENSION= 'IMAGE   '           / IMAGE extension                                \n",
       "BITPIX  = '-32     '           / Number of bits per data pixel                  \n",
       "NAXIS   = '3       '           / Number of data axes                            \n",
       "NAXIS1  = '34      '                                                            \n",
       "NAXIS2  = '34      '                                                            \n",
       "NAXIS3  = '4563    '                                                            \n",
       "PCOUNT  = '0       '           / No Group Parameters                            \n",
       "GCOUNT  = '1       '           / One Data Group                                 \n",
       "AUTHOR  = 'Brian Cherinka & David Law <bcherin1@jhu.edu, dlaw@stsci.edu>'       \n",
       "VERSDRP2= 'v2_4_3  '           / MaNGA DRP version (2d processing)              \n",
       "VERSDRP3= 'v2_4_3  '           / MaNGA DRP Version (3d processing)              \n",
       "VERSPLDS= 'v2_52   '           / Platedesign Version                            \n",
       "VERSFLAT= 'v1_31   '           / Specflat Version                               \n",
       "VERSCORE= 'v1_6_2  '           / MaNGAcore Version                              \n",
       "VERSPRIM= 'v2_5    '           / MaNGA Preimaging Version                       \n",
       "VERSUTIL= 'v5_5_32 '           / Version of idlutils                            \n",
       "VERSIDL = 'x86_64 linux unix linux 7.1.1 Aug 21 2009 64 64' / Version of IDL    \n",
       "BSCALE  = '1.0     '           / Intensity unit scaling                         \n",
       "BZERO   = '0.0     '           / Intensity zeropoint                            \n",
       "BUNIT   = '1E-17 erg/s/cm^2/Ang/spaxel' / Specific intensity (per spaxel)       \n",
       "MASKNAME= 'MANGA_DRP3PIXMASK'  / Bits in sdssMaskbits.par used by mask extension\n",
       "TELESCOP= 'SDSS 2.5-M'         / Sloan Digital Sky Survey                       \n",
       "INSTRUME= 'MaNGA   '           / SDSS-IV MaNGA IFU                              \n",
       "SRVYMODE= 'MaNGA dither'       / Survey leading this observation and its mode   \n",
       "PLATETYP= 'APOGEE-2&MaNGA'     / Type of plate (e.g. MaNGA, APOGEE-2&MANGA)     \n",
       "OBJSYS  = 'ICRS    '           / The TCC objSys                                 \n",
       "EQUINOX = '2000.0  '                                                            \n",
       "RADESYS = 'FK5     '                                                            \n",
       "LAMPLIST= 'lamphgcdne.dat'                                                      \n",
       "TPLDATA = 'BOSZ_3000-11000A.fits'                                               \n",
       "NEXP    = '9       '           / Total number of exposures                      \n",
       "EXPTIME = '8100.87 '           / Total exposure time (seconds)                  \n",
       "BLUESN2 = '19.9834 '           / Total SN2 in blue channel                      \n",
       "REDSN2  = '42.7417 '           / Total SN2 in red channel                       \n",
       "AIRMSMIN= '1.03987 '           / Minimum airmass                                \n",
       "AIRMSMED= '1.04708 '           / Median airmass                                 \n",
       "AIRMSMAX= '1.08221 '           / Maximum airmass                                \n",
       "SEEMIN  = '1.1779  '           / Best guider seeing                             \n",
       "SEEMED  = '1.30425 '           / Median guider seeing                           \n",
       "SEEMAX  = '1.42179 '           / Worst guider seeing                            \n",
       "TRANSMIN= '0.802254'           / Worst guider transparency                      \n",
       "TRANSMED= '0.831209'           / Median guider transparency                     \n",
       "TRANSMAX= '0.839501'           / Best guider transparency                       \n",
       "MJDMIN  = '57132   '           / MJD of first exposure                          \n",
       "MJDMED  = '57132   '           / MJD of median exposure                         \n",
       "MJDMAX  = '57132   '           / MJD of last exposure                           \n",
       "DATE-OBS= '2015-04-20'         / Date of median exposure                        \n",
       "MJDRED  = '58198   '           / MJD of the reduction                           \n",
       "DATERED = '2018-03-21'         / Date of the reduction                          \n",
       "MNGTARG1= '2336    '           / manga_target1 maskbit                          \n",
       "MNGTARG2= '0       '           / manga_target2 maskbit                          \n",
       "MNGTARG3= '0       '           / manga_target3 maskbit                          \n",
       "IFURA   = '232.5447'           / IFU R.A. (J2000 deg.)                          \n",
       "IFUDEC  = '48.690201'          / IFU Dec. (J2000 deg.)                          \n",
       "OBJRA   = '232.544703894'      / Object R.A. (J2000 deg.)                       \n",
       "OBJDEC  = '48.6902009334'      / Object Dec. (J2000 deg.)                       \n",
       "CENRA   = '234.06426'          / Plate center R.A. (J2000 deg.)                 \n",
       "CENDEC  = '48.589874'          / Plate center Dec. (J2000 deg.)                 \n",
       "PLATEID = '8485    '           / Current plate                                  \n",
       "DESIGNID= '8980    '           / Current design                                 \n",
       "IFUDSGN = '1901    '           / ifuDesign                                      \n",
       "FRLPLUG = '29      '           / Plugged ferrule                                \n",
       "PLATEIFU= '8485-1901'          / PLATEID-ifuDesign                              \n",
       "CARTID  = '3       '           / Cart(s) used                                   \n",
       "HARNAME = 'ma060   '           / Harness name(s)                                \n",
       "METFILE = 'ma060-56887-1.par'  / IFU metrology file(s)                          \n",
       "MANGAID = '1-209232'           / MaNGA ID number                                \n",
       "CATIDNUM= '1       '           / Primary target input catalog                   \n",
       "PLTTARG = 'plateTargets-1.par' / plateTarget reference file                     \n",
       "DRP3QUAL= '0       '           / DRP-3d quality bitmask                         \n",
       "IFUGLON = '78.9550411299'      / IFU Galactic longitude (deg)                   \n",
       "IFUGLAT = '52.6212190954'      / IFU Galactic latitude (deg)                    \n",
       "EBVGAL  = '0.0144335'          / Galactic reddening E(B-V)                      \n",
       "GFWHM   = '2.46769 '           / Reconstructed FWHM in g-band (arcsec)          \n",
       "RFWHM   = '2.47181 '           / Reconstructed FWHM in r-band (arcsec)          \n",
       "IFWHM   = '2.45516 '           / Reconstructed FWHM in i-band (arcsec)          \n",
       "ZFWHM   = '2.43769 '           / Reconstructed FWHM in z-band (arcsec)          \n",
       "CTYPE3  = 'WAVE-LOG'                                                            \n",
       "CRPIX3  = '1       '           / Starting pixel (1-indexed)                     \n",
       "CRVAL3  = '3621.59598486'      / Central wavelength of first pixel              \n",
       "CD3_3   = '0.833903304339'     / Initial dispersion per pixel                   \n",
       "CUNIT3  = 'Angstrom'                                                            \n",
       "CRPIX1  = '18.0    '           / Reference pixel (1-indexed)                    \n",
       "CRPIX2  = '18.0    '           / Reference pixel (1-indexed)                    \n",
       "CRVAL1  = '232.5447'                                                            \n",
       "CRVAL2  = '48.690201'                                                           \n",
       "CD1_1   = '-0.000138889'                                                        \n",
       "CD2_2   = '0.000138889'                                                         \n",
       "CTYPE1  = 'RA---TAN'                                                            \n",
       "CTYPE2  = 'DEC--TAN'                                                            \n",
       "CUNIT1  = 'deg     '                                                            \n",
       "CUNIT2  = 'deg     '                                                            \n",
       "HDUCLASS= 'SDSS    '           / SDSS format class                              \n",
       "HDUCLAS1= 'CUBE    '                                                            \n",
       "HDUCLAS2= 'DATA    '                                                            \n",
       "ERRDATA = 'IVAR    '           / Error extension name                           \n",
       "QUALDATA= 'MASK    '           / Mask extension name                            \n",
       "EXTNAME = 'FLUX    '                                                            \n",
       "DATASUM = '2745070007'         / data unit checksum updated 2018-03-21T06:08:47 \n",
       "CHECKSUM= 'KZaaKYRXKYXaKYXU'   / HDU checksum updated 2018-03-21T06:08:47       "
      ]
     },
     "execution_count": 7,
     "metadata": {},
     "output_type": "execute_result"
    }
   ],
   "source": [
    "print('Target Coordindates:', cube.ra, cube.dec)\n",
    "print('Header:')\n",
    "\n",
    "# access the PRIMARY header for the current object\n",
    "cube.header"
   ]
  },
  {
   "cell_type": "code",
   "execution_count": 8,
   "metadata": {},
   "outputs": [
    {
     "data": {
      "text/plain": [
       "WCS Keywords\n",
       "\n",
       "Number of WCS axes: 3\n",
       "CTYPE : 'RA---TAN'  'DEC--TAN'  'WAVE-LOG'  \n",
       "CRVAL : 232.5447  48.690201  3.62159598486e-07  \n",
       "CRPIX : 18.0  18.0  1.0  \n",
       "PC1_1 PC1_2 PC1_3  : -0.000138889  0.0  0.0  \n",
       "PC2_1 PC2_2 PC2_3  : 0.0  0.000138889  0.0  \n",
       "PC3_1 PC3_2 PC3_3  : 0.0  0.0  8.33903304339e-11  \n",
       "CDELT : 1.0  1.0  1.0  \n",
       "NAXIS : 0  0"
      ]
     },
     "execution_count": 8,
     "metadata": {},
     "output_type": "execute_result"
    }
   ],
   "source": [
    "# show the WCS for the current object\n",
    "cube.wcs"
   ]
  },
  {
   "cell_type": "markdown",
   "metadata": {},
   "source": [
    "<a id=\"datamodel\"></a>\n",
    "### Object Datamodels\n",
    "Every Marvin object comes with a built-in **datamodel**, which shows us what extensions are available, how they are named, and what they contain.  "
   ]
  },
  {
   "cell_type": "code",
   "execution_count": 9,
   "metadata": {},
   "outputs": [
    {
     "data": {
      "text/plain": [
       "<DRPCubeDataModel release='DR15', n_datacubes=3, n_spectra=2>"
      ]
     },
     "execution_count": 9,
     "metadata": {},
     "output_type": "execute_result"
    }
   ],
   "source": [
    "# look up the cube datmaodel\n",
    "datamodel = cube.datamodel\n",
    "datamodel"
   ]
  },
  {
   "cell_type": "markdown",
   "metadata": {},
   "source": [
    "The datamodel for a cube contains 3 datacube extensions and 2 spectral extensions.  Let's look at them more closely.   "
   ]
  },
  {
   "cell_type": "code",
   "execution_count": 10,
   "metadata": {},
   "outputs": [
    {
     "name": "stdout",
     "output_type": "stream",
     "text": [
      "Datacubes:\n"
     ]
    },
    {
     "data": {
      "text/plain": [
       "[<DataCube 'flux', release='DR15', unit='1e-17 erg / (Angstrom cm2 s spaxel)'>,\n",
       " <DataCube 'dispersion', release='DR15', unit='Angstrom'>,\n",
       " <DataCube 'dispersion_prepixel', release='DR15', unit='Angstrom'>]"
      ]
     },
     "execution_count": 10,
     "metadata": {},
     "output_type": "execute_result"
    }
   ],
   "source": [
    "# see what datacubes are available\n",
    "print('Datacubes:')\n",
    "datamodel.datacubes"
   ]
  },
  {
   "cell_type": "code",
   "execution_count": 11,
   "metadata": {},
   "outputs": [
    {
     "name": "stdout",
     "output_type": "stream",
     "text": [
      "Spectra:\n"
     ]
    },
    {
     "data": {
      "text/plain": [
       "[<Spectrum 'spectral_resolution', release='DR15', unit='Angstrom'>,\n",
       " <Spectrum 'spectral_resolution_prepixel', release='DR15', unit='Angstrom'>]"
      ]
     },
     "execution_count": 11,
     "metadata": {},
     "output_type": "execute_result"
    }
   ],
   "source": [
    "# see what additional spectral extensions are available\n",
    "print('Spectra:')\n",
    "datamodel.spectra"
   ]
  },
  {
   "cell_type": "markdown",
   "metadata": {},
   "source": [
    "This tells us that this cube has three associated 3D datacubes, ``flux``, ``dispersion``, and ``dispersion_prepixel``, and two associated spectra, ``spectral_resolution`` and ``spectral_resolution_prepixel``, as well as their associated units. The ``description`` attribute provides information on what the extension is.  "
   ]
  },
  {
   "cell_type": "code",
   "execution_count": 12,
   "metadata": {},
   "outputs": [
    {
     "name": "stdout",
     "output_type": "stream",
     "text": [
      "Flux description: 3D rectified cube\n",
      "Spectral Resolution description: Median spectral resolution as a function of wavelength for the fibers in this IFU\n"
     ]
    }
   ],
   "source": [
    "print('Flux description:', datamodel.datacubes.flux.description)\n",
    "print('Spectral Resolution description:', datamodel.spectra.spectral_resolution.description)"
   ]
  },
  {
   "cell_type": "markdown",
   "metadata": {},
   "source": [
    "The names of each of the datacubes and spectral extensions are available as object attributes and can be used to access the associated data quantity.  Let's access the ``flux`` for our current cube.  "
   ]
  },
  {
   "cell_type": "code",
   "execution_count": 13,
   "metadata": {},
   "outputs": [
    {
     "data": {
      "text/latex": [
       "$[[[0,~0,~0,~\\dots,~0,~0,~0],~\n",
       "  [0,~0,~0,~\\dots,~0,~0,~0],~\n",
       "  [0,~0,~0,~\\dots,~0,~0,~0],~\n",
       "  \\dots,~\n",
       "  [0,~0,~0,~\\dots,~0,~0,~0],~\n",
       "  [0,~0,~0,~\\dots,~0,~0,~0],~\n",
       "  [0,~0,~0,~\\dots,~0,~0,~0]],~\n",
       "\n",
       " [[0,~0,~0,~\\dots,~0,~0,~0],~\n",
       "  [0,~0,~0,~\\dots,~0,~0,~0],~\n",
       "  [0,~0,~0,~\\dots,~0,~0,~0],~\n",
       "  \\dots,~\n",
       "  [0,~0,~0,~\\dots,~0,~0,~0],~\n",
       "  [0,~0,~0,~\\dots,~0,~0,~0],~\n",
       "  [0,~0,~0,~\\dots,~0,~0,~0]],~\n",
       "\n",
       " [[0,~0,~0,~\\dots,~0,~0,~0],~\n",
       "  [0,~0,~0,~\\dots,~0,~0,~0],~\n",
       "  [0,~0,~0,~\\dots,~0,~0,~0],~\n",
       "  \\dots,~\n",
       "  [0,~0,~0,~\\dots,~0,~0,~0],~\n",
       "  [0,~0,~0,~\\dots,~0,~0,~0],~\n",
       "  [0,~0,~0,~\\dots,~0,~0,~0]],~\n",
       "\n",
       " \\dots,~\n",
       "\n",
       " [[0,~0,~0,~\\dots,~0,~0,~0],~\n",
       "  [0,~0,~0,~\\dots,~0,~0,~0],~\n",
       "  [0,~0,~0,~\\dots,~0,~0,~0],~\n",
       "  \\dots,~\n",
       "  [0,~0,~0,~\\dots,~0,~0,~0],~\n",
       "  [0,~0,~0,~\\dots,~0,~0,~0],~\n",
       "  [0,~0,~0,~\\dots,~0,~0,~0]],~\n",
       "\n",
       " [[0,~0,~0,~\\dots,~0,~0,~0],~\n",
       "  [0,~0,~0,~\\dots,~0,~0,~0],~\n",
       "  [0,~0,~0,~\\dots,~0,~0,~0],~\n",
       "  \\dots,~\n",
       "  [0,~0,~0,~\\dots,~0,~0,~0],~\n",
       "  [0,~0,~0,~\\dots,~0,~0,~0],~\n",
       "  [0,~0,~0,~\\dots,~0,~0,~0]],~\n",
       "\n",
       " [[0,~0,~0,~\\dots,~0,~0,~0],~\n",
       "  [0,~0,~0,~\\dots,~0,~0,~0],~\n",
       "  [0,~0,~0,~\\dots,~0,~0,~0],~\n",
       "  \\dots,~\n",
       "  [0,~0,~0,~\\dots,~0,~0,~0],~\n",
       "  [0,~0,~0,~\\dots,~0,~0,~0],~\n",
       "  [0,~0,~0,~\\dots,~0,~0,~0]]] \\; \\mathrm{1 \\times 10^{-17}\\,\\frac{erg}{\\mathring{A}\\,s\\,spaxel\\,cm^{2}}}$"
      ],
      "text/plain": [
       "<DataCube [[[0., 0., 0., ..., 0., 0., 0.],\n",
       "            [0., 0., 0., ..., 0., 0., 0.],\n",
       "            [0., 0., 0., ..., 0., 0., 0.],\n",
       "            ...,\n",
       "            [0., 0., 0., ..., 0., 0., 0.],\n",
       "            [0., 0., 0., ..., 0., 0., 0.],\n",
       "            [0., 0., 0., ..., 0., 0., 0.]],\n",
       "\n",
       "           [[0., 0., 0., ..., 0., 0., 0.],\n",
       "            [0., 0., 0., ..., 0., 0., 0.],\n",
       "            [0., 0., 0., ..., 0., 0., 0.],\n",
       "            ...,\n",
       "            [0., 0., 0., ..., 0., 0., 0.],\n",
       "            [0., 0., 0., ..., 0., 0., 0.],\n",
       "            [0., 0., 0., ..., 0., 0., 0.]],\n",
       "\n",
       "           [[0., 0., 0., ..., 0., 0., 0.],\n",
       "            [0., 0., 0., ..., 0., 0., 0.],\n",
       "            [0., 0., 0., ..., 0., 0., 0.],\n",
       "            ...,\n",
       "            [0., 0., 0., ..., 0., 0., 0.],\n",
       "            [0., 0., 0., ..., 0., 0., 0.],\n",
       "            [0., 0., 0., ..., 0., 0., 0.]],\n",
       "\n",
       "           ...,\n",
       "\n",
       "           [[0., 0., 0., ..., 0., 0., 0.],\n",
       "            [0., 0., 0., ..., 0., 0., 0.],\n",
       "            [0., 0., 0., ..., 0., 0., 0.],\n",
       "            ...,\n",
       "            [0., 0., 0., ..., 0., 0., 0.],\n",
       "            [0., 0., 0., ..., 0., 0., 0.],\n",
       "            [0., 0., 0., ..., 0., 0., 0.]],\n",
       "\n",
       "           [[0., 0., 0., ..., 0., 0., 0.],\n",
       "            [0., 0., 0., ..., 0., 0., 0.],\n",
       "            [0., 0., 0., ..., 0., 0., 0.],\n",
       "            ...,\n",
       "            [0., 0., 0., ..., 0., 0., 0.],\n",
       "            [0., 0., 0., ..., 0., 0., 0.],\n",
       "            [0., 0., 0., ..., 0., 0., 0.]],\n",
       "\n",
       "           [[0., 0., 0., ..., 0., 0., 0.],\n",
       "            [0., 0., 0., ..., 0., 0., 0.],\n",
       "            [0., 0., 0., ..., 0., 0., 0.],\n",
       "            ...,\n",
       "            [0., 0., 0., ..., 0., 0., 0.],\n",
       "            [0., 0., 0., ..., 0., 0., 0.],\n",
       "            [0., 0., 0., ..., 0., 0., 0.]]] 1e-17 erg / (Angstrom cm2 s spaxel)>"
      ]
     },
     "execution_count": 13,
     "metadata": {},
     "output_type": "execute_result"
    }
   ],
   "source": [
    "flux = cube.flux\n",
    "flux"
   ]
  },
  {
   "cell_type": "markdown",
   "metadata": {},
   "source": [
    "The flux is represented as a 3D array with units. We can also access the inverse variance and the mask using ``flux.ivar`` and ``flux.mask``, respectively.  Marvin uses [Astropy quantities](https://sdss-marvin.readthedocs.io/en/stable/getting-started.html#marvin-quantities) to represent all internal multidimensional data, e.g. 3-d datacube and 2-d map arrays, or 1-d spectral data.  \n",
    "\n",
    "<a id=\"extract\"></a>\n",
    "### Extracting data\n",
    "All marvin arrays can be sliced to extract subsets of data.  Slices of datacubes produce new datacubes.  Slices of spectra produce new spectra.  A single slice from a datacube extracts a spectrum.  Each spectrum can be easily displayed with its ``plot`` attribute.        "
   ]
  },
  {
   "cell_type": "code",
   "execution_count": 14,
   "metadata": {},
   "outputs": [
    {
     "data": {
      "text/latex": [
       "$[[[-0.091659956,~-0.057862502,~-0.069440775,~\\dots,~0.053298473,~0.062018514,~0.061692294],~\n",
       "  [-0.039790876,~0.0012025207,~0.020654099,~\\dots,~0.10088551,~0.086681418,~0.077831492],~\n",
       "  [0.019458937,~0.077283047,~0.10514027,~\\dots,~0.20350538,~0.14156495,~0.095826343],~\n",
       "  \\dots,~\n",
       "  [0.11238833,~0.210729,~0.26030195,~\\dots,~0.31280893,~0.15664732,~0.045407701],~\n",
       "  [0.10175533,~0.16688073,~0.1919646,~\\dots,~0.25600749,~0.17017685,~0.085642852],~\n",
       "  [0.054798402,~0.090783022,~0.094782196,~\\dots,~0.19204016,~0.14744423,~0.092620544]],~\n",
       "\n",
       " [[0.082437925,~0.13506371,~0.15769725,~\\dots,~-0.017692961,~-0.0091365296,~-0.011535237],~\n",
       "  [0.08238145,~0.14059068,~0.20465873,~\\dots,~0.00030586062,~0.015362157,~0.02579339],~\n",
       "  [0.10742286,~0.19580711,~0.26307943,~\\dots,~0.090322539,~0.099070497,~0.10215754],~\n",
       "  \\dots,~\n",
       "  [0.13724391,~0.24727274,~0.32436091,~\\dots,~0.20887852,~0.1519153,~0.08934544],~\n",
       "  [0.071373947,~0.18353277,~0.279935,~\\dots,~0.19906537,~0.19028623,~0.14837392],~\n",
       "  [0.03953917,~0.1445726,~0.23140128,~\\dots,~0.19428748,~0.18247326,~0.14610548]],~\n",
       "\n",
       " [[0.080393434,~0.15365259,~0.17991598,~\\dots,~0.11157861,~0.14622529,~0.13381542],~\n",
       "  [0.063174374,~0.13302146,~0.19359955,~\\dots,~0.092888884,~0.12845202,~0.13867338],~\n",
       "  [0.073336095,~0.15482704,~0.22972785,~\\dots,~0.12644014,~0.12638213,~0.12386632],~\n",
       "  \\dots,~\n",
       "  [0.13358407,~0.20693749,~0.2933836,~\\dots,~0.29559252,~0.25168392,~0.22717273],~\n",
       "  [0.068491481,~0.16247286,~0.27922529,~\\dots,~0.2724455,~0.24940087,~0.24897653],~\n",
       "  [0.025780736,~0.14267682,~0.24933307,~\\dots,~0.25498557,~0.22155441,~0.18757398]],~\n",
       "\n",
       " \\dots,~\n",
       "\n",
       " [[0,~0,~0,~\\dots,~0,~0,~0],~\n",
       "  [0,~0,~0,~\\dots,~0,~0,~0],~\n",
       "  [0,~0,~0,~\\dots,~0,~0,~0],~\n",
       "  \\dots,~\n",
       "  [0,~0,~0,~\\dots,~0,~0,~0],~\n",
       "  [0,~0,~0,~\\dots,~0,~0,~0],~\n",
       "  [0,~0,~0,~\\dots,~0,~0,~0]],~\n",
       "\n",
       " [[0,~0,~0,~\\dots,~0,~0,~0],~\n",
       "  [0,~0,~0,~\\dots,~0,~0,~0],~\n",
       "  [0,~0,~0,~\\dots,~0,~0,~0],~\n",
       "  \\dots,~\n",
       "  [0,~0,~0,~\\dots,~0,~0,~0],~\n",
       "  [0,~0,~0,~\\dots,~0,~0,~0],~\n",
       "  [0,~0,~0,~\\dots,~0,~0,~0]],~\n",
       "\n",
       " [[0,~0,~0,~\\dots,~0,~0,~0],~\n",
       "  [0,~0,~0,~\\dots,~0,~0,~0],~\n",
       "  [0,~0,~0,~\\dots,~0,~0,~0],~\n",
       "  \\dots,~\n",
       "  [0,~0,~0,~\\dots,~0,~0,~0],~\n",
       "  [0,~0,~0,~\\dots,~0,~0,~0],~\n",
       "  [0,~0,~0,~\\dots,~0,~0,~0]]] \\; \\mathrm{1 \\times 10^{-17}\\,\\frac{erg}{\\mathring{A}\\,s\\,spaxel\\,cm^{2}}}$"
      ],
      "text/plain": [
       "<DataCube [[[-9.16599557e-02, -5.78625016e-02, -6.94407746e-02, ...,\n",
       "              5.32984734e-02,  6.20185137e-02,  6.16922937e-02],\n",
       "            [-3.97908762e-02,  1.20252068e-03,  2.06540991e-02, ...,\n",
       "              1.00885510e-01,  8.66814181e-02,  7.78314918e-02],\n",
       "            [ 1.94589365e-02,  7.72830471e-02,  1.05140269e-01, ...,\n",
       "              2.03505382e-01,  1.41564950e-01,  9.58263427e-02],\n",
       "            ...,\n",
       "            [ 1.12388328e-01,  2.10729003e-01,  2.60301948e-01, ...,\n",
       "              3.12808931e-01,  1.56647325e-01,  4.54077013e-02],\n",
       "            [ 1.01755328e-01,  1.66880727e-01,  1.91964597e-01, ...,\n",
       "              2.56007493e-01,  1.70176849e-01,  8.56428519e-02],\n",
       "            [ 5.47984019e-02,  9.07830223e-02,  9.47821960e-02, ...,\n",
       "              1.92040160e-01,  1.47444233e-01,  9.26205441e-02]],\n",
       "\n",
       "           [[ 8.24379250e-02,  1.35063708e-01,  1.57697245e-01, ...,\n",
       "             -1.76929608e-02, -9.13652964e-03, -1.15352366e-02],\n",
       "            [ 8.23814496e-02,  1.40590683e-01,  2.04658732e-01, ...,\n",
       "              3.05860623e-04,  1.53621566e-02,  2.57933903e-02],\n",
       "            [ 1.07422858e-01,  1.95807114e-01,  2.63079435e-01, ...,\n",
       "              9.03225392e-02,  9.90704969e-02,  1.02157541e-01],\n",
       "            ...,\n",
       "            [ 1.37243912e-01,  2.47272745e-01,  3.24360907e-01, ...,\n",
       "              2.08878517e-01,  1.51915297e-01,  8.93454403e-02],\n",
       "            [ 7.13739470e-02,  1.83532774e-01,  2.79935002e-01, ...,\n",
       "              1.99065372e-01,  1.90286234e-01,  1.48373917e-01],\n",
       "            [ 3.95391695e-02,  1.44572601e-01,  2.31401280e-01, ...,\n",
       "              1.94287479e-01,  1.82473257e-01,  1.46105483e-01]],\n",
       "\n",
       "           [[ 8.03934336e-02,  1.53652593e-01,  1.79915980e-01, ...,\n",
       "              1.11578606e-01,  1.46225289e-01,  1.33815423e-01],\n",
       "            [ 6.31743744e-02,  1.33021459e-01,  1.93599552e-01, ...,\n",
       "              9.28888842e-02,  1.28452018e-01,  1.38673380e-01],\n",
       "            [ 7.33360946e-02,  1.54827043e-01,  2.29727849e-01, ...,\n",
       "              1.26440138e-01,  1.26382127e-01,  1.23866320e-01],\n",
       "            ...,\n",
       "            [ 1.33584067e-01,  2.06937492e-01,  2.93383598e-01, ...,\n",
       "              2.95592517e-01,  2.51683921e-01,  2.27172732e-01],\n",
       "            [ 6.84914812e-02,  1.62472859e-01,  2.79225290e-01, ...,\n",
       "              2.72445500e-01,  2.49400869e-01,  2.48976529e-01],\n",
       "            [ 2.57807355e-02,  1.42676815e-01,  2.49333069e-01, ...,\n",
       "              2.54985571e-01,  2.21554413e-01,  1.87573984e-01]],\n",
       "\n",
       "           ...,\n",
       "\n",
       "           [[ 0.00000000e+00,  0.00000000e+00,  0.00000000e+00, ...,\n",
       "              0.00000000e+00,  0.00000000e+00,  0.00000000e+00],\n",
       "            [ 0.00000000e+00,  0.00000000e+00,  0.00000000e+00, ...,\n",
       "              0.00000000e+00,  0.00000000e+00,  0.00000000e+00],\n",
       "            [ 0.00000000e+00,  0.00000000e+00,  0.00000000e+00, ...,\n",
       "              0.00000000e+00,  0.00000000e+00,  0.00000000e+00],\n",
       "            ...,\n",
       "            [ 0.00000000e+00,  0.00000000e+00,  0.00000000e+00, ...,\n",
       "              0.00000000e+00,  0.00000000e+00,  0.00000000e+00],\n",
       "            [ 0.00000000e+00,  0.00000000e+00,  0.00000000e+00, ...,\n",
       "              0.00000000e+00,  0.00000000e+00,  0.00000000e+00],\n",
       "            [ 0.00000000e+00,  0.00000000e+00,  0.00000000e+00, ...,\n",
       "              0.00000000e+00,  0.00000000e+00,  0.00000000e+00]],\n",
       "\n",
       "           [[ 0.00000000e+00,  0.00000000e+00,  0.00000000e+00, ...,\n",
       "              0.00000000e+00,  0.00000000e+00,  0.00000000e+00],\n",
       "            [ 0.00000000e+00,  0.00000000e+00,  0.00000000e+00, ...,\n",
       "              0.00000000e+00,  0.00000000e+00,  0.00000000e+00],\n",
       "            [ 0.00000000e+00,  0.00000000e+00,  0.00000000e+00, ...,\n",
       "              0.00000000e+00,  0.00000000e+00,  0.00000000e+00],\n",
       "            ...,\n",
       "            [ 0.00000000e+00,  0.00000000e+00,  0.00000000e+00, ...,\n",
       "              0.00000000e+00,  0.00000000e+00,  0.00000000e+00],\n",
       "            [ 0.00000000e+00,  0.00000000e+00,  0.00000000e+00, ...,\n",
       "              0.00000000e+00,  0.00000000e+00,  0.00000000e+00],\n",
       "            [ 0.00000000e+00,  0.00000000e+00,  0.00000000e+00, ...,\n",
       "              0.00000000e+00,  0.00000000e+00,  0.00000000e+00]],\n",
       "\n",
       "           [[ 0.00000000e+00,  0.00000000e+00,  0.00000000e+00, ...,\n",
       "              0.00000000e+00,  0.00000000e+00,  0.00000000e+00],\n",
       "            [ 0.00000000e+00,  0.00000000e+00,  0.00000000e+00, ...,\n",
       "              0.00000000e+00,  0.00000000e+00,  0.00000000e+00],\n",
       "            [ 0.00000000e+00,  0.00000000e+00,  0.00000000e+00, ...,\n",
       "              0.00000000e+00,  0.00000000e+00,  0.00000000e+00],\n",
       "            ...,\n",
       "            [ 0.00000000e+00,  0.00000000e+00,  0.00000000e+00, ...,\n",
       "              0.00000000e+00,  0.00000000e+00,  0.00000000e+00],\n",
       "            [ 0.00000000e+00,  0.00000000e+00,  0.00000000e+00, ...,\n",
       "              0.00000000e+00,  0.00000000e+00,  0.00000000e+00],\n",
       "            [ 0.00000000e+00,  0.00000000e+00,  0.00000000e+00, ...,\n",
       "              0.00000000e+00,  0.00000000e+00,  0.00000000e+00]]] 1e-17 erg / (Angstrom cm2 s spaxel)>"
      ]
     },
     "execution_count": 14,
     "metadata": {},
     "output_type": "execute_result"
    }
   ],
   "source": [
    "# create a small datacube subset in a 10x10 pixel region around the center of the target\n",
    "central_pixel = int(cube.flux.shape[1]/2)\n",
    "lo = central_pixel - 5\n",
    "hi = central_pixel + 5\n",
    "subset = flux[:, lo:hi, lo:hi]\n",
    "subset"
   ]
  },
  {
   "cell_type": "code",
   "execution_count": 15,
   "metadata": {},
   "outputs": [
    {
     "data": {
      "text/latex": [
       "$[0.51865631,~0.43517455,~0.41204447,~\\dots,~0,~0,~0] \\; \\mathrm{1 \\times 10^{-17}\\,\\frac{erg}{\\mathring{A}\\,s\\,spaxel\\,cm^{2}}}$"
      ],
      "text/plain": [
       "<Spectrum [0.51865631, 0.43517455, 0.41204447, ..., 0.        , 0.        ,\n",
       "           0.        ] 1e-17 erg / (Angstrom cm2 s spaxel)>"
      ]
     },
     "execution_count": 15,
     "metadata": {},
     "output_type": "execute_result"
    }
   ],
   "source": [
    "# extract a single spectrum and display it\n",
    "spectrum = flux[:, 16, 17]\n",
    "spectrum"
   ]
  },
  {
   "cell_type": "code",
   "execution_count": 16,
   "metadata": {},
   "outputs": [
    {
     "name": "stderr",
     "output_type": "stream",
     "text": [
      "\u001b[1;33m[WARNING]: \u001b[0m\u001b[0;39mThe truth value of a Quantity is ambiguous. In the future this will raise a ValueError.\u001b[0m \u001b[0;36m(AstropyDeprecationWarning)\u001b[0m\n"
     ]
    },
    {
     "data": {
      "text/plain": [
       "<AxesSubplot:xlabel='$\\\\mathrm{Wavelength}\\\\,[$$\\\\mathrm{\\\\mathring{A}}$$]$', ylabel='$\\\\mathrm{Flux}\\\\,[$$\\\\mathrm{1 \\\\times 10^{-17}\\\\,erg\\\\,\\\\mathring{A}^{-1}\\\\,s^{-1}\\\\,spaxel^{-1}\\\\,cm^{-2}}$$]$'>"
      ]
     },
     "execution_count": 16,
     "metadata": {},
     "output_type": "execute_result"
    },
    {
     "data": {
      "image/png": "[encoded data removed]",
      "text/plain": [
       "<Figure size 432x288 with 1 Axes>"
      ]
     },
     "metadata": {},
     "output_type": "display_data"
    }
   ],
   "source": [
    "spectrum.plot(show_std=True)"
   ]
  },
  {
   "cell_type": "markdown",
   "metadata": {},
   "source": [
    "<a id=\"associates\"></a>\n",
    "### Accessing Associated Objects\n",
    "\n",
    "For a given target galaxy, there are many associated MaNGA Data Products from both the reduction and analysis pipelines.  Marvin seamlessly connects these together so you don't have to access them individually.  Let's access the DAP Maps objects associated with our cube.  To do so we use the ``getMaps`` method on ``cube``.  All instances have ``getXXX`` methods that allow you to access associated data objects for a given target.  "
   ]
  },
  {
   "cell_type": "markdown",
   "metadata": {},
   "source": [
    "### Question : Are the getMaps and utils.Maps any different?\n",
    "##### It seems like they are, but just wanted to know why they are different and how"
   ]
  },
  {
   "cell_type": "code",
   "execution_count": 23,
   "metadata": {},
   "outputs": [
    {
     "data": {
      "text/plain": [
       "marvin.tools.maps.Maps"
      ]
     },
     "execution_count": 23,
     "metadata": {},
     "output_type": "execute_result"
    }
   ],
   "source": [
    "# access the Maps object from our cube\n",
    "maps = cube.getMaps()\n",
    "type(maps)"
   ]
  },
  {
   "cell_type": "markdown",
   "metadata": {},
   "source": [
    "When accessing associated objects, Marvin also smartly determines whether to open the file locally or remotely grab it over the API.  In our case, the **mode** is local and **data_origin** is file.  DAP Maps have different bintypes.  The default binning is **HYB10**, a hybrid binning scheme to S/N~10.  To load a different bintype, use the ``bintype`` keyword argument in the ``cube.getMaps`` method.    "
   ]
  },
  {
   "cell_type": "markdown",
   "metadata": {},
   "source": [
    "### What is a bintype?"
   ]
  },
  {
   "cell_type": "code",
   "execution_count": 19,
   "metadata": {},
   "outputs": [],
   "source": [
    "from marvin.tools import Maps"
   ]
  },
  {
   "cell_type": "code",
   "execution_count": 20,
   "metadata": {},
   "outputs": [],
   "source": [
    "trial_map = Maps('8485-1901')"
   ]
  },
  {
   "cell_type": "code",
   "execution_count": 22,
   "metadata": {},
   "outputs": [
    {
     "data": {
      "text/plain": [
       "marvin.tools.maps.Maps"
      ]
     },
     "execution_count": 22,
     "metadata": {},
     "output_type": "execute_result"
    }
   ],
   "source": [
    "type(trial_map)"
   ]
  },
  {
   "cell_type": "markdown",
   "metadata": {},
   "source": [
    "A ``Maps`` behaves very similarly to a ``Cube`` and everything we have discussed above will still work. Instead of datacubes and spectra, a ``Maps`` object contains a set of 2D quantities called ``Map``, each one of them representing a different property measured by the DAP. One can get a full list of all the properties available using the datamodel."
   ]
  },
  {
   "cell_type": "code",
   "execution_count": 88,
   "metadata": {},
   "outputs": [
    {
     "data": {
      "text/plain": [
       "[<Property 'spx_skycoo', channel='on_sky_x', release='2.2.1', unit='arcsec'>,\n",
       " <Property 'spx_skycoo', channel='on_sky_y', release='2.2.1', unit='arcsec'>,\n",
       " <Property 'spx_ellcoo', channel='elliptical_radius', release='2.2.1', unit='arcsec'>,\n",
       " <Property 'spx_ellcoo', channel='r_re', release='2.2.1', unit=''>,\n",
       " <Property 'spx_ellcoo', channel='elliptical_azimuth', release='2.2.1', unit='deg'>,\n",
       " <Property 'spx_mflux', channel='None', release='2.2.1', unit='1e-17 erg / (cm2 s spaxel)'>,\n",
       " <Property 'spx_snr', channel='None', release='2.2.1', unit=''>,\n",
       " <Property 'binid', channel='binned_spectra', release='2.2.1', unit=''>,\n",
       " <Property 'binid', channel='stellar_continua', release='2.2.1', unit=''>,\n",
       " <Property 'binid', channel='em_line_moments', release='2.2.1', unit=''>,\n",
       " <Property 'binid', channel='em_line_models', release='2.2.1', unit=''>,\n",
       " <Property 'binid', channel='spectral_indices', release='2.2.1', unit=''>,\n",
       " <Property 'bin_lwskycoo', channel='lum_weighted_on_sky_x', release='2.2.1', unit='arcsec'>,\n",
       " <Property 'bin_lwskycoo', channel='lum_weighted_on_sky_y', release='2.2.1', unit='arcsec'>,\n",
       " <Property 'bin_lwellcoo', channel='lum_weighted_elliptical_radius', release='2.2.1', unit='arcsec'>,\n",
       " <Property 'bin_lwellcoo', channel='r_re', release='2.2.1', unit=''>,\n",
       " <Property 'bin_lwellcoo', channel='lum_weighted_elliptical_azimuth', release='2.2.1', unit='deg'>,\n",
       " <Property 'bin_area', channel='None', release='2.2.1', unit='arcsec2'>,\n",
       " <Property 'bin_farea', channel='None', release='2.2.1', unit=''>,\n",
       " <Property 'bin_mflux', channel='None', release='2.2.1', unit='1e-17 erg / (cm2 s spaxel)'>,\n",
       " <Property 'bin_snr', channel='None', release='2.2.1', unit=''>,\n",
       " <Property 'stellar_vel', channel='None', release='2.2.1', unit='km / s'>,\n",
       " <Property 'stellar_sigma', channel='None', release='2.2.1', unit='km / s'>,\n",
       " <Property 'stellar_sigmacorr', channel='None', release='2.2.1', unit='km / s'>,\n",
       " <Property 'stellar_cont_fresid', channel='68th_percentile', release='2.2.1', unit=''>,\n",
       " <Property 'stellar_cont_fresid', channel='99th_percentile', release='2.2.1', unit=''>,\n",
       " <Property 'stellar_cont_rchi2', channel='None', release='2.2.1', unit=''>,\n",
       " <Property 'emline_sflux', channel='oiid_3728', release='2.2.1', unit='1e-17 erg / (cm2 s spaxel)'>,\n",
       " <Property 'emline_sflux', channel='oii_3729', release='2.2.1', unit='1e-17 erg / (cm2 s spaxel)'>,\n",
       " <Property 'emline_sflux', channel='hthe_3798', release='2.2.1', unit='1e-17 erg / (cm2 s spaxel)'>,\n",
       " <Property 'emline_sflux', channel='heta_3836', release='2.2.1', unit='1e-17 erg / (cm2 s spaxel)'>,\n",
       " <Property 'emline_sflux', channel='neiii_3869', release='2.2.1', unit='1e-17 erg / (cm2 s spaxel)'>,\n",
       " <Property 'emline_sflux', channel='hzet_3890', release='2.2.1', unit='1e-17 erg / (cm2 s spaxel)'>,\n",
       " <Property 'emline_sflux', channel='neiii_3968', release='2.2.1', unit='1e-17 erg / (cm2 s spaxel)'>,\n",
       " <Property 'emline_sflux', channel='heps_3971', release='2.2.1', unit='1e-17 erg / (cm2 s spaxel)'>,\n",
       " <Property 'emline_sflux', channel='hdel_4102', release='2.2.1', unit='1e-17 erg / (cm2 s spaxel)'>,\n",
       " <Property 'emline_sflux', channel='hgam_4341', release='2.2.1', unit='1e-17 erg / (cm2 s spaxel)'>,\n",
       " <Property 'emline_sflux', channel='heii_4687', release='2.2.1', unit='1e-17 erg / (cm2 s spaxel)'>,\n",
       " <Property 'emline_sflux', channel='hb_4862', release='2.2.1', unit='1e-17 erg / (cm2 s spaxel)'>,\n",
       " <Property 'emline_sflux', channel='oiii_4960', release='2.2.1', unit='1e-17 erg / (cm2 s spaxel)'>,\n",
       " <Property 'emline_sflux', channel='oiii_5008', release='2.2.1', unit='1e-17 erg / (cm2 s spaxel)'>,\n",
       " <Property 'emline_sflux', channel='hei_5877', release='2.2.1', unit='1e-17 erg / (cm2 s spaxel)'>,\n",
       " <Property 'emline_sflux', channel='oi_6302', release='2.2.1', unit='1e-17 erg / (cm2 s spaxel)'>,\n",
       " <Property 'emline_sflux', channel='oi_6365', release='2.2.1', unit='1e-17 erg / (cm2 s spaxel)'>,\n",
       " <Property 'emline_sflux', channel='nii_6549', release='2.2.1', unit='1e-17 erg / (cm2 s spaxel)'>,\n",
       " <Property 'emline_sflux', channel='ha_6564', release='2.2.1', unit='1e-17 erg / (cm2 s spaxel)'>,\n",
       " <Property 'emline_sflux', channel='nii_6585', release='2.2.1', unit='1e-17 erg / (cm2 s spaxel)'>,\n",
       " <Property 'emline_sflux', channel='sii_6718', release='2.2.1', unit='1e-17 erg / (cm2 s spaxel)'>,\n",
       " <Property 'emline_sflux', channel='sii_6732', release='2.2.1', unit='1e-17 erg / (cm2 s spaxel)'>,\n",
       " <Property 'emline_sew', channel='oiid_3728', release='2.2.1', unit='Angstrom'>,\n",
       " <Property 'emline_sew', channel='oii_3729', release='2.2.1', unit='Angstrom'>,\n",
       " <Property 'emline_sew', channel='hthe_3798', release='2.2.1', unit='Angstrom'>,\n",
       " <Property 'emline_sew', channel='heta_3836', release='2.2.1', unit='Angstrom'>,\n",
       " <Property 'emline_sew', channel='neiii_3869', release='2.2.1', unit='Angstrom'>,\n",
       " <Property 'emline_sew', channel='hzet_3890', release='2.2.1', unit='Angstrom'>,\n",
       " <Property 'emline_sew', channel='neiii_3968', release='2.2.1', unit='Angstrom'>,\n",
       " <Property 'emline_sew', channel='heps_3971', release='2.2.1', unit='Angstrom'>,\n",
       " <Property 'emline_sew', channel='hdel_4102', release='2.2.1', unit='Angstrom'>,\n",
       " <Property 'emline_sew', channel='hgam_4341', release='2.2.1', unit='Angstrom'>,\n",
       " <Property 'emline_sew', channel='heii_4687', release='2.2.1', unit='Angstrom'>,\n",
       " <Property 'emline_sew', channel='hb_4862', release='2.2.1', unit='Angstrom'>,\n",
       " <Property 'emline_sew', channel='oiii_4960', release='2.2.1', unit='Angstrom'>,\n",
       " <Property 'emline_sew', channel='oiii_5008', release='2.2.1', unit='Angstrom'>,\n",
       " <Property 'emline_sew', channel='hei_5877', release='2.2.1', unit='Angstrom'>,\n",
       " <Property 'emline_sew', channel='oi_6302', release='2.2.1', unit='Angstrom'>,\n",
       " <Property 'emline_sew', channel='oi_6365', release='2.2.1', unit='Angstrom'>,\n",
       " <Property 'emline_sew', channel='nii_6549', release='2.2.1', unit='Angstrom'>,\n",
       " <Property 'emline_sew', channel='ha_6564', release='2.2.1', unit='Angstrom'>,\n",
       " <Property 'emline_sew', channel='nii_6585', release='2.2.1', unit='Angstrom'>,\n",
       " <Property 'emline_sew', channel='sii_6718', release='2.2.1', unit='Angstrom'>,\n",
       " <Property 'emline_sew', channel='sii_6732', release='2.2.1', unit='Angstrom'>,\n",
       " <Property 'emline_gflux', channel='oii_3727', release='2.2.1', unit='1e-17 erg / (cm2 s spaxel)'>,\n",
       " <Property 'emline_gflux', channel='oii_3729', release='2.2.1', unit='1e-17 erg / (cm2 s spaxel)'>,\n",
       " <Property 'emline_gflux', channel='hthe_3798', release='2.2.1', unit='1e-17 erg / (cm2 s spaxel)'>,\n",
       " <Property 'emline_gflux', channel='heta_3836', release='2.2.1', unit='1e-17 erg / (cm2 s spaxel)'>,\n",
       " <Property 'emline_gflux', channel='neiii_3869', release='2.2.1', unit='1e-17 erg / (cm2 s spaxel)'>,\n",
       " <Property 'emline_gflux', channel='hzet_3890', release='2.2.1', unit='1e-17 erg / (cm2 s spaxel)'>,\n",
       " <Property 'emline_gflux', channel='neiii_3968', release='2.2.1', unit='1e-17 erg / (cm2 s spaxel)'>,\n",
       " <Property 'emline_gflux', channel='heps_3971', release='2.2.1', unit='1e-17 erg / (cm2 s spaxel)'>,\n",
       " <Property 'emline_gflux', channel='hdel_4102', release='2.2.1', unit='1e-17 erg / (cm2 s spaxel)'>,\n",
       " <Property 'emline_gflux', channel='hgam_4341', release='2.2.1', unit='1e-17 erg / (cm2 s spaxel)'>,\n",
       " <Property 'emline_gflux', channel='heii_4687', release='2.2.1', unit='1e-17 erg / (cm2 s spaxel)'>,\n",
       " <Property 'emline_gflux', channel='hb_4862', release='2.2.1', unit='1e-17 erg / (cm2 s spaxel)'>,\n",
       " <Property 'emline_gflux', channel='oiii_4960', release='2.2.1', unit='1e-17 erg / (cm2 s spaxel)'>,\n",
       " <Property 'emline_gflux', channel='oiii_5008', release='2.2.1', unit='1e-17 erg / (cm2 s spaxel)'>,\n",
       " <Property 'emline_gflux', channel='hei_5877', release='2.2.1', unit='1e-17 erg / (cm2 s spaxel)'>,\n",
       " <Property 'emline_gflux', channel='oi_6302', release='2.2.1', unit='1e-17 erg / (cm2 s spaxel)'>,\n",
       " <Property 'emline_gflux', channel='oi_6365', release='2.2.1', unit='1e-17 erg / (cm2 s spaxel)'>,\n",
       " <Property 'emline_gflux', channel='nii_6549', release='2.2.1', unit='1e-17 erg / (cm2 s spaxel)'>,\n",
       " <Property 'emline_gflux', channel='ha_6564', release='2.2.1', unit='1e-17 erg / (cm2 s spaxel)'>,\n",
       " <Property 'emline_gflux', channel='nii_6585', release='2.2.1', unit='1e-17 erg / (cm2 s spaxel)'>,\n",
       " <Property 'emline_gflux', channel='sii_6718', release='2.2.1', unit='1e-17 erg / (cm2 s spaxel)'>,\n",
       " <Property 'emline_gflux', channel='sii_6732', release='2.2.1', unit='1e-17 erg / (cm2 s spaxel)'>,\n",
       " <Property 'emline_gvel', channel='oii_3727', release='2.2.1', unit='km / s'>,\n",
       " <Property 'emline_gvel', channel='oii_3729', release='2.2.1', unit='km / s'>,\n",
       " <Property 'emline_gvel', channel='hthe_3798', release='2.2.1', unit='km / s'>,\n",
       " <Property 'emline_gvel', channel='heta_3836', release='2.2.1', unit='km / s'>,\n",
       " <Property 'emline_gvel', channel='neiii_3869', release='2.2.1', unit='km / s'>,\n",
       " <Property 'emline_gvel', channel='hzet_3890', release='2.2.1', unit='km / s'>,\n",
       " <Property 'emline_gvel', channel='neiii_3968', release='2.2.1', unit='km / s'>,\n",
       " <Property 'emline_gvel', channel='heps_3971', release='2.2.1', unit='km / s'>,\n",
       " <Property 'emline_gvel', channel='hdel_4102', release='2.2.1', unit='km / s'>,\n",
       " <Property 'emline_gvel', channel='hgam_4341', release='2.2.1', unit='km / s'>,\n",
       " <Property 'emline_gvel', channel='heii_4687', release='2.2.1', unit='km / s'>,\n",
       " <Property 'emline_gvel', channel='hb_4862', release='2.2.1', unit='km / s'>,\n",
       " <Property 'emline_gvel', channel='oiii_4960', release='2.2.1', unit='km / s'>,\n",
       " <Property 'emline_gvel', channel='oiii_5008', release='2.2.1', unit='km / s'>,\n",
       " <Property 'emline_gvel', channel='hei_5877', release='2.2.1', unit='km / s'>,\n",
       " <Property 'emline_gvel', channel='oi_6302', release='2.2.1', unit='km / s'>,\n",
       " <Property 'emline_gvel', channel='oi_6365', release='2.2.1', unit='km / s'>,\n",
       " <Property 'emline_gvel', channel='nii_6549', release='2.2.1', unit='km / s'>,\n",
       " <Property 'emline_gvel', channel='ha_6564', release='2.2.1', unit='km / s'>,\n",
       " <Property 'emline_gvel', channel='nii_6585', release='2.2.1', unit='km / s'>,\n",
       " <Property 'emline_gvel', channel='sii_6718', release='2.2.1', unit='km / s'>,\n",
       " <Property 'emline_gvel', channel='sii_6732', release='2.2.1', unit='km / s'>,\n",
       " <Property 'emline_gew', channel='oii_3727', release='2.2.1', unit='Angstrom'>,\n",
       " <Property 'emline_gew', channel='oii_3729', release='2.2.1', unit='Angstrom'>,\n",
       " <Property 'emline_gew', channel='hthe_3798', release='2.2.1', unit='Angstrom'>,\n",
       " <Property 'emline_gew', channel='heta_3836', release='2.2.1', unit='Angstrom'>,\n",
       " <Property 'emline_gew', channel='neiii_3869', release='2.2.1', unit='Angstrom'>,\n",
       " <Property 'emline_gew', channel='hzet_3890', release='2.2.1', unit='Angstrom'>,\n",
       " <Property 'emline_gew', channel='neiii_3968', release='2.2.1', unit='Angstrom'>,\n",
       " <Property 'emline_gew', channel='heps_3971', release='2.2.1', unit='Angstrom'>,\n",
       " <Property 'emline_gew', channel='hdel_4102', release='2.2.1', unit='Angstrom'>,\n",
       " <Property 'emline_gew', channel='hgam_4341', release='2.2.1', unit='Angstrom'>,\n",
       " <Property 'emline_gew', channel='heii_4687', release='2.2.1', unit='Angstrom'>,\n",
       " <Property 'emline_gew', channel='hb_4862', release='2.2.1', unit='Angstrom'>,\n",
       " <Property 'emline_gew', channel='oiii_4960', release='2.2.1', unit='Angstrom'>,\n",
       " <Property 'emline_gew', channel='oiii_5008', release='2.2.1', unit='Angstrom'>,\n",
       " <Property 'emline_gew', channel='hei_5877', release='2.2.1', unit='Angstrom'>,\n",
       " <Property 'emline_gew', channel='oi_6302', release='2.2.1', unit='Angstrom'>,\n",
       " <Property 'emline_gew', channel='oi_6365', release='2.2.1', unit='Angstrom'>,\n",
       " <Property 'emline_gew', channel='nii_6549', release='2.2.1', unit='Angstrom'>,\n",
       " <Property 'emline_gew', channel='ha_6564', release='2.2.1', unit='Angstrom'>,\n",
       " <Property 'emline_gew', channel='nii_6585', release='2.2.1', unit='Angstrom'>,\n",
       " <Property 'emline_gew', channel='sii_6718', release='2.2.1', unit='Angstrom'>,\n",
       " <Property 'emline_gew', channel='sii_6732', release='2.2.1', unit='Angstrom'>,\n",
       " <Property 'emline_gsigma', channel='oii_3727', release='2.2.1', unit='km / s'>,\n",
       " <Property 'emline_gsigma', channel='oii_3729', release='2.2.1', unit='km / s'>,\n",
       " <Property 'emline_gsigma', channel='hthe_3798', release='2.2.1', unit='km / s'>,\n",
       " <Property 'emline_gsigma', channel='heta_3836', release='2.2.1', unit='km / s'>,\n",
       " <Property 'emline_gsigma', channel='neiii_3869', release='2.2.1', unit='km / s'>,\n",
       " <Property 'emline_gsigma', channel='hzet_3890', release='2.2.1', unit='km / s'>,\n",
       " <Property 'emline_gsigma', channel='neiii_3968', release='2.2.1', unit='km / s'>,\n",
       " <Property 'emline_gsigma', channel='heps_3971', release='2.2.1', unit='km / s'>,\n",
       " <Property 'emline_gsigma', channel='hdel_4102', release='2.2.1', unit='km / s'>,\n",
       " <Property 'emline_gsigma', channel='hgam_4341', release='2.2.1', unit='km / s'>,\n",
       " <Property 'emline_gsigma', channel='heii_4687', release='2.2.1', unit='km / s'>,\n",
       " <Property 'emline_gsigma', channel='hb_4862', release='2.2.1', unit='km / s'>,\n",
       " <Property 'emline_gsigma', channel='oiii_4960', release='2.2.1', unit='km / s'>,\n",
       " <Property 'emline_gsigma', channel='oiii_5008', release='2.2.1', unit='km / s'>,\n",
       " <Property 'emline_gsigma', channel='hei_5877', release='2.2.1', unit='km / s'>,\n",
       " <Property 'emline_gsigma', channel='oi_6302', release='2.2.1', unit='km / s'>,\n",
       " <Property 'emline_gsigma', channel='oi_6365', release='2.2.1', unit='km / s'>,\n",
       " <Property 'emline_gsigma', channel='nii_6549', release='2.2.1', unit='km / s'>,\n",
       " <Property 'emline_gsigma', channel='ha_6564', release='2.2.1', unit='km / s'>,\n",
       " <Property 'emline_gsigma', channel='nii_6585', release='2.2.1', unit='km / s'>,\n",
       " <Property 'emline_gsigma', channel='sii_6718', release='2.2.1', unit='km / s'>,\n",
       " <Property 'emline_gsigma', channel='sii_6732', release='2.2.1', unit='km / s'>,\n",
       " <Property 'emline_instsigma', channel='oii_3727', release='2.2.1', unit='km / s'>,\n",
       " <Property 'emline_instsigma', channel='oii_3729', release='2.2.1', unit='km / s'>,\n",
       " <Property 'emline_instsigma', channel='hthe_3798', release='2.2.1', unit='km / s'>,\n",
       " <Property 'emline_instsigma', channel='heta_3836', release='2.2.1', unit='km / s'>,\n",
       " <Property 'emline_instsigma', channel='neiii_3869', release='2.2.1', unit='km / s'>,\n",
       " <Property 'emline_instsigma', channel='hzet_3890', release='2.2.1', unit='km / s'>,\n",
       " <Property 'emline_instsigma', channel='neiii_3968', release='2.2.1', unit='km / s'>,\n",
       " <Property 'emline_instsigma', channel='heps_3971', release='2.2.1', unit='km / s'>,\n",
       " <Property 'emline_instsigma', channel='hdel_4102', release='2.2.1', unit='km / s'>,\n",
       " <Property 'emline_instsigma', channel='hgam_4341', release='2.2.1', unit='km / s'>,\n",
       " <Property 'emline_instsigma', channel='heii_4687', release='2.2.1', unit='km / s'>,\n",
       " <Property 'emline_instsigma', channel='hb_4862', release='2.2.1', unit='km / s'>,\n",
       " <Property 'emline_instsigma', channel='oiii_4960', release='2.2.1', unit='km / s'>,\n",
       " <Property 'emline_instsigma', channel='oiii_5008', release='2.2.1', unit='km / s'>,\n",
       " <Property 'emline_instsigma', channel='hei_5877', release='2.2.1', unit='km / s'>,\n",
       " <Property 'emline_instsigma', channel='oi_6302', release='2.2.1', unit='km / s'>,\n",
       " <Property 'emline_instsigma', channel='oi_6365', release='2.2.1', unit='km / s'>,\n",
       " <Property 'emline_instsigma', channel='nii_6549', release='2.2.1', unit='km / s'>,\n",
       " <Property 'emline_instsigma', channel='ha_6564', release='2.2.1', unit='km / s'>,\n",
       " <Property 'emline_instsigma', channel='nii_6585', release='2.2.1', unit='km / s'>,\n",
       " <Property 'emline_instsigma', channel='sii_6718', release='2.2.1', unit='km / s'>,\n",
       " <Property 'emline_instsigma', channel='sii_6732', release='2.2.1', unit='km / s'>,\n",
       " <Property 'emline_tplsigma', channel='oii_3727', release='2.2.1', unit='km / s'>,\n",
       " <Property 'emline_tplsigma', channel='oii_3729', release='2.2.1', unit='km / s'>,\n",
       " <Property 'emline_tplsigma', channel='hthe_3798', release='2.2.1', unit='km / s'>,\n",
       " <Property 'emline_tplsigma', channel='heta_3836', release='2.2.1', unit='km / s'>,\n",
       " <Property 'emline_tplsigma', channel='neiii_3869', release='2.2.1', unit='km / s'>,\n",
       " <Property 'emline_tplsigma', channel='hzet_3890', release='2.2.1', unit='km / s'>,\n",
       " <Property 'emline_tplsigma', channel='neiii_3968', release='2.2.1', unit='km / s'>,\n",
       " <Property 'emline_tplsigma', channel='heps_3971', release='2.2.1', unit='km / s'>,\n",
       " <Property 'emline_tplsigma', channel='hdel_4102', release='2.2.1', unit='km / s'>,\n",
       " <Property 'emline_tplsigma', channel='hgam_4341', release='2.2.1', unit='km / s'>,\n",
       " <Property 'emline_tplsigma', channel='heii_4687', release='2.2.1', unit='km / s'>,\n",
       " <Property 'emline_tplsigma', channel='hb_4862', release='2.2.1', unit='km / s'>,\n",
       " <Property 'emline_tplsigma', channel='oiii_4960', release='2.2.1', unit='km / s'>,\n",
       " <Property 'emline_tplsigma', channel='oiii_5008', release='2.2.1', unit='km / s'>,\n",
       " <Property 'emline_tplsigma', channel='hei_5877', release='2.2.1', unit='km / s'>,\n",
       " <Property 'emline_tplsigma', channel='oi_6302', release='2.2.1', unit='km / s'>,\n",
       " <Property 'emline_tplsigma', channel='oi_6365', release='2.2.1', unit='km / s'>,\n",
       " <Property 'emline_tplsigma', channel='nii_6549', release='2.2.1', unit='km / s'>,\n",
       " <Property 'emline_tplsigma', channel='ha_6564', release='2.2.1', unit='km / s'>,\n",
       " <Property 'emline_tplsigma', channel='nii_6585', release='2.2.1', unit='km / s'>,\n",
       " <Property 'emline_tplsigma', channel='sii_6718', release='2.2.1', unit='km / s'>,\n",
       " <Property 'emline_tplsigma', channel='sii_6732', release='2.2.1', unit='km / s'>,\n",
       " <Property 'specindex', channel='cn1', release='2.2.1', unit='mag'>,\n",
       " <Property 'specindex', channel='cn2', release='2.2.1', unit='mag'>,\n",
       " <Property 'specindex', channel='ca4227', release='2.2.1', unit='Angstrom'>,\n",
       " <Property 'specindex', channel='g4300', release='2.2.1', unit='Angstrom'>,\n",
       " <Property 'specindex', channel='fe4383', release='2.2.1', unit='Angstrom'>,\n",
       " <Property 'specindex', channel='ca4455', release='2.2.1', unit='Angstrom'>,\n",
       " <Property 'specindex', channel='fe4531', release='2.2.1', unit='Angstrom'>,\n",
       " <Property 'specindex', channel='c24668', release='2.2.1', unit='Angstrom'>,\n",
       " <Property 'specindex', channel='hb', release='2.2.1', unit='Angstrom'>,\n",
       " <Property 'specindex', channel='fe5015', release='2.2.1', unit='Angstrom'>,\n",
       " <Property 'specindex', channel='mg1', release='2.2.1', unit='mag'>,\n",
       " <Property 'specindex', channel='mg2', release='2.2.1', unit='mag'>,\n",
       " <Property 'specindex', channel='mgb', release='2.2.1', unit='Angstrom'>,\n",
       " <Property 'specindex', channel='fe5270', release='2.2.1', unit='Angstrom'>,\n",
       " <Property 'specindex', channel='fe5335', release='2.2.1', unit='Angstrom'>,\n",
       " <Property 'specindex', channel='fe5406', release='2.2.1', unit='Angstrom'>,\n",
       " <Property 'specindex', channel='fe5709', release='2.2.1', unit='Angstrom'>,\n",
       " <Property 'specindex', channel='fe5782', release='2.2.1', unit='Angstrom'>,\n",
       " <Property 'specindex', channel='nad', release='2.2.1', unit='Angstrom'>,\n",
       " <Property 'specindex', channel='tio1', release='2.2.1', unit='mag'>,\n",
       " <Property 'specindex', channel='tio2', release='2.2.1', unit='mag'>,\n",
       " <Property 'specindex', channel='hdeltaa', release='2.2.1', unit='Angstrom'>,\n",
       " <Property 'specindex', channel='hgammaa', release='2.2.1', unit='Angstrom'>,\n",
       " <Property 'specindex', channel='hdeltaf', release='2.2.1', unit='Angstrom'>,\n",
       " <Property 'specindex', channel='hgammaf', release='2.2.1', unit='Angstrom'>,\n",
       " <Property 'specindex', channel='cahk', release='2.2.1', unit='Angstrom'>,\n",
       " <Property 'specindex', channel='caii1', release='2.2.1', unit='Angstrom'>,\n",
       " <Property 'specindex', channel='caii2', release='2.2.1', unit='Angstrom'>,\n",
       " <Property 'specindex', channel='caii3', release='2.2.1', unit='Angstrom'>,\n",
       " <Property 'specindex', channel='pa17', release='2.2.1', unit='Angstrom'>,\n",
       " <Property 'specindex', channel='pa14', release='2.2.1', unit='Angstrom'>,\n",
       " <Property 'specindex', channel='pa12', release='2.2.1', unit='Angstrom'>,\n",
       " <Property 'specindex', channel='mgicvd', release='2.2.1', unit='Angstrom'>,\n",
       " <Property 'specindex', channel='naicvd', release='2.2.1', unit='Angstrom'>,\n",
       " <Property 'specindex', channel='mgiir', release='2.2.1', unit='Angstrom'>,\n",
       " <Property 'specindex', channel='fehcvd', release='2.2.1', unit='Angstrom'>,\n",
       " <Property 'specindex', channel='nai', release='2.2.1', unit='Angstrom'>,\n",
       " <Property 'specindex', channel='btio', release='2.2.1', unit='mag'>,\n",
       " <Property 'specindex', channel='atio', release='2.2.1', unit='mag'>,\n",
       " <Property 'specindex', channel='cah1', release='2.2.1', unit='mag'>,\n",
       " <Property 'specindex', channel='cah2', release='2.2.1', unit='mag'>,\n",
       " <Property 'specindex', channel='naisdss', release='2.2.1', unit='Angstrom'>,\n",
       " <Property 'specindex', channel='tio2sdss', release='2.2.1', unit='Angstrom'>,\n",
       " <Property 'specindex', channel='d4000', release='2.2.1', unit=''>,\n",
       " <Property 'specindex', channel='dn4000', release='2.2.1', unit=''>,\n",
       " <Property 'specindex', channel='tiocvd', release='2.2.1', unit=''>,\n",
       " <Property 'specindex_corr', channel='cn1', release='2.2.1', unit='mag'>,\n",
       " <Property 'specindex_corr', channel='cn2', release='2.2.1', unit='mag'>,\n",
       " <Property 'specindex_corr', channel='ca4227', release='2.2.1', unit='Angstrom'>,\n",
       " <Property 'specindex_corr', channel='g4300', release='2.2.1', unit='Angstrom'>,\n",
       " <Property 'specindex_corr', channel='fe4383', release='2.2.1', unit='Angstrom'>,\n",
       " <Property 'specindex_corr', channel='ca4455', release='2.2.1', unit='Angstrom'>,\n",
       " <Property 'specindex_corr', channel='fe4531', release='2.2.1', unit='Angstrom'>,\n",
       " <Property 'specindex_corr', channel='c24668', release='2.2.1', unit='Angstrom'>,\n",
       " <Property 'specindex_corr', channel='hb', release='2.2.1', unit='Angstrom'>,\n",
       " <Property 'specindex_corr', channel='fe5015', release='2.2.1', unit='Angstrom'>,\n",
       " <Property 'specindex_corr', channel='mg1', release='2.2.1', unit='mag'>,\n",
       " <Property 'specindex_corr', channel='mg2', release='2.2.1', unit='mag'>,\n",
       " <Property 'specindex_corr', channel='mgb', release='2.2.1', unit='Angstrom'>,\n",
       " <Property 'specindex_corr', channel='fe5270', release='2.2.1', unit='Angstrom'>,\n",
       " <Property 'specindex_corr', channel='fe5335', release='2.2.1', unit='Angstrom'>,\n",
       " <Property 'specindex_corr', channel='fe5406', release='2.2.1', unit='Angstrom'>,\n",
       " <Property 'specindex_corr', channel='fe5709', release='2.2.1', unit='Angstrom'>,\n",
       " <Property 'specindex_corr', channel='fe5782', release='2.2.1', unit='Angstrom'>,\n",
       " <Property 'specindex_corr', channel='nad', release='2.2.1', unit='Angstrom'>,\n",
       " <Property 'specindex_corr', channel='tio1', release='2.2.1', unit='mag'>,\n",
       " <Property 'specindex_corr', channel='tio2', release='2.2.1', unit='mag'>,\n",
       " <Property 'specindex_corr', channel='hdeltaa', release='2.2.1', unit='Angstrom'>,\n",
       " <Property 'specindex_corr', channel='hgammaa', release='2.2.1', unit='Angstrom'>,\n",
       " <Property 'specindex_corr', channel='hdeltaf', release='2.2.1', unit='Angstrom'>,\n",
       " <Property 'specindex_corr', channel='hgammaf', release='2.2.1', unit='Angstrom'>,\n",
       " <Property 'specindex_corr', channel='cahk', release='2.2.1', unit='Angstrom'>,\n",
       " <Property 'specindex_corr', channel='caii1', release='2.2.1', unit='Angstrom'>,\n",
       " <Property 'specindex_corr', channel='caii2', release='2.2.1', unit='Angstrom'>,\n",
       " <Property 'specindex_corr', channel='caii3', release='2.2.1', unit='Angstrom'>,\n",
       " <Property 'specindex_corr', channel='pa17', release='2.2.1', unit='Angstrom'>,\n",
       " <Property 'specindex_corr', channel='pa14', release='2.2.1', unit='Angstrom'>,\n",
       " <Property 'specindex_corr', channel='pa12', release='2.2.1', unit='Angstrom'>,\n",
       " <Property 'specindex_corr', channel='mgicvd', release='2.2.1', unit='Angstrom'>,\n",
       " <Property 'specindex_corr', channel='naicvd', release='2.2.1', unit='Angstrom'>,\n",
       " <Property 'specindex_corr', channel='mgiir', release='2.2.1', unit='Angstrom'>,\n",
       " <Property 'specindex_corr', channel='fehcvd', release='2.2.1', unit='Angstrom'>,\n",
       " <Property 'specindex_corr', channel='nai', release='2.2.1', unit='Angstrom'>,\n",
       " <Property 'specindex_corr', channel='btio', release='2.2.1', unit='mag'>,\n",
       " <Property 'specindex_corr', channel='atio', release='2.2.1', unit='mag'>,\n",
       " <Property 'specindex_corr', channel='cah1', release='2.2.1', unit='mag'>,\n",
       " <Property 'specindex_corr', channel='cah2', release='2.2.1', unit='mag'>,\n",
       " <Property 'specindex_corr', channel='naisdss', release='2.2.1', unit='Angstrom'>,\n",
       " <Property 'specindex_corr', channel='tio2sdss', release='2.2.1', unit='Angstrom'>,\n",
       " <Property 'specindex_corr', channel='d4000', release='2.2.1', unit=''>,\n",
       " <Property 'specindex_corr', channel='dn4000', release='2.2.1', unit=''>,\n",
       " <Property 'specindex_corr', channel='tiocvd', release='2.2.1', unit=''>]"
      ]
     },
     "execution_count": 88,
     "metadata": {},
     "output_type": "execute_result"
    }
   ],
   "source": [
    "# look at the datamodel for the maps\n",
    "maps.datamodel"
   ]
  },
  {
   "cell_type": "markdown",
   "metadata": {},
   "source": [
    "Note that some properties such as ``spx_skycoo`` have multiple channels (in this case the ``on-sky`` ``x`` and ``y`` coordinates). To access the individual property, simply combine the property name and the channel name with an underscore, i.e. ``spx_skycoo_on_sky_x``.  As before, we can get more information about a property using the ``description`` attribute.  "
   ]
  },
  {
   "cell_type": "code",
   "execution_count": 24,
   "metadata": {},
   "outputs": [
    {
     "name": "stdout",
     "output_type": "stream",
     "text": [
      "spx_skycoo_on_sky_x:  Offsets of each spaxel from the galaxy center. Channel = On-sky X.\n"
     ]
    }
   ],
   "source": [
    "print('spx_skycoo_on_sky_x: ', maps.datamodel.spx_skycoo_on_sky_x.description)"
   ]
  },
  {
   "cell_type": "markdown",
   "metadata": {},
   "source": [
    "More information about Marvin datamodels can be found [here](https://sdss-marvin.readthedocs.io/en/stable/datamodel/datamodels.html).  See the [DR15 Datamodel](https://sdss-marvin.readthedocs.io/en/stable/datamodel/dr15.html#datamodel-dr15) for a full description of the available datamodels for DR15.  \n",
    "\n",
    "We can retrieve the map associated to a specific property directly from the Maps instance. For example, let’s get the Hα emission line flux (fitted by a Gaussian).  As ``Map`` quantities are similar to ``DataCube``, we can easily plot the 2d map. "
   ]
  },
  {
   "cell_type": "code",
   "execution_count": 25,
   "metadata": {},
   "outputs": [
    {
     "data": {
      "text/latex": [
       "$[[0,~0,~0,~\\dots,~0,~0,~0],~\n",
       " [0,~0,~0,~\\dots,~0,~0,~0],~\n",
       " [0,~0,~0,~\\dots,~0,~0,~0],~\n",
       " \\dots,~\n",
       " [0,~0,~0,~\\dots,~0,~0,~0],~\n",
       " [0,~0,~0,~\\dots,~0,~0,~0],~\n",
       " [0,~0,~0,~\\dots,~0,~0,~0]] \\; \\mathrm{1 \\times 10^{-17}\\,\\frac{erg}{s\\,spaxel\\,cm^{2}}}$"
      ],
      "text/plain": [
       "<Marvin Map (property='emline_gflux_ha_6564')>\n",
       "[[0. 0. 0. ... 0. 0. 0.]\n",
       " [0. 0. 0. ... 0. 0. 0.]\n",
       " [0. 0. 0. ... 0. 0. 0.]\n",
       " ...\n",
       " [0. 0. 0. ... 0. 0. 0.]\n",
       " [0. 0. 0. ... 0. 0. 0.]\n",
       " [0. 0. 0. ... 0. 0. 0.]] 1e-17 erg / (cm2 s spaxel)"
      ]
     },
     "execution_count": 25,
     "metadata": {},
     "output_type": "execute_result"
    }
   ],
   "source": [
    "# grab the map of H-alpha emission line flux\n",
    "ha = maps.emline_gflux_ha_6564\n",
    "ha"
   ]
  },
  {
   "cell_type": "code",
   "execution_count": 26,
   "metadata": {},
   "outputs": [
    {
     "name": "stderr",
     "output_type": "stream",
     "text": [
      "\u001b[1;33m[WARNING]: \u001b[0m\u001b[0;39mAuto-removal of grids by pcolor() and pcolormesh() is deprecated since 3.5 and will be removed two minor releases later; please call grid(False) first.\u001b[0m \u001b[0;36m(MatplotlibDeprecationWarning)\u001b[0m\n"
     ]
    },
    {
     "data": {
      "image/png": "[encoded data removed]",
      "text/plain": [
       "<Figure size 432x288 with 2 Axes>"
      ]
     },
     "metadata": {},
     "output_type": "display_data"
    }
   ],
   "source": [
    "# plot the H-alpha map\n",
    "fig, ax = ha.plot()"
   ]
  },
  {
   "cell_type": "markdown",
   "metadata": {},
   "source": [
    "Note that the ``plot`` method returns the matplotlib ``Figure`` and ``Axes`` for the plot. We can use those to modify or save the plot. Marvin plotting routines try to select the best parameters, colour maps, and dynamic ranges. You can modify those by passing extra arguments to plot. You can learn more in the [Map plotting section](https://sdss-marvin.readthedocs.io/en/stable/tools/utils/plot-map.html#marvin-utils-plot-map). We will talk about the Map class in detail in Working with [Astropy Quantities](https://sdss-marvin.readthedocs.io/en/stable/getting-started.html#marvin-quantities) and in [Map](https://sdss-marvin.readthedocs.io/en/stable/tools/map.html#marvin-map).\n",
    "\n",
    "Remember that all associated objects are connected together.  They can be accessed either from within an object instance or loaded independently from the class itself.  From within an instance, the core tools, ``Maps``, ``RSS``, and ``ModelCube`` are available using the ``getXXX`` methods, as well as additional auxillary tools and object data, such as ``Image``.         "
   ]
  },
  {
   "cell_type": "code",
   "execution_count": 27,
   "metadata": {},
   "outputs": [],
   "source": [
    "# load the same Maps object by itself\n",
    "from marvin.tools import Maps\n",
    "my_maps = Maps('8485-1901')\n",
    "my_maps\n",
    "\n",
    "# get the stellar velocity map\n",
    "stvel = my_maps.stellar_velocity"
   ]
  },
  {
   "cell_type": "code",
   "execution_count": 29,
   "metadata": {},
   "outputs": [
    {
     "name": "stderr",
     "output_type": "stream",
     "text": [
      "\u001b[1;33m[WARNING]: \u001b[0m\u001b[0;39mAuto-removal of grids by pcolor() and pcolormesh() is deprecated since 3.5 and will be removed two minor releases later; please call grid(False) first.\u001b[0m \u001b[0;36m(MatplotlibDeprecationWarning)\u001b[0m\n"
     ]
    },
    {
     "data": {
      "text/plain": [
       "(<Figure size 432x288 with 2 Axes>,\n",
       " <AxesSubplot:title={'center':'Stellar velocity'}, xlabel='spaxel', ylabel='spaxel'>)"
      ]
     },
     "execution_count": 29,
     "metadata": {},
     "output_type": "execute_result"
    },
    {
     "data": {
      "image/png": "[encoded data removed]",
      "text/plain": [
       "<Figure size 432x288 with 2 Axes>"
      ]
     },
     "metadata": {},
     "output_type": "display_data"
    }
   ],
   "source": [
    "stvel.plot()"
   ]
  },
  {
   "cell_type": "markdown",
   "metadata": {},
   "source": [
    "### Need to keep data locally to do this next step"
   ]
  },
  {
   "cell_type": "code",
   "execution_count": 28,
   "metadata": {},
   "outputs": [
    {
     "name": "stderr",
     "output_type": "stream",
     "text": [
      "\u001b[1;33m[WARNING]: \u001b[0m\u001b[0;39mdrpall file not found. Downloading it.\u001b[0m \u001b[0;36m(MarvinUserWarning)\u001b[0m\n",
      "Progress: 100%|████████| 1/1 [00:15<00:00, 15.02s/files, n_files=1, n_streams=1]\n"
     ]
    },
    {
     "name": "stdout",
     "output_type": "stream",
     "text": [
      "SDSS_ACCESS> Done!\n"
     ]
    },
    {
     "name": "stderr",
     "output_type": "stream",
     "text": [
      "\u001b[1;33m[WARNING]: \u001b[0m\u001b[0;39mv2_4_3 is an invalid version and will not be supported in a future release\u001b[0m \u001b[0;36m(PkgResourcesDeprecationWarning)\u001b[0m\n",
      "\u001b[1;33m[WARNING]: \u001b[0m\u001b[0;39mv2_5_3 is an invalid version and will not be supported in a future release\u001b[0m \u001b[0;36m(PkgResourcesDeprecationWarning)\u001b[0m\n",
      "\u001b[1;33m[WARNING]: \u001b[0m\u001b[0;39mdrpall file not found. Downloading it.\u001b[0m \u001b[0;36m(MarvinUserWarning)\u001b[0m\n",
      "Progress: 100%|████████| 1/1 [00:05<00:00,  5.01s/files, n_files=1, n_streams=1]\n",
      "\u001b[1;33m[WARNING]: \u001b[0m\u001b[0;39mv2_4_3 is an invalid version and will not be supported in a future release\u001b[0m \u001b[0;36m(PkgResourcesDeprecationWarning)\u001b[0m\n",
      "\u001b[1;33m[WARNING]: \u001b[0m\u001b[0;39mv2_5_3 is an invalid version and will not be supported in a future release\u001b[0m \u001b[0;36m(PkgResourcesDeprecationWarning)\u001b[0m\n"
     ]
    },
    {
     "name": "stdout",
     "output_type": "stream",
     "text": [
      "SDSS_ACCESS> Done!\n"
     ]
    },
    {
     "ename": "FileNotFoundError",
     "evalue": "[Errno 2] No such file or directory: '/home/haricash/sas/dr16/manga/spectro/redux/v2_4_3/drpall-v2_4_3.fits'",
     "output_type": "error",
     "traceback": [
      "\u001b[0;31m---------------------------------------------------------------------------\u001b[0m",
      "\u001b[0;31mFileNotFoundError\u001b[0m                         Traceback (most recent call last)",
      "Input \u001b[0;32mIn [28]\u001b[0m, in \u001b[0;36m<cell line: 4>\u001b[0;34m()\u001b[0m\n\u001b[1;32m      1\u001b[0m \u001b[38;5;66;03m# load an auxilliary tool, the gri color image of the target galaxy using the Marvin Image tool\u001b[39;00m\n\u001b[1;32m      2\u001b[0m \n\u001b[1;32m      3\u001b[0m \u001b[38;5;66;03m# get the Image of the galaxy and plot it\u001b[39;00m\n\u001b[0;32m----> 4\u001b[0m image \u001b[38;5;241m=\u001b[39m \u001b[43mcube\u001b[49m\u001b[38;5;241;43m.\u001b[39;49m\u001b[43mgetImage\u001b[49m\u001b[43m(\u001b[49m\u001b[43m)\u001b[49m\n\u001b[1;32m      5\u001b[0m image\u001b[38;5;241m.\u001b[39mplot()\n",
      "File \u001b[0;32m~/anaconda3/envs/msproj/lib/python3.9/site-packages/marvin/tools/core.py:302\u001b[0m, in \u001b[0;36mMarvinToolsClass.getImage\u001b[0;34m(self)\u001b[0m\n\u001b[1;32m    299\u001b[0m \u001b[38;5;28;01mdef\u001b[39;00m \u001b[38;5;21mgetImage\u001b[39m(\u001b[38;5;28mself\u001b[39m):\n\u001b[1;32m    300\u001b[0m     \u001b[38;5;124;03m''' Retrieves the Image :class:`~marvin.tools.image.Image` for this object '''\u001b[39;00m\n\u001b[0;32m--> 302\u001b[0m     image \u001b[38;5;241m=\u001b[39m \u001b[43mmarvin\u001b[49m\u001b[38;5;241;43m.\u001b[39;49m\u001b[43mtools\u001b[49m\u001b[38;5;241;43m.\u001b[39;49m\u001b[43mimage\u001b[49m\u001b[38;5;241;43m.\u001b[39;49m\u001b[43mImage\u001b[49m\u001b[43m(\u001b[49m\u001b[43mplateifu\u001b[49m\u001b[38;5;241;43m=\u001b[39;49m\u001b[38;5;28;43mself\u001b[39;49m\u001b[38;5;241;43m.\u001b[39;49m\u001b[43mplateifu\u001b[49m\u001b[43m,\u001b[49m\u001b[43m \u001b[49m\u001b[43mrelease\u001b[49m\u001b[38;5;241;43m=\u001b[39;49m\u001b[38;5;28;43mself\u001b[39;49m\u001b[38;5;241;43m.\u001b[39;49m\u001b[43mrelease\u001b[49m\u001b[43m)\u001b[49m\n\u001b[1;32m    303\u001b[0m     \u001b[38;5;28;01mreturn\u001b[39;00m image\n",
      "File \u001b[0;32m~/anaconda3/envs/msproj/lib/python3.9/site-packages/marvin/tools/image.py:77\u001b[0m, in \u001b[0;36mImage.__init__\u001b[0;34m(self, input, filename, mangaid, plateifu, mode, data, release, download)\u001b[0m\n\u001b[1;32m     75\u001b[0m     \u001b[38;5;28;01mraise\u001b[39;00m MarvinError(\u001b[38;5;124m'\u001b[39m\u001b[38;5;124mImages cannot currently be accessed from the db\u001b[39m\u001b[38;5;124m'\u001b[39m)\n\u001b[1;32m     76\u001b[0m \u001b[38;5;28;01melif\u001b[39;00m \u001b[38;5;28mself\u001b[39m\u001b[38;5;241m.\u001b[39mdata_origin \u001b[38;5;241m==\u001b[39m \u001b[38;5;124m'\u001b[39m\u001b[38;5;124mapi\u001b[39m\u001b[38;5;124m'\u001b[39m:\n\u001b[0;32m---> 77\u001b[0m     \u001b[38;5;28;43mself\u001b[39;49m\u001b[38;5;241;43m.\u001b[39;49m\u001b[43m_load_image_from_api\u001b[49m\u001b[43m(\u001b[49m\u001b[43m)\u001b[49m\n\u001b[1;32m     79\u001b[0m \u001b[38;5;66;03m# initialize attributes\u001b[39;00m\n\u001b[1;32m     80\u001b[0m \u001b[38;5;28mself\u001b[39m\u001b[38;5;241m.\u001b[39m_init_attributes()\n",
      "File \u001b[0;32m~/anaconda3/envs/msproj/lib/python3.9/site-packages/marvin/tools/image.py:172\u001b[0m, in \u001b[0;36mImage._load_image_from_api\u001b[0;34m(self)\u001b[0m\n\u001b[1;32m    169\u001b[0m \u001b[38;5;28;01mdef\u001b[39;00m \u001b[38;5;21m_load_image_from_api\u001b[39m(\u001b[38;5;28mself\u001b[39m):\n\u001b[1;32m    170\u001b[0m     \u001b[38;5;124;03m''' Load an image from a remote location '''\u001b[39;00m\n\u001b[0;32m--> 172\u001b[0m     filepath \u001b[38;5;241m=\u001b[39m \u001b[38;5;28;43mself\u001b[39;49m\u001b[38;5;241;43m.\u001b[39;49m\u001b[43m_getFullPath\u001b[49m\u001b[43m(\u001b[49m\u001b[43m)\u001b[49m\n\u001b[1;32m    173\u001b[0m     response \u001b[38;5;241m=\u001b[39m requests\u001b[38;5;241m.\u001b[39mget(\u001b[38;5;28mself\u001b[39m\u001b[38;5;241m.\u001b[39murl)\n\u001b[1;32m    174\u001b[0m     \u001b[38;5;28;01mif\u001b[39;00m \u001b[38;5;129;01mnot\u001b[39;00m response\u001b[38;5;241m.\u001b[39mok:\n",
      "File \u001b[0;32m~/anaconda3/envs/msproj/lib/python3.9/site-packages/marvin/tools/image.py:134\u001b[0m, in \u001b[0;36mImage._getFullPath\u001b[0;34m(self)\u001b[0m\n\u001b[1;32m    131\u001b[0m     \u001b[38;5;28;01mreturn\u001b[39;00m \u001b[38;5;28;01mNone\u001b[39;00m\n\u001b[1;32m    133\u001b[0m plate, ifu \u001b[38;5;241m=\u001b[39m \u001b[38;5;28mself\u001b[39m\u001b[38;5;241m.\u001b[39mplateifu\u001b[38;5;241m.\u001b[39msplit(\u001b[38;5;124m'\u001b[39m\u001b[38;5;124m-\u001b[39m\u001b[38;5;124m'\u001b[39m)\n\u001b[0;32m--> 134\u001b[0m dir3d \u001b[38;5;241m=\u001b[39m \u001b[38;5;28;43mself\u001b[39;49m\u001b[38;5;241;43m.\u001b[39;49m\u001b[43m_get_image_dir\u001b[49m\u001b[43m(\u001b[49m\u001b[43m)\u001b[49m\n\u001b[1;32m    136\u001b[0m name \u001b[38;5;241m=\u001b[39m \u001b[38;5;124m'\u001b[39m\u001b[38;5;124mmangaimage\u001b[39m\u001b[38;5;124m'\u001b[39m\n\u001b[1;32m    138\u001b[0m \u001b[38;5;28;01mreturn\u001b[39;00m \u001b[38;5;28msuper\u001b[39m(Image, \u001b[38;5;28mself\u001b[39m)\u001b[38;5;241m.\u001b[39m_getFullPath(name, ifu\u001b[38;5;241m=\u001b[39mifu, dir3d\u001b[38;5;241m=\u001b[39mdir3d,\n\u001b[1;32m    139\u001b[0m                                        drpver\u001b[38;5;241m=\u001b[39m\u001b[38;5;28mself\u001b[39m\u001b[38;5;241m.\u001b[39m_drpver, plate\u001b[38;5;241m=\u001b[39mplate)\n",
      "File \u001b[0;32m~/anaconda3/envs/msproj/lib/python3.9/site-packages/marvin/tools/image.py:123\u001b[0m, in \u001b[0;36mImage._get_image_dir\u001b[0;34m(self)\u001b[0m\n\u001b[1;32m    120\u001b[0m     \u001b[38;5;28;01mreturn\u001b[39;00m \u001b[38;5;124m'\u001b[39m\u001b[38;5;124mstack\u001b[39m\u001b[38;5;124m'\u001b[39m\n\u001b[1;32m    122\u001b[0m \u001b[38;5;66;03m# get the appropriate image directory\u001b[39;00m\n\u001b[0;32m--> 123\u001b[0m is_mastar \u001b[38;5;241m=\u001b[39m \u001b[43mtarget_is_mastar\u001b[49m\u001b[43m(\u001b[49m\u001b[38;5;28;43mself\u001b[39;49m\u001b[38;5;241;43m.\u001b[39;49m\u001b[43mplateifu\u001b[49m\u001b[43m,\u001b[49m\u001b[43m \u001b[49m\u001b[43mdrpver\u001b[49m\u001b[38;5;241;43m=\u001b[39;49m\u001b[38;5;28;43mself\u001b[39;49m\u001b[38;5;241;43m.\u001b[39;49m\u001b[43m_drpver\u001b[49m\u001b[43m)\u001b[49m\n\u001b[1;32m    124\u001b[0m image_dir \u001b[38;5;241m=\u001b[39m \u001b[38;5;124m'\u001b[39m\u001b[38;5;124mmastar\u001b[39m\u001b[38;5;124m'\u001b[39m \u001b[38;5;28;01mif\u001b[39;00m is_mastar \u001b[38;5;28;01melse\u001b[39;00m \u001b[38;5;124m'\u001b[39m\u001b[38;5;124mstack\u001b[39m\u001b[38;5;124m'\u001b[39m\n\u001b[1;32m    125\u001b[0m \u001b[38;5;28;01mreturn\u001b[39;00m image_dir\n",
      "File \u001b[0;32m~/anaconda3/envs/msproj/lib/python3.9/site-packages/marvin/utils/general/general.py:1727\u001b[0m, in \u001b[0;36mtarget_is_mastar\u001b[0;34m(plateifu, drpver, drpall)\u001b[0m\n\u001b[1;32m   1709\u001b[0m \u001b[38;5;28;01mdef\u001b[39;00m \u001b[38;5;21mtarget_is_mastar\u001b[39m(plateifu, drpver\u001b[38;5;241m=\u001b[39m\u001b[38;5;28;01mNone\u001b[39;00m, drpall\u001b[38;5;241m=\u001b[39m\u001b[38;5;28;01mNone\u001b[39;00m):\n\u001b[1;32m   1710\u001b[0m     \u001b[38;5;124;03m''' Check if a target is bright-time MaStar target\u001b[39;00m\n\u001b[1;32m   1711\u001b[0m \n\u001b[1;32m   1712\u001b[0m \u001b[38;5;124;03m    Uses the local drpall file to check if a plateifu is a MaStar target\u001b[39;00m\n\u001b[0;32m   (...)\u001b[0m\n\u001b[1;32m   1724\u001b[0m \n\u001b[1;32m   1725\u001b[0m \u001b[38;5;124;03m    '''\u001b[39;00m\n\u001b[0;32m-> 1727\u001b[0m     row \u001b[38;5;241m=\u001b[39m \u001b[43mget_drpall_row\u001b[49m\u001b[43m(\u001b[49m\u001b[43mplateifu\u001b[49m\u001b[43m,\u001b[49m\u001b[43m \u001b[49m\u001b[43mdrpver\u001b[49m\u001b[38;5;241;43m=\u001b[39;49m\u001b[43mdrpver\u001b[49m\u001b[43m,\u001b[49m\u001b[43m \u001b[49m\u001b[43mdrpall\u001b[49m\u001b[38;5;241;43m=\u001b[39;49m\u001b[43mdrpall\u001b[49m\u001b[43m)\u001b[49m\n\u001b[1;32m   1728\u001b[0m     \u001b[38;5;28;01mreturn\u001b[39;00m row[\u001b[38;5;124m'\u001b[39m\u001b[38;5;124msrvymode\u001b[39m\u001b[38;5;124m'\u001b[39m] \u001b[38;5;241m==\u001b[39m \u001b[38;5;124m'\u001b[39m\u001b[38;5;124mAPOGEE lead\u001b[39m\u001b[38;5;124m'\u001b[39m\n",
      "File \u001b[0;32m~/anaconda3/envs/msproj/lib/python3.9/site-packages/marvin/utils/general/general.py:988\u001b[0m, in \u001b[0;36mget_drpall_row\u001b[0;34m(plateifu, drpver, drpall)\u001b[0m\n\u001b[1;32m    985\u001b[0m \u001b[38;5;124;03m\"\"\"Returns a dictionary from drpall matching the plateifu.\"\"\"\u001b[39;00m\n\u001b[1;32m    987\u001b[0m \u001b[38;5;66;03m# get the drpall table\u001b[39;00m\n\u001b[0;32m--> 988\u001b[0m drpall_table \u001b[38;5;241m=\u001b[39m \u001b[43mget_drpall_table\u001b[49m\u001b[43m(\u001b[49m\u001b[43mdrpver\u001b[49m\u001b[38;5;241;43m=\u001b[39;49m\u001b[43mdrpver\u001b[49m\u001b[43m,\u001b[49m\u001b[43m \u001b[49m\u001b[43mdrpall\u001b[49m\u001b[38;5;241;43m=\u001b[39;49m\u001b[43mdrpall\u001b[49m\u001b[43m,\u001b[49m\u001b[43m \u001b[49m\u001b[43mhdu\u001b[49m\u001b[38;5;241;43m=\u001b[39;49m\u001b[38;5;124;43m'\u001b[39;49m\u001b[38;5;124;43mMANGA\u001b[39;49m\u001b[38;5;124;43m'\u001b[39;49m\u001b[43m)\u001b[49m\n\u001b[1;32m    989\u001b[0m in_table \u001b[38;5;241m=\u001b[39m plateifu \u001b[38;5;129;01min\u001b[39;00m drpall_table[\u001b[38;5;124m'\u001b[39m\u001b[38;5;124mplateifu\u001b[39m\u001b[38;5;124m'\u001b[39m]\n\u001b[1;32m    990\u001b[0m \u001b[38;5;66;03m# check the mastar extension\u001b[39;00m\n",
      "File \u001b[0;32m~/anaconda3/envs/msproj/lib/python3.9/site-packages/marvin/utils/general/general.py:1770\u001b[0m, in \u001b[0;36mget_drpall_table\u001b[0;34m(drpver, drpall, hdu)\u001b[0m\n\u001b[1;32m   1768\u001b[0m \u001b[38;5;28;01mif\u001b[39;00m hdu \u001b[38;5;129;01mnot\u001b[39;00m \u001b[38;5;129;01min\u001b[39;00m drpTable[drpver]:\n\u001b[1;32m   1769\u001b[0m     drpall \u001b[38;5;241m=\u001b[39m drpall \u001b[38;5;28;01mif\u001b[39;00m drpall \u001b[38;5;28;01melse\u001b[39;00m get_drpall_path(drpver\u001b[38;5;241m=\u001b[39mdrpver)\n\u001b[0;32m-> 1770\u001b[0m     data \u001b[38;5;241m=\u001b[39m {hduext: \u001b[43mtable\u001b[49m\u001b[38;5;241;43m.\u001b[39;49m\u001b[43mTable\u001b[49m\u001b[38;5;241;43m.\u001b[39;49m\u001b[43mread\u001b[49m\u001b[43m(\u001b[49m\u001b[43mdrpall\u001b[49m\u001b[43m,\u001b[49m\u001b[43m \u001b[49m\u001b[43mhdu\u001b[49m\u001b[38;5;241;43m=\u001b[39;49m\u001b[43mhduext\u001b[49m\u001b[43m)\u001b[49m}\n\u001b[1;32m   1771\u001b[0m     drpTable[drpver]\u001b[38;5;241m.\u001b[39mupdate(data)\n\u001b[1;32m   1773\u001b[0m drpall_table \u001b[38;5;241m=\u001b[39m drpTable[drpver][hduext]\n",
      "File \u001b[0;32m~/anaconda3/envs/msproj/lib/python3.9/site-packages/astropy/table/connect.py:61\u001b[0m, in \u001b[0;36mTableRead.__call__\u001b[0;34m(self, *args, **kwargs)\u001b[0m\n\u001b[1;32m     58\u001b[0m units \u001b[38;5;241m=\u001b[39m kwargs\u001b[38;5;241m.\u001b[39mpop(\u001b[38;5;124m'\u001b[39m\u001b[38;5;124munits\u001b[39m\u001b[38;5;124m'\u001b[39m, \u001b[38;5;28;01mNone\u001b[39;00m)\n\u001b[1;32m     59\u001b[0m descriptions \u001b[38;5;241m=\u001b[39m kwargs\u001b[38;5;241m.\u001b[39mpop(\u001b[38;5;124m'\u001b[39m\u001b[38;5;124mdescriptions\u001b[39m\u001b[38;5;124m'\u001b[39m, \u001b[38;5;28;01mNone\u001b[39;00m)\n\u001b[0;32m---> 61\u001b[0m out \u001b[38;5;241m=\u001b[39m \u001b[43mregistry\u001b[49m\u001b[38;5;241;43m.\u001b[39;49m\u001b[43mread\u001b[49m\u001b[43m(\u001b[49m\u001b[38;5;28;43mcls\u001b[39;49m\u001b[43m,\u001b[49m\u001b[43m \u001b[49m\u001b[38;5;241;43m*\u001b[39;49m\u001b[43margs\u001b[49m\u001b[43m,\u001b[49m\u001b[43m \u001b[49m\u001b[38;5;241;43m*\u001b[39;49m\u001b[38;5;241;43m*\u001b[39;49m\u001b[43mkwargs\u001b[49m\u001b[43m)\u001b[49m\n\u001b[1;32m     63\u001b[0m \u001b[38;5;66;03m# For some readers (e.g., ascii.ecsv), the returned `out` class is not\u001b[39;00m\n\u001b[1;32m     64\u001b[0m \u001b[38;5;66;03m# guaranteed to be the same as the desired output `cls`.  If so,\u001b[39;00m\n\u001b[1;32m     65\u001b[0m \u001b[38;5;66;03m# try coercing to desired class without copying (io.registry.read\u001b[39;00m\n\u001b[1;32m     66\u001b[0m \u001b[38;5;66;03m# would normally do a copy).  The normal case here is swapping\u001b[39;00m\n\u001b[1;32m     67\u001b[0m \u001b[38;5;66;03m# Table <=> QTable.\u001b[39;00m\n\u001b[1;32m     68\u001b[0m \u001b[38;5;28;01mif\u001b[39;00m \u001b[38;5;28mcls\u001b[39m \u001b[38;5;129;01mis\u001b[39;00m \u001b[38;5;129;01mnot\u001b[39;00m out\u001b[38;5;241m.\u001b[39m\u001b[38;5;18m__class__\u001b[39m:\n",
      "File \u001b[0;32m~/anaconda3/envs/msproj/lib/python3.9/site-packages/astropy/io/registry.py:512\u001b[0m, in \u001b[0;36mread\u001b[0;34m(cls, format, cache, *args, **kwargs)\u001b[0m\n\u001b[1;32m    510\u001b[0m \u001b[38;5;28;01mtry\u001b[39;00m:\n\u001b[1;32m    511\u001b[0m     ctx \u001b[38;5;241m=\u001b[39m get_readable_fileobj(args[\u001b[38;5;241m0\u001b[39m], encoding\u001b[38;5;241m=\u001b[39m\u001b[38;5;124m'\u001b[39m\u001b[38;5;124mbinary\u001b[39m\u001b[38;5;124m'\u001b[39m, cache\u001b[38;5;241m=\u001b[39mcache)\n\u001b[0;32m--> 512\u001b[0m     fileobj \u001b[38;5;241m=\u001b[39m \u001b[43mctx\u001b[49m\u001b[38;5;241;43m.\u001b[39;49m\u001b[38;5;21;43m__enter__\u001b[39;49m\u001b[43m(\u001b[49m\u001b[43m)\u001b[49m\n\u001b[1;32m    513\u001b[0m \u001b[38;5;28;01mexcept\u001b[39;00m \u001b[38;5;167;01mOSError\u001b[39;00m:\n\u001b[1;32m    514\u001b[0m     \u001b[38;5;28;01mraise\u001b[39;00m\n",
      "File \u001b[0;32m~/anaconda3/envs/msproj/lib/python3.9/contextlib.py:119\u001b[0m, in \u001b[0;36m_GeneratorContextManager.__enter__\u001b[0;34m(self)\u001b[0m\n\u001b[1;32m    117\u001b[0m \u001b[38;5;28;01mdel\u001b[39;00m \u001b[38;5;28mself\u001b[39m\u001b[38;5;241m.\u001b[39margs, \u001b[38;5;28mself\u001b[39m\u001b[38;5;241m.\u001b[39mkwds, \u001b[38;5;28mself\u001b[39m\u001b[38;5;241m.\u001b[39mfunc\n\u001b[1;32m    118\u001b[0m \u001b[38;5;28;01mtry\u001b[39;00m:\n\u001b[0;32m--> 119\u001b[0m     \u001b[38;5;28;01mreturn\u001b[39;00m \u001b[38;5;28;43mnext\u001b[39;49m\u001b[43m(\u001b[49m\u001b[38;5;28;43mself\u001b[39;49m\u001b[38;5;241;43m.\u001b[39;49m\u001b[43mgen\u001b[49m\u001b[43m)\u001b[49m\n\u001b[1;32m    120\u001b[0m \u001b[38;5;28;01mexcept\u001b[39;00m \u001b[38;5;167;01mStopIteration\u001b[39;00m:\n\u001b[1;32m    121\u001b[0m     \u001b[38;5;28;01mraise\u001b[39;00m \u001b[38;5;167;01mRuntimeError\u001b[39;00m(\u001b[38;5;124m\"\u001b[39m\u001b[38;5;124mgenerator didn\u001b[39m\u001b[38;5;124m'\u001b[39m\u001b[38;5;124mt yield\u001b[39m\u001b[38;5;124m\"\u001b[39m) \u001b[38;5;28;01mfrom\u001b[39;00m \u001b[38;5;28mNone\u001b[39m\n",
      "File \u001b[0;32m~/anaconda3/envs/msproj/lib/python3.9/site-packages/astropy/utils/data.py:262\u001b[0m, in \u001b[0;36mget_readable_fileobj\u001b[0;34m(name_or_obj, encoding, cache, show_progress, remote_timeout, sources, http_headers)\u001b[0m\n\u001b[1;32m    257\u001b[0m \u001b[38;5;28;01mif\u001b[39;00m is_url:\n\u001b[1;32m    258\u001b[0m     name_or_obj \u001b[38;5;241m=\u001b[39m download_file(\n\u001b[1;32m    259\u001b[0m         name_or_obj, cache\u001b[38;5;241m=\u001b[39mcache, show_progress\u001b[38;5;241m=\u001b[39mshow_progress,\n\u001b[1;32m    260\u001b[0m         timeout\u001b[38;5;241m=\u001b[39mremote_timeout, sources\u001b[38;5;241m=\u001b[39msources,\n\u001b[1;32m    261\u001b[0m         http_headers\u001b[38;5;241m=\u001b[39mhttp_headers)\n\u001b[0;32m--> 262\u001b[0m fileobj \u001b[38;5;241m=\u001b[39m \u001b[43mio\u001b[49m\u001b[38;5;241;43m.\u001b[39;49m\u001b[43mFileIO\u001b[49m\u001b[43m(\u001b[49m\u001b[43mname_or_obj\u001b[49m\u001b[43m,\u001b[49m\u001b[43m \u001b[49m\u001b[38;5;124;43m'\u001b[39;49m\u001b[38;5;124;43mr\u001b[39;49m\u001b[38;5;124;43m'\u001b[39;49m\u001b[43m)\u001b[49m\n\u001b[1;32m    263\u001b[0m \u001b[38;5;28;01mif\u001b[39;00m is_url \u001b[38;5;129;01mand\u001b[39;00m \u001b[38;5;129;01mnot\u001b[39;00m cache:\n\u001b[1;32m    264\u001b[0m     delete_fds\u001b[38;5;241m.\u001b[39mappend(fileobj)\n",
      "\u001b[0;31mFileNotFoundError\u001b[0m: [Errno 2] No such file or directory: '/home/haricash/sas/dr16/manga/spectro/redux/v2_4_3/drpall-v2_4_3.fits'"
     ]
    }
   ],
   "source": [
    "# load an auxilliary tool, the gri color image of the target galaxy using the Marvin Image tool\n",
    "\n",
    "# get the Image of the galaxy and plot it\n",
    "image = cube.getImage()\n",
    "image.plot()"
   ]
  },
  {
   "cell_type": "markdown",
   "metadata": {},
   "source": [
    "<a id=\"flags\"></a>\n",
    "### Quality and Target Flags and Maskbits\n",
    "Each MaNGA target has associated quality assurance flags as well targeting flags.  Quality flags indicate the overall quality of the data and/or any problems with the data discovered during the reduction and analysis pipeline runs.    "
   ]
  },
  {
   "cell_type": "code",
   "execution_count": 31,
   "metadata": {},
   "outputs": [
    {
     "data": {
      "text/plain": [
       "<Maskbit 'MANGA_DRP3QUAL' []>"
      ]
     },
     "execution_count": 31,
     "metadata": {},
     "output_type": "execute_result"
    }
   ],
   "source": [
    "# look at the overall cube quality flags\n",
    "cube.quality_flag"
   ]
  },
  {
   "cell_type": "markdown",
   "metadata": {},
   "source": [
    "In this case the MANGA_DRP3QUAL maskbit does not have any bit activated, which means the data is safe to use. See the [Maskbits](https://sdss-marvin.readthedocs.io/en/stable/tools/utils/maskbit.html#marvin-maskbit) section for more information on how to interact with Marvin Maskbits.\n",
    "\n",
    "The targeting flags highlight the **targeting bits** set for this galaxy and tell you which sample the target belongs to."
   ]
  },
  {
   "cell_type": "code",
   "execution_count": 32,
   "metadata": {},
   "outputs": [
    {
     "data": {
      "text/plain": [
       "[<Maskbit 'MANGA_TARGET1' ['SECONDARY_v1_1_0', 'SECONDARY_COM2', 'SECONDARY_v1_2_0']>,\n",
       " <Maskbit 'MANGA_TARGET2' []>,\n",
       " <Maskbit 'MANGA_TARGET3' []>]"
      ]
     },
     "execution_count": 32,
     "metadata": {},
     "output_type": "execute_result"
    }
   ],
   "source": [
    "# look at the targeting flags for this galaxy\n",
    "cube.target_flags"
   ]
  },
  {
   "cell_type": "markdown",
   "metadata": {},
   "source": [
    "Note that in this case the galaxy belongs to the secondary sample from the final target selection (``SECONDARY_v1_2_0``) as well as to the secondary samples from several commissioning target selections. The galaxy does not have any ancillary bit (**manga_target3**).  An **manga_target3** bit set indicates the target belongs to one of the [MaNGA Ancillary programs](https://www.sdss.org/dr15/manga/manga-target-selection/ancillary-targets/).  "
   ]
  },
  {
   "cell_type": "markdown",
   "metadata": {},
   "source": [
    "<a id=\"mixin\"></a>\n",
    "### NSA, DAPall, and Value-Added catalog data\n",
    "For each target we can also access additional catalog data: the associated parameters from the [NASA Sloan Atlas](http://nsatlas.org/), and the [DAPall](https://www.sdss.org/dr15/manga/manga-data/catalogs/#DAPALLFile) file.  The NSA catalog contains measured global galaxy photometric and shape profile information, while the DAPall catalog contains aggregrate statistics as measured by the MaNGA DAP pipeline.  NSA properties are available on all Marvin objects under the ``nsa`` attribute.  DAPall properties are available on all Marvin ``Maps`` and ``Modelcube`` objects.  "
   ]
  },
  {
   "cell_type": "code",
   "execution_count": 33,
   "metadata": {},
   "outputs": [
    {
     "name": "stderr",
     "output_type": "stream",
     "text": [
      "\u001b[1;33m[WARNING]: \u001b[0m\u001b[0;39mcannot load NSA information for mangaid='1-209232'.\u001b[0m \u001b[0;36m(MarvinUserWarning)\u001b[0m\n"
     ]
    }
   ],
   "source": [
    "# look at the NSA properties for this galaxy from the cube instance\n",
    "nsa = cube.nsa\n",
    "nsa"
   ]
  },
  {
   "cell_type": "code",
   "execution_count": 34,
   "metadata": {},
   "outputs": [
    {
     "name": "stderr",
     "output_type": "stream",
     "text": [
      "\u001b[1;33m[WARNING]: \u001b[0m\u001b[0;39mdistutils Version classes are deprecated. Use packaging.version instead.\u001b[0m \u001b[0;36m(DeprecationWarning)\u001b[0m\n"
     ]
    },
    {
     "data": {
      "text/plain": [
       "{'adist_nsa_z': 116.282,\n",
       " 'adist_z': 116.282,\n",
       " 'bin_r_n_1': 21.0,\n",
       " 'bin_r_n_2': 36.0,\n",
       " 'bin_r_n_3': 40.0,\n",
       " 'bin_r_snr_1': 31.4442,\n",
       " 'bin_r_snr_2': 26.3586,\n",
       " 'bin_r_snr_3': 12.5334,\n",
       " 'bin_rmax': 3.51652,\n",
       " 'binkey': 'HYB10',\n",
       " 'binsnr': 10.0,\n",
       " 'bintype': 'voronoi',\n",
       " 'dapbins': 393,\n",
       " 'dapdone': 'true',\n",
       " 'dapqual': 0,\n",
       " 'daptype': 'HYB10-GAU-MILESHC',\n",
       " 'datedap': '2018-07-21',\n",
       " 'drp3qual': 0,\n",
       " 'drpallindx': 3991,\n",
       " 'elfkey': 'EFITMDB',\n",
       " 'elmkey': 'EMOMM',\n",
       " 'emline_gew_1re_ariii_7137': None,\n",
       " 'emline_gew_1re_ariii_7753': None,\n",
       " 'emline_gew_1re_h11_3771': None,\n",
       " 'emline_gew_1re_h12_3751': None,\n",
       " 'emline_gew_1re_ha_6564': 27.4982,\n",
       " 'emline_gew_1re_hb_4862': 6.10616,\n",
       " 'emline_gew_1re_hdel_4102': 1.35833,\n",
       " 'emline_gew_1re_hei_3889': None,\n",
       " 'emline_gew_1re_hei_5877': 0.710001,\n",
       " 'emline_gew_1re_hei_7067': None,\n",
       " 'emline_gew_1re_heii_4687': 0.0650424,\n",
       " 'emline_gew_1re_heps_3971': 0.804495,\n",
       " 'emline_gew_1re_heta_3836': 0.389609,\n",
       " 'emline_gew_1re_hgam_4341': 2.84447,\n",
       " 'emline_gew_1re_hthe_3798': 0.650474,\n",
       " 'emline_gew_1re_hzet_3890': 1.27004,\n",
       " 'emline_gew_1re_neiii_3869': 0.140805,\n",
       " 'emline_gew_1re_neiii_3968': 0.00179238,\n",
       " 'emline_gew_1re_ni_5199': None,\n",
       " 'emline_gew_1re_ni_5201': None,\n",
       " 'emline_gew_1re_nii_6549': 3.58051,\n",
       " 'emline_gew_1re_nii_6585': 10.961,\n",
       " 'emline_gew_1re_oi_6302': 0.434327,\n",
       " 'emline_gew_1re_oi_6365': 0.139302,\n",
       " 'emline_gew_1re_oii_3727': 4.26555,\n",
       " 'emline_gew_1re_oii_3729': 5.45771,\n",
       " 'emline_gew_1re_oiii_4960': 0.476799,\n",
       " 'emline_gew_1re_oiii_5008': 1.43597,\n",
       " 'emline_gew_1re_peps_9548': None,\n",
       " 'emline_gew_1re_peta_9017': None,\n",
       " 'emline_gew_1re_pzet_9231': None,\n",
       " 'emline_gew_1re_sii_6718': 4.30393,\n",
       " 'emline_gew_1re_sii_6732': 3.03167,\n",
       " 'emline_gew_1re_siii_9071': None,\n",
       " 'emline_gew_1re_siii_9533': None,\n",
       " 'emline_gew_peak_ariii_7137': None,\n",
       " 'emline_gew_peak_ariii_7753': None,\n",
       " 'emline_gew_peak_h11_3771': None,\n",
       " 'emline_gew_peak_h12_3751': None,\n",
       " 'emline_gew_peak_ha_6564': 38.9328,\n",
       " 'emline_gew_peak_hb_4862': 16.031,\n",
       " 'emline_gew_peak_hdel_4102': 15.1338,\n",
       " 'emline_gew_peak_hei_3889': None,\n",
       " 'emline_gew_peak_hei_5877': 12.108,\n",
       " 'emline_gew_peak_hei_7067': None,\n",
       " 'emline_gew_peak_heii_4687': 15.5558,\n",
       " 'emline_gew_peak_heps_3971': 19.1801,\n",
       " 'emline_gew_peak_heta_3836': 19.8707,\n",
       " 'emline_gew_peak_hgam_4341': 14.5215,\n",
       " 'emline_gew_peak_hthe_3798': 25.8161,\n",
       " 'emline_gew_peak_hzet_3890': 57.0011,\n",
       " 'emline_gew_peak_neiii_3869': 39.4136,\n",
       " 'emline_gew_peak_neiii_3968': 10.7675,\n",
       " 'emline_gew_peak_ni_5199': None,\n",
       " 'emline_gew_peak_ni_5201': None,\n",
       " 'emline_gew_peak_nii_6549': 4.07574,\n",
       " 'emline_gew_peak_nii_6585': 12.7555,\n",
       " 'emline_gew_peak_oi_6302': 3.77613,\n",
       " 'emline_gew_peak_oi_6365': 1.35955,\n",
       " 'emline_gew_peak_oii_3727': 81.7699,\n",
       " 'emline_gew_peak_oii_3729': 47.9409,\n",
       " 'emline_gew_peak_oiii_4960': 3.51889,\n",
       " 'emline_gew_peak_oiii_5008': 9.51302,\n",
       " 'emline_gew_peak_peps_9548': None,\n",
       " 'emline_gew_peak_peta_9017': None,\n",
       " 'emline_gew_peak_pzet_9231': None,\n",
       " 'emline_gew_peak_sii_6718': 8.06361,\n",
       " 'emline_gew_peak_sii_6732': 11.5143,\n",
       " 'emline_gew_peak_siii_9071': None,\n",
       " 'emline_gew_peak_siii_9533': None,\n",
       " 'emline_gflux_1re_ariii_7137': None,\n",
       " 'emline_gflux_1re_ariii_7753': None,\n",
       " 'emline_gflux_1re_h11_3771': None,\n",
       " 'emline_gflux_1re_h12_3751': None,\n",
       " 'emline_gflux_1re_ha_6564': 518.46,\n",
       " 'emline_gflux_1re_hb_4862': 112.42,\n",
       " 'emline_gflux_1re_hdel_4102': 21.3803,\n",
       " 'emline_gflux_1re_hei_3889': None,\n",
       " 'emline_gflux_1re_hei_5877': 12.863,\n",
       " 'emline_gflux_1re_hei_7067': None,\n",
       " 'emline_gflux_1re_heii_4687': 1.19922,\n",
       " 'emline_gflux_1re_heps_3971': 11.6298,\n",
       " 'emline_gflux_1re_heta_3836': 5.22986,\n",
       " 'emline_gflux_1re_hgam_4341': 47.1128,\n",
       " 'emline_gflux_1re_hthe_3798': 8.36326,\n",
       " 'emline_gflux_1re_hzet_3890': 17.7498,\n",
       " 'emline_gflux_1re_neiii_3869': 1.94241,\n",
       " 'emline_gflux_1re_neiii_3968': 0.0240209,\n",
       " 'emline_gflux_1re_ni_5199': None,\n",
       " 'emline_gflux_1re_ni_5201': None,\n",
       " 'emline_gflux_1re_nii_6549': 67.4505,\n",
       " 'emline_gflux_1re_nii_6585': 206.271,\n",
       " 'emline_gflux_1re_oi_6302': 8.00018,\n",
       " 'emline_gflux_1re_oi_6365': 2.62406,\n",
       " 'emline_gflux_1re_oii_3727': 44.3049,\n",
       " 'emline_gflux_1re_oii_3729': 57.3429,\n",
       " 'emline_gflux_1re_oiii_4960': 8.81263,\n",
       " 'emline_gflux_1re_oiii_5008': 25.9195,\n",
       " 'emline_gflux_1re_peps_9548': None,\n",
       " 'emline_gflux_1re_peta_9017': None,\n",
       " 'emline_gflux_1re_pzet_9231': None,\n",
       " 'emline_gflux_1re_sii_6718': 80.265,\n",
       " 'emline_gflux_1re_sii_6732': 56.7194,\n",
       " 'emline_gflux_1re_siii_9071': None,\n",
       " 'emline_gflux_1re_siii_9533': None,\n",
       " 'emline_gflux_cen_ariii_7137': None,\n",
       " 'emline_gflux_cen_ariii_7753': None,\n",
       " 'emline_gflux_cen_h11_3771': None,\n",
       " 'emline_gflux_cen_h12_3751': None,\n",
       " 'emline_gflux_cen_ha_6564': 518.46,\n",
       " 'emline_gflux_cen_hb_4862': 112.42,\n",
       " 'emline_gflux_cen_hdel_4102': 21.3803,\n",
       " 'emline_gflux_cen_hei_3889': None,\n",
       " 'emline_gflux_cen_hei_5877': 12.863,\n",
       " 'emline_gflux_cen_hei_7067': None,\n",
       " 'emline_gflux_cen_heii_4687': 1.19922,\n",
       " 'emline_gflux_cen_heps_3971': 11.6298,\n",
       " 'emline_gflux_cen_heta_3836': 5.22986,\n",
       " 'emline_gflux_cen_hgam_4341': 47.1128,\n",
       " 'emline_gflux_cen_hthe_3798': 8.36326,\n",
       " 'emline_gflux_cen_hzet_3890': 17.7498,\n",
       " 'emline_gflux_cen_neiii_3869': 1.94241,\n",
       " 'emline_gflux_cen_neiii_3968': 0.0240209,\n",
       " 'emline_gflux_cen_ni_5199': None,\n",
       " 'emline_gflux_cen_ni_5201': None,\n",
       " 'emline_gflux_cen_nii_6549': 67.4505,\n",
       " 'emline_gflux_cen_nii_6585': 206.271,\n",
       " 'emline_gflux_cen_oi_6302': 8.00018,\n",
       " 'emline_gflux_cen_oi_6365': 2.62406,\n",
       " 'emline_gflux_cen_oii_3727': 44.3049,\n",
       " 'emline_gflux_cen_oii_3729': 57.3429,\n",
       " 'emline_gflux_cen_oiii_4960': 8.81263,\n",
       " 'emline_gflux_cen_oiii_5008': 25.9195,\n",
       " 'emline_gflux_cen_peps_9548': None,\n",
       " 'emline_gflux_cen_peta_9017': None,\n",
       " 'emline_gflux_cen_pzet_9231': None,\n",
       " 'emline_gflux_cen_sii_6718': 80.265,\n",
       " 'emline_gflux_cen_sii_6732': 56.7194,\n",
       " 'emline_gflux_cen_siii_9071': None,\n",
       " 'emline_gflux_cen_siii_9533': None,\n",
       " 'emline_gflux_tot_ariii_7137': None,\n",
       " 'emline_gflux_tot_ariii_7753': None,\n",
       " 'emline_gflux_tot_h11_3771': None,\n",
       " 'emline_gflux_tot_h12_3751': None,\n",
       " 'emline_gflux_tot_ha_6564': 1361.66,\n",
       " 'emline_gflux_tot_hb_4862': 318.375,\n",
       " 'emline_gflux_tot_hdel_4102': 68.5102,\n",
       " 'emline_gflux_tot_hei_3889': None,\n",
       " 'emline_gflux_tot_hei_5877': 41.2657,\n",
       " 'emline_gflux_tot_hei_7067': None,\n",
       " 'emline_gflux_tot_heii_4687': 24.9267,\n",
       " 'emline_gflux_tot_heps_3971': 38.8775,\n",
       " 'emline_gflux_tot_heta_3836': 27.3276,\n",
       " 'emline_gflux_tot_hgam_4341': 132.946,\n",
       " 'emline_gflux_tot_hthe_3798': 32.7129,\n",
       " 'emline_gflux_tot_hzet_3890': 56.1466,\n",
       " 'emline_gflux_tot_neiii_3869': 19.9697,\n",
       " 'emline_gflux_tot_neiii_3968': 5.95323,\n",
       " 'emline_gflux_tot_ni_5199': None,\n",
       " 'emline_gflux_tot_ni_5201': None,\n",
       " 'emline_gflux_tot_nii_6549': 185.207,\n",
       " 'emline_gflux_tot_nii_6585': 566.384,\n",
       " 'emline_gflux_tot_oi_6302': 35.6315,\n",
       " 'emline_gflux_tot_oi_6365': 11.6872,\n",
       " 'emline_gflux_tot_oii_3727': 153.158,\n",
       " 'emline_gflux_tot_oii_3729': 204.934,\n",
       " 'emline_gflux_tot_oiii_4960': 28.7995,\n",
       " 'emline_gflux_tot_oiii_5008': 84.7045,\n",
       " 'emline_gflux_tot_peps_9548': None,\n",
       " 'emline_gflux_tot_peta_9017': None,\n",
       " 'emline_gflux_tot_pzet_9231': None,\n",
       " 'emline_gflux_tot_sii_6718': 237.782,\n",
       " 'emline_gflux_tot_sii_6732': 162.729,\n",
       " 'emline_gflux_tot_siii_9071': None,\n",
       " 'emline_gflux_tot_siii_9533': None,\n",
       " 'emline_gsb_1re_ariii_7137': None,\n",
       " 'emline_gsb_1re_ariii_7753': None,\n",
       " 'emline_gsb_1re_h11_3771': None,\n",
       " 'emline_gsb_1re_h12_3751': None,\n",
       " 'emline_gsb_1re_ha_6564': 24.6886,\n",
       " 'emline_gsb_1re_hb_4862': 5.35334,\n",
       " 'emline_gsb_1re_hdel_4102': 1.01811,\n",
       " 'emline_gsb_1re_hei_3889': None,\n",
       " 'emline_gsb_1re_hei_5877': 0.612524,\n",
       " 'emline_gsb_1re_hei_7067': None,\n",
       " 'emline_gsb_1re_heii_4687': 0.0571056,\n",
       " 'emline_gsb_1re_heps_3971': 0.553798,\n",
       " 'emline_gsb_1re_heta_3836': 0.249041,\n",
       " 'emline_gsb_1re_hgam_4341': 2.24347,\n",
       " 'emline_gsb_1re_hthe_3798': 0.39825,\n",
       " 'emline_gsb_1re_hzet_3890': 0.845228,\n",
       " 'emline_gsb_1re_neiii_3869': 0.0924957,\n",
       " 'emline_gsb_1re_neiii_3968': 0.00114385,\n",
       " 'emline_gsb_1re_ni_5199': None,\n",
       " 'emline_gsb_1re_ni_5201': None,\n",
       " 'emline_gsb_1re_nii_6549': 3.21193,\n",
       " 'emline_gsb_1re_nii_6585': 9.82242,\n",
       " 'emline_gsb_1re_oi_6302': 0.380961,\n",
       " 'emline_gsb_1re_oi_6365': 0.124955,\n",
       " 'emline_gsb_1re_oii_3727': 2.10976,\n",
       " 'emline_gsb_1re_oii_3729': 2.73061,\n",
       " 'emline_gsb_1re_oiii_4960': 0.419649,\n",
       " 'emline_gsb_1re_oiii_5008': 1.23426,\n",
       " 'emline_gsb_1re_peps_9548': None,\n",
       " 'emline_gsb_1re_peta_9017': None,\n",
       " 'emline_gsb_1re_pzet_9231': None,\n",
       " 'emline_gsb_1re_sii_6718': 3.82214,\n",
       " 'emline_gsb_1re_sii_6732': 2.70092,\n",
       " 'emline_gsb_1re_siii_9071': None,\n",
       " 'emline_gsb_1re_siii_9533': None,\n",
       " 'emline_gsb_peak_ariii_7137': None,\n",
       " 'emline_gsb_peak_ariii_7753': None,\n",
       " 'emline_gsb_peak_h11_3771': None,\n",
       " 'emline_gsb_peak_h12_3751': None,\n",
       " 'emline_gsb_peak_ha_6564': 32.1308,\n",
       " 'emline_gsb_peak_hb_4862': 6.72949,\n",
       " 'emline_gsb_peak_hdel_4102': 1.2455,\n",
       " 'emline_gsb_peak_hei_3889': None,\n",
       " 'emline_gsb_peak_hei_5877': 0.813704,\n",
       " 'emline_gsb_peak_hei_7067': None,\n",
       " 'emline_gsb_peak_heii_4687': 0.281244,\n",
       " 'emline_gsb_peak_heps_3971': 0.728988,\n",
       " 'emline_gsb_peak_heta_3836': 0.445955,\n",
       " 'emline_gsb_peak_hgam_4341': 2.83761,\n",
       " 'emline_gsb_peak_hthe_3798': 0.543122,\n",
       " 'emline_gsb_peak_hzet_3890': 1.10308,\n",
       " 'emline_gsb_peak_neiii_3869': 0.486302,\n",
       " 'emline_gsb_peak_neiii_3968': 0.160955,\n",
       " 'emline_gsb_peak_ni_5199': None,\n",
       " 'emline_gsb_peak_ni_5201': None,\n",
       " 'emline_gsb_peak_nii_6549': 4.10029,\n",
       " 'emline_gsb_peak_nii_6585': 12.5391,\n",
       " 'emline_gsb_peak_oi_6302': 0.456323,\n",
       " 'emline_gsb_peak_oi_6365': 0.149674,\n",
       " 'emline_gsb_peak_oii_3727': 2.49971,\n",
       " 'emline_gsb_peak_oii_3729': 3.51859,\n",
       " 'emline_gsb_peak_oiii_4960': 0.535376,\n",
       " 'emline_gsb_peak_oiii_5008': 1.57463,\n",
       " 'emline_gsb_peak_peps_9548': None,\n",
       " 'emline_gsb_peak_peta_9017': None,\n",
       " 'emline_gsb_peak_pzet_9231': None,\n",
       " 'emline_gsb_peak_sii_6718': 4.79944,\n",
       " 'emline_gsb_peak_sii_6732': 3.55443,\n",
       " 'emline_gsb_peak_siii_9071': None,\n",
       " 'emline_gsb_peak_siii_9533': None,\n",
       " 'emline_rchi2_1re': None,\n",
       " 'emline_sew_1re_ariii_7137': None,\n",
       " 'emline_sew_1re_ariii_7753': None,\n",
       " 'emline_sew_1re_h11_3771': None,\n",
       " 'emline_sew_1re_h12_3751': None,\n",
       " 'emline_sew_1re_ha_6564': 27.3901,\n",
       " 'emline_sew_1re_hb_4862': 6.20649,\n",
       " 'emline_sew_1re_hdel_4102': 1.15052,\n",
       " 'emline_sew_1re_hei_3889': None,\n",
       " 'emline_sew_1re_hei_5877': 0.643927,\n",
       " 'emline_sew_1re_hei_7067': None,\n",
       " 'emline_sew_1re_heii_4687': -0.176071,\n",
       " 'emline_sew_1re_heps_3971': 0.945434,\n",
       " 'emline_sew_1re_heta_3836': -0.282407,\n",
       " 'emline_sew_1re_hgam_4341': 2.76551,\n",
       " 'emline_sew_1re_hthe_3798': 0.484435,\n",
       " 'emline_sew_1re_hzet_3890': 1.01556,\n",
       " 'emline_sew_1re_neiii_3869': -0.225166,\n",
       " 'emline_sew_1re_neiii_3968': 1.0079,\n",
       " 'emline_sew_1re_ni_5199': None,\n",
       " 'emline_sew_1re_ni_5201': None,\n",
       " 'emline_sew_1re_nii_6549': 3.54708,\n",
       " 'emline_sew_1re_nii_6585': 11.1028,\n",
       " 'emline_sew_1re_oi_6302': 0.389209,\n",
       " 'emline_sew_1re_oi_6365': 0.0757347,\n",
       " 'emline_sew_1re_oii_3729': -999.0,\n",
       " 'emline_sew_1re_oiid_3728': 10.447,\n",
       " 'emline_sew_1re_oiii_4960': 0.487555,\n",
       " 'emline_sew_1re_oiii_5008': 1.63108,\n",
       " 'emline_sew_1re_peps_9548': None,\n",
       " 'emline_sew_1re_peta_9017': None,\n",
       " 'emline_sew_1re_pzet_9231': None,\n",
       " 'emline_sew_1re_sii_6718': 4.23529,\n",
       " 'emline_sew_1re_sii_6732': 2.94104,\n",
       " 'emline_sew_1re_siii_9071': None,\n",
       " 'emline_sew_1re_siii_9533': None,\n",
       " 'emline_sew_peak_ariii_7137': None,\n",
       " 'emline_sew_peak_ariii_7753': None,\n",
       " 'emline_sew_peak_h11_3771': None,\n",
       " 'emline_sew_peak_h12_3751': None,\n",
       " 'emline_sew_peak_ha_6564': 36.6182,\n",
       " 'emline_sew_peak_hb_4862': 16.3811,\n",
       " 'emline_sew_peak_hdel_4102': 35.8587,\n",
       " 'emline_sew_peak_hei_3889': None,\n",
       " 'emline_sew_peak_hei_5877': 7.47555,\n",
       " 'emline_sew_peak_hei_7067': None,\n",
       " 'emline_sew_peak_heii_4687': 16.449,\n",
       " 'emline_sew_peak_heps_3971': 21.7571,\n",
       " 'emline_sew_peak_heta_3836': 93.6932,\n",
       " 'emline_sew_peak_hgam_4341': 9.01091,\n",
       " 'emline_sew_peak_hthe_3798': 42.6538,\n",
       " 'emline_sew_peak_hzet_3890': 109.956,\n",
       " 'emline_sew_peak_neiii_3869': 49.094,\n",
       " 'emline_sew_peak_neiii_3968': 26.5169,\n",
       " 'emline_sew_peak_ni_5199': None,\n",
       " 'emline_sew_peak_ni_5201': None,\n",
       " 'emline_sew_peak_nii_6549': 7.72292,\n",
       " 'emline_sew_peak_nii_6585': 14.3616,\n",
       " 'emline_sew_peak_oi_6302': 27.9179,\n",
       " 'emline_sew_peak_oi_6365': 6.31804,\n",
       " 'emline_sew_peak_oii_3729': -999.0,\n",
       " 'emline_sew_peak_oiid_3728': 138.728,\n",
       " 'emline_sew_peak_oiii_4960': 9.00773,\n",
       " 'emline_sew_peak_oiii_5008': 9.37749,\n",
       " 'emline_sew_peak_peps_9548': None,\n",
       " 'emline_sew_peak_peta_9017': None,\n",
       " 'emline_sew_peak_pzet_9231': None,\n",
       " 'emline_sew_peak_sii_6718': 8.54078,\n",
       " 'emline_sew_peak_sii_6732': 6.52371,\n",
       " 'emline_sew_peak_siii_9071': None,\n",
       " 'emline_sew_peak_siii_9533': None,\n",
       " 'emline_sflux_1re_ariii_7137': None,\n",
       " 'emline_sflux_1re_ariii_7753': None,\n",
       " 'emline_sflux_1re_h11_3771': None,\n",
       " 'emline_sflux_1re_h12_3751': None,\n",
       " 'emline_sflux_1re_ha_6564': 516.301,\n",
       " 'emline_sflux_1re_hb_4862': 114.248,\n",
       " 'emline_sflux_1re_hdel_4102': 17.8432,\n",
       " 'emline_sflux_1re_hei_3889': None,\n",
       " 'emline_sflux_1re_hei_5877': 11.667,\n",
       " 'emline_sflux_1re_hei_7067': None,\n",
       " 'emline_sflux_1re_heii_4687': -3.06547,\n",
       " 'emline_sflux_1re_heps_3971': 13.7186,\n",
       " 'emline_sflux_1re_heta_3836': -3.9439,\n",
       " 'emline_sflux_1re_hgam_4341': 45.7339,\n",
       " 'emline_sflux_1re_hthe_3798': 6.28873,\n",
       " 'emline_sflux_1re_hzet_3890': 14.1059,\n",
       " 'emline_sflux_1re_neiii_3869': -3.12948,\n",
       " 'emline_sflux_1re_neiii_3968': 14.4864,\n",
       " 'emline_sflux_1re_ni_5199': None,\n",
       " 'emline_sflux_1re_ni_5201': None,\n",
       " 'emline_sflux_1re_nii_6549': 66.7283,\n",
       " 'emline_sflux_1re_nii_6585': 208.848,\n",
       " 'emline_sflux_1re_oi_6302': 7.24872,\n",
       " 'emline_sflux_1re_oi_6365': 1.36866,\n",
       " 'emline_sflux_1re_oii_3729': -999.0,\n",
       " 'emline_sflux_1re_oiid_3728': 109.32,\n",
       " 'emline_sflux_1re_oiii_4960': 8.97325,\n",
       " 'emline_sflux_1re_oiii_5008': 29.4651,\n",
       " 'emline_sflux_1re_peps_9548': None,\n",
       " 'emline_sflux_1re_peta_9017': None,\n",
       " 'emline_sflux_1re_pzet_9231': None,\n",
       " 'emline_sflux_1re_sii_6718': 78.8998,\n",
       " 'emline_sflux_1re_sii_6732': 54.9941,\n",
       " 'emline_sflux_1re_siii_9071': None,\n",
       " 'emline_sflux_1re_siii_9533': None,\n",
       " 'emline_sflux_cen_ariii_7137': None,\n",
       " 'emline_sflux_cen_ariii_7753': None,\n",
       " 'emline_sflux_cen_h11_3771': None,\n",
       " 'emline_sflux_cen_h12_3751': None,\n",
       " 'emline_sflux_cen_ha_6564': 516.301,\n",
       " 'emline_sflux_cen_hb_4862': 114.248,\n",
       " 'emline_sflux_cen_hdel_4102': 17.8432,\n",
       " 'emline_sflux_cen_hei_3889': None,\n",
       " 'emline_sflux_cen_hei_5877': 11.667,\n",
       " 'emline_sflux_cen_hei_7067': None,\n",
       " 'emline_sflux_cen_heii_4687': -3.06547,\n",
       " 'emline_sflux_cen_heps_3971': 13.7186,\n",
       " 'emline_sflux_cen_heta_3836': -3.9439,\n",
       " 'emline_sflux_cen_hgam_4341': 45.7339,\n",
       " 'emline_sflux_cen_hthe_3798': 6.28873,\n",
       " 'emline_sflux_cen_hzet_3890': 14.1059,\n",
       " 'emline_sflux_cen_neiii_3869': -3.12948,\n",
       " 'emline_sflux_cen_neiii_3968': 14.4864,\n",
       " 'emline_sflux_cen_ni_5199': None,\n",
       " 'emline_sflux_cen_ni_5201': None,\n",
       " 'emline_sflux_cen_nii_6549': 66.7283,\n",
       " 'emline_sflux_cen_nii_6585': 208.848,\n",
       " 'emline_sflux_cen_oi_6302': 7.24872,\n",
       " 'emline_sflux_cen_oi_6365': 1.36866,\n",
       " 'emline_sflux_cen_oii_3729': -999.0,\n",
       " 'emline_sflux_cen_oiid_3728': 109.32,\n",
       " 'emline_sflux_cen_oiii_4960': 8.97325,\n",
       " 'emline_sflux_cen_oiii_5008': 29.4651,\n",
       " 'emline_sflux_cen_peps_9548': None,\n",
       " 'emline_sflux_cen_peta_9017': None,\n",
       " 'emline_sflux_cen_pzet_9231': None,\n",
       " 'emline_sflux_cen_sii_6718': 78.8998,\n",
       " 'emline_sflux_cen_sii_6732': 54.9941,\n",
       " 'emline_sflux_cen_siii_9071': None,\n",
       " 'emline_sflux_cen_siii_9533': None,\n",
       " 'emline_sflux_tot_ariii_7137': None,\n",
       " 'emline_sflux_tot_ariii_7753': None,\n",
       " 'emline_sflux_tot_h11_3771': None,\n",
       " 'emline_sflux_tot_h12_3751': None,\n",
       " 'emline_sflux_tot_ha_6564': 1351.66,\n",
       " 'emline_sflux_tot_hb_4862': 325.567,\n",
       " 'emline_sflux_tot_hdel_4102': 71.1853,\n",
       " 'emline_sflux_tot_hei_3889': None,\n",
       " 'emline_sflux_tot_hei_5877': 11.6504,\n",
       " 'emline_sflux_tot_hei_7067': None,\n",
       " 'emline_sflux_tot_heii_4687': 9.70377,\n",
       " 'emline_sflux_tot_heps_3971': 28.3504,\n",
       " 'emline_sflux_tot_heta_3836': 3.11666,\n",
       " 'emline_sflux_tot_hgam_4341': 121.194,\n",
       " 'emline_sflux_tot_hthe_3798': 26.5551,\n",
       " 'emline_sflux_tot_hzet_3890': 59.6586,\n",
       " 'emline_sflux_tot_neiii_3869': 11.572,\n",
       " 'emline_sflux_tot_neiii_3968': 34.5501,\n",
       " 'emline_sflux_tot_ni_5199': None,\n",
       " 'emline_sflux_tot_ni_5201': None,\n",
       " 'emline_sflux_tot_nii_6549': 189.182,\n",
       " 'emline_sflux_tot_nii_6585': 563.471,\n",
       " 'emline_sflux_tot_oi_6302': 12.4225,\n",
       " 'emline_sflux_tot_oi_6365': 2.60493,\n",
       " 'emline_sflux_tot_oii_3729': -999.0,\n",
       " 'emline_sflux_tot_oiid_3728': 373.351,\n",
       " 'emline_sflux_tot_oiii_4960': 33.7084,\n",
       " 'emline_sflux_tot_oiii_5008': 91.7779,\n",
       " 'emline_sflux_tot_peps_9548': None,\n",
       " 'emline_sflux_tot_peta_9017': None,\n",
       " 'emline_sflux_tot_pzet_9231': None,\n",
       " 'emline_sflux_tot_sii_6718': 229.86,\n",
       " 'emline_sflux_tot_sii_6732': 147.315,\n",
       " 'emline_sflux_tot_siii_9071': None,\n",
       " 'emline_sflux_tot_siii_9533': None,\n",
       " 'emline_ssb_1re_ariii_7137': None,\n",
       " 'emline_ssb_1re_ariii_7753': None,\n",
       " 'emline_ssb_1re_h11_3771': None,\n",
       " 'emline_ssb_1re_h12_3751': None,\n",
       " 'emline_ssb_1re_ha_6564': 24.5857,\n",
       " 'emline_ssb_1re_hb_4862': 5.44036,\n",
       " 'emline_ssb_1re_hdel_4102': 0.849675,\n",
       " 'emline_ssb_1re_hei_3889': None,\n",
       " 'emline_ssb_1re_hei_5877': 0.555572,\n",
       " 'emline_ssb_1re_hei_7067': None,\n",
       " 'emline_ssb_1re_heii_4687': -0.145975,\n",
       " 'emline_ssb_1re_heps_3971': 0.653266,\n",
       " 'emline_ssb_1re_heta_3836': -0.187805,\n",
       " 'emline_ssb_1re_hgam_4341': 2.1778,\n",
       " 'emline_ssb_1re_hthe_3798': 0.299464,\n",
       " 'emline_ssb_1re_hzet_3890': 0.671709,\n",
       " 'emline_ssb_1re_neiii_3869': -0.149023,\n",
       " 'emline_ssb_1re_neiii_3968': 0.68983,\n",
       " 'emline_ssb_1re_ni_5199': None,\n",
       " 'emline_ssb_1re_ni_5201': None,\n",
       " 'emline_ssb_1re_nii_6549': 3.17754,\n",
       " 'emline_ssb_1re_nii_6585': 9.94513,\n",
       " 'emline_ssb_1re_oi_6302': 0.345177,\n",
       " 'emline_ssb_1re_oi_6365': 0.0651744,\n",
       " 'emline_ssb_1re_oii_3729': -999.0,\n",
       " 'emline_ssb_1re_oiid_3728': 5.20572,\n",
       " 'emline_ssb_1re_oiii_4960': 0.427298,\n",
       " 'emline_ssb_1re_oiii_5008': 1.4031,\n",
       " 'emline_ssb_1re_peps_9548': None,\n",
       " 'emline_ssb_1re_peta_9017': None,\n",
       " 'emline_ssb_1re_pzet_9231': None,\n",
       " 'emline_ssb_1re_sii_6718': 3.75713,\n",
       " 'emline_ssb_1re_sii_6732': 2.61876,\n",
       " 'emline_ssb_1re_siii_9071': None,\n",
       " 'emline_ssb_1re_siii_9533': None,\n",
       " 'emline_ssb_peak_ariii_7137': None,\n",
       " 'emline_ssb_peak_ariii_7753': None,\n",
       " 'emline_ssb_peak_h11_3771': None,\n",
       " 'emline_ssb_peak_h12_3751': None,\n",
       " 'emline_ssb_peak_ha_6564': 31.8687,\n",
       " 'emline_ssb_peak_hb_4862': 6.8731,\n",
       " 'emline_ssb_peak_hdel_4102': 1.12167,\n",
       " 'emline_ssb_peak_hei_3889': None,\n",
       " 'emline_ssb_peak_hei_5877': 0.771162,\n",
       " 'emline_ssb_peak_hei_7067': None,\n",
       " 'emline_ssb_peak_heii_4687': 0.317394,\n",
       " 'emline_ssb_peak_heps_3971': 0.913496,\n",
       " 'emline_ssb_peak_heta_3836': 0.336819,\n",
       " 'emline_ssb_peak_hgam_4341': 2.76951,\n",
       " 'emline_ssb_peak_hthe_3798': 0.471803,\n",
       " 'emline_ssb_peak_hzet_3890': 0.85201,\n",
       " 'emline_ssb_peak_neiii_3869': 0.3048,\n",
       " 'emline_ssb_peak_neiii_3968': 0.972068,\n",
       " 'emline_ssb_peak_ni_5199': None,\n",
       " 'emline_ssb_peak_ni_5201': None,\n",
       " 'emline_ssb_peak_nii_6549': 4.12037,\n",
       " 'emline_ssb_peak_nii_6585': 12.6504,\n",
       " 'emline_ssb_peak_oi_6302': 0.680455,\n",
       " 'emline_ssb_peak_oi_6365': 0.330885,\n",
       " 'emline_ssb_peak_oii_3729': -999.0,\n",
       " 'emline_ssb_peak_oiid_3728': 6.39757,\n",
       " 'emline_ssb_peak_oiii_4960': 0.609163,\n",
       " 'emline_ssb_peak_oiii_5008': 1.8637,\n",
       " 'emline_ssb_peak_peps_9548': None,\n",
       " 'emline_ssb_peak_peta_9017': None,\n",
       " 'emline_ssb_peak_pzet_9231': None,\n",
       " 'emline_ssb_peak_sii_6718': 4.67824,\n",
       " 'emline_ssb_peak_sii_6732': 3.41485,\n",
       " 'emline_ssb_peak_siii_9071': None,\n",
       " 'emline_ssb_peak_siii_9533': None,\n",
       " 'ha_gsigma_1re': 68.0218,\n",
       " 'ha_gsigma_hi': 71.8789,\n",
       " 'ha_gsigma_hi_clip': 69.0736,\n",
       " 'ha_gvel_hi': 101.714,\n",
       " 'ha_gvel_hi_clip': 101.714,\n",
       " 'ha_gvel_lo': -102.1,\n",
       " 'ha_gvel_lo_clip': -102.1,\n",
       " 'ha_z': 0.0407546,\n",
       " 'ifudec': 48.6902,\n",
       " 'ifudesign': 1901,\n",
       " 'ifura': 232.545,\n",
       " 'ldist_nsa_z': 125.951,\n",
       " 'ldist_z': 125.951,\n",
       " 'mangaid': '1-209232',\n",
       " 'mngtarg1': 2336,\n",
       " 'mngtarg2': 0,\n",
       " 'mngtarg3': 0,\n",
       " 'mode': 'CUBE',\n",
       " 'nsa_elpetro_ba': 0.87454,\n",
       " 'nsa_elpetro_phi': 154.873,\n",
       " 'nsa_elpetro_th50_r': 1.33067,\n",
       " 'nsa_sersic_ba': 0.773047,\n",
       " 'nsa_sersic_n': 3.29617,\n",
       " 'nsa_sersic_phi': 163.295,\n",
       " 'nsa_sersic_th50': 1.27748,\n",
       " 'nsa_z': 0.0407447,\n",
       " 'nsa_zdist': 0.0412014,\n",
       " 'objdec': 48.6902,\n",
       " 'objra': 232.545,\n",
       " 'plate': 8485,\n",
       " 'plateifu': '8485-1901',\n",
       " 'rcov90': 4.59393,\n",
       " 'rdxqakey': 'SNRG',\n",
       " 'sb_1re': 0.739731,\n",
       " 'sckey': 'GAU-MILESHC',\n",
       " 'sfr_1re': 0.0528483,\n",
       " 'sfr_tot': 0.138799,\n",
       " 'sikey': 'INDXEN',\n",
       " 'snr_med_1': 23.8189,\n",
       " 'snr_med_2': 31.975,\n",
       " 'snr_med_3': 36.9326,\n",
       " 'snr_med_4': 29.9123,\n",
       " 'snr_ring_1': 43.2201,\n",
       " 'snr_ring_2': 54.947,\n",
       " 'snr_ring_3': 68.2999,\n",
       " 'snr_ring_4': 40.6828,\n",
       " 'specindex_1re_atio': 0.00551309,\n",
       " 'specindex_1re_btio': 0.00355249,\n",
       " 'specindex_1re_c24668': 4.10516,\n",
       " 'specindex_1re_ca4227': 0.581439,\n",
       " 'specindex_1re_ca4455': 0.863865,\n",
       " 'specindex_1re_cah1': 0.00279579,\n",
       " 'specindex_1re_cah2': 0.0115499,\n",
       " 'specindex_1re_cahk': 11.2445,\n",
       " 'specindex_1re_caii1': 1.26339,\n",
       " 'specindex_1re_caii2': 4.18618,\n",
       " 'specindex_1re_caii3': 2.8872,\n",
       " 'specindex_1re_cn1': -0.0864013,\n",
       " 'specindex_1re_cn2': -0.0437025,\n",
       " 'specindex_1re_d4000': 1.52411,\n",
       " 'specindex_1re_dn4000': 1.33745,\n",
       " 'specindex_1re_fe4383': 2.80762,\n",
       " 'specindex_1re_fe4531': 2.32275,\n",
       " 'specindex_1re_fe5015': 2.72222,\n",
       " 'specindex_1re_fe5270': 1.52689,\n",
       " 'specindex_1re_fe5335': -999.0,\n",
       " 'specindex_1re_fe5406': 1.38777,\n",
       " 'specindex_1re_fe5709': 0.869846,\n",
       " 'specindex_1re_fe5782': 1.12106,\n",
       " 'specindex_1re_fehcvd': -999.0,\n",
       " 'specindex_1re_g4300': 2.19867,\n",
       " 'specindex_1re_hb': 3.24,\n",
       " 'specindex_1re_hdeltaa': 4.05036,\n",
       " 'specindex_1re_hdeltaf': 3.57781,\n",
       " 'specindex_1re_hgammaa': 1.67876,\n",
       " 'specindex_1re_hgammaf': 2.70133,\n",
       " 'specindex_1re_mg1': 0.0401765,\n",
       " 'specindex_1re_mg2': 0.115802,\n",
       " 'specindex_1re_mgb': 2.42074,\n",
       " 'specindex_1re_mgicvd': 2.89587,\n",
       " 'specindex_1re_mgiir': 0.645052,\n",
       " 'specindex_1re_nad': 1.97273,\n",
       " 'specindex_1re_nai': 0.984291,\n",
       " 'specindex_1re_naicvd': 0.305609,\n",
       " 'specindex_1re_naisdss': 0.446588,\n",
       " 'specindex_1re_pa12': 0.646918,\n",
       " 'specindex_1re_pa14': 0.135233,\n",
       " 'specindex_1re_pa17': 0.0824072,\n",
       " 'specindex_1re_tio1': 0.0231212,\n",
       " 'specindex_1re_tio2': 0.0514304,\n",
       " 'specindex_1re_tio2sdss': 0.0594138,\n",
       " 'specindex_1re_tiocvd': 1.05346,\n",
       " 'specindex_hi_atio': 0.182326,\n",
       " 'specindex_hi_btio': 0.133232,\n",
       " 'specindex_hi_c24668': 13.1459,\n",
       " 'specindex_hi_ca4227': 7.47015,\n",
       " 'specindex_hi_ca4455': 7.57996,\n",
       " 'specindex_hi_cah1': 0.183453,\n",
       " 'specindex_hi_cah2': 0.134479,\n",
       " 'specindex_hi_cahk': 39.6948,\n",
       " 'specindex_hi_caii1': 0.0,\n",
       " 'specindex_hi_caii2': 0.0,\n",
       " 'specindex_hi_caii3': 0.0,\n",
       " 'specindex_hi_clip_atio': 0.120311,\n",
       " 'specindex_hi_clip_btio': 0.134292,\n",
       " 'specindex_hi_clip_c24668': 11.5595,\n",
       " 'specindex_hi_clip_ca4227': 5.70183,\n",
       " 'specindex_hi_clip_ca4455': 5.89701,\n",
       " 'specindex_hi_clip_cah1': 0.18148,\n",
       " 'specindex_hi_clip_cah2': 0.124943,\n",
       " 'specindex_hi_clip_cahk': 29.4772,\n",
       " 'specindex_hi_clip_caii1': 0.0,\n",
       " 'specindex_hi_clip_caii2': 0.0,\n",
       " 'specindex_hi_clip_caii3': 0.0,\n",
       " 'specindex_hi_clip_cn1': 0.0384814,\n",
       " 'specindex_hi_clip_cn2': 0.110505,\n",
       " 'specindex_hi_clip_d4000': 2.81797,\n",
       " 'specindex_hi_clip_dn4000': 2.591,\n",
       " 'specindex_hi_clip_fe4383': 12.7337,\n",
       " 'specindex_hi_clip_fe4531': 10.4785,\n",
       " 'specindex_hi_clip_fe5015': 10.2687,\n",
       " 'specindex_hi_clip_fe5270': 6.44288,\n",
       " 'specindex_hi_clip_fe5335': -999.0,\n",
       " 'specindex_hi_clip_fe5406': 5.79711,\n",
       " 'specindex_hi_clip_fe5709': 5.73954,\n",
       " 'specindex_hi_clip_fe5782': 7.03384,\n",
       " 'specindex_hi_clip_fehcvd': -999.0,\n",
       " 'specindex_hi_clip_g4300': 12.8581,\n",
       " 'specindex_hi_clip_hb': 6.33448,\n",
       " 'specindex_hi_clip_hdeltaa': 11.6962,\n",
       " 'specindex_hi_clip_hdeltaf': 7.36328,\n",
       " 'specindex_hi_clip_hgammaa': 11.4393,\n",
       " 'specindex_hi_clip_hgammaf': 7.32675,\n",
       " 'specindex_hi_clip_mg1': 0.166036,\n",
       " 'specindex_hi_clip_mg2': 0.184872,\n",
       " 'specindex_hi_clip_mgb': 6.97964,\n",
       " 'specindex_hi_clip_mgicvd': 7.97149,\n",
       " 'specindex_hi_clip_mgiir': 0.0,\n",
       " 'specindex_hi_clip_nad': 7.65141,\n",
       " 'specindex_hi_clip_nai': 0.0,\n",
       " 'specindex_hi_clip_naicvd': 0.0,\n",
       " 'specindex_hi_clip_naisdss': 0.0,\n",
       " 'specindex_hi_clip_pa12': 0.0,\n",
       " 'specindex_hi_clip_pa14': 0.0,\n",
       " 'specindex_hi_clip_pa17': 0.0,\n",
       " 'specindex_hi_clip_tio1': 0.155296,\n",
       " 'specindex_hi_clip_tio2': 0.193627,\n",
       " 'specindex_hi_clip_tio2sdss': 0.170729,\n",
       " 'specindex_hi_clip_tiocvd': 1.19969,\n",
       " 'specindex_hi_cn1': 0.131247,\n",
       " 'specindex_hi_cn2': 0.136242,\n",
       " 'specindex_hi_d4000': 3.61342,\n",
       " 'specindex_hi_dn4000': 3.31988,\n",
       " 'specindex_hi_fe4383': 19.2254,\n",
       " 'specindex_hi_fe4531': 14.0339,\n",
       " 'specindex_hi_fe5015': 10.447,\n",
       " 'specindex_hi_fe5270': 7.04388,\n",
       " 'specindex_hi_fe5335': -999.0,\n",
       " 'specindex_hi_fe5406': 6.76932,\n",
       " 'specindex_hi_fe5709': 7.82672,\n",
       " 'specindex_hi_fe5782': 7.71598,\n",
       " 'specindex_hi_fehcvd': -999.0,\n",
       " 'specindex_hi_g4300': 13.1993,\n",
       " 'specindex_hi_hb': 9.76595,\n",
       " 'specindex_hi_hdeltaa': 13.3157,\n",
       " 'specindex_hi_hdeltaf': 8.13399,\n",
       " 'specindex_hi_hgammaa': 12.8899,\n",
       " 'specindex_hi_hgammaf': 8.24157,\n",
       " 'specindex_hi_mg1': 0.175285,\n",
       " 'specindex_hi_mg2': 0.185942,\n",
       " 'specindex_hi_mgb': 7.80642,\n",
       " 'specindex_hi_mgicvd': 11.2776,\n",
       " 'specindex_hi_mgiir': 0.0,\n",
       " 'specindex_hi_nad': 8.07816,\n",
       " 'specindex_hi_nai': 0.0,\n",
       " 'specindex_hi_naicvd': 0.0,\n",
       " 'specindex_hi_naisdss': 0.0,\n",
       " 'specindex_hi_pa12': 0.0,\n",
       " 'specindex_hi_pa14': 0.0,\n",
       " 'specindex_hi_pa17': 0.0,\n",
       " 'specindex_hi_tio1': 0.175818,\n",
       " 'specindex_hi_tio2': 0.224572,\n",
       " 'specindex_hi_tio2sdss': 0.223624,\n",
       " 'specindex_hi_tiocvd': 1.21371,\n",
       " 'specindex_lo_atio': -0.0977396,\n",
       " 'specindex_lo_btio': -0.311019,\n",
       " 'specindex_lo_c24668': -21.9193,\n",
       " 'specindex_lo_ca4227': -6.49659,\n",
       " 'specindex_lo_ca4455': -9.57681,\n",
       " 'specindex_lo_cah1': -0.175425,\n",
       " 'specindex_lo_cah2': -0.211529,\n",
       " 'specindex_lo_cahk': -40.765,\n",
       " 'specindex_lo_caii1': 0.0,\n",
       " 'specindex_lo_caii2': 0.0,\n",
       " 'specindex_lo_caii3': 0.0,\n",
       " 'specindex_lo_clip_atio': -0.0989413,\n",
       " 'specindex_lo_clip_btio': -0.233497,\n",
       " 'specindex_lo_clip_c24668': -10.4835,\n",
       " 'specindex_lo_clip_ca4227': -3.15338,\n",
       " 'specindex_lo_clip_ca4455': -5.24708,\n",
       " 'specindex_lo_clip_cah1': -0.175536,\n",
       " 'specindex_lo_clip_cah2': -0.121976,\n",
       " 'specindex_lo_clip_cahk': -3.20679,\n",
       " 'specindex_lo_clip_caii1': 0.0,\n",
       " 'specindex_lo_clip_caii2': 0.0,\n",
       " 'specindex_lo_clip_caii3': 0.0,\n",
       " 'specindex_lo_clip_cn1': -0.280524,\n",
       " 'specindex_lo_clip_cn2': -0.303259,\n",
       " 'specindex_lo_clip_d4000': 2.29061,\n",
       " 'specindex_lo_clip_dn4000': 2.13696,\n",
       " 'specindex_lo_clip_fe4383': -7.07412,\n",
       " 'specindex_lo_clip_fe4531': -4.70908,\n",
       " 'specindex_lo_clip_fe5015': -7.47642,\n",
       " 'specindex_lo_clip_fe5270': -4.5851,\n",
       " 'specindex_lo_clip_fe5335': -999.0,\n",
       " 'specindex_lo_clip_fe5406': -2.3743,\n",
       " 'specindex_lo_clip_fe5709': -4.47277,\n",
       " 'specindex_lo_clip_fe5782': -6.25382,\n",
       " 'specindex_lo_clip_fehcvd': -999.0,\n",
       " 'specindex_lo_clip_g4300': -4.76696,\n",
       " 'specindex_lo_clip_hb': -0.581457,\n",
       " 'specindex_lo_clip_hdeltaa': -1.13411,\n",
       " 'specindex_lo_clip_hdeltaf': -0.196434,\n",
       " 'specindex_lo_clip_hgammaa': -9.22131,\n",
       " 'specindex_lo_clip_hgammaf': -0.455337,\n",
       " 'specindex_lo_clip_mg1': -0.0719978,\n",
       " 'specindex_lo_clip_mg2': -0.0302495,\n",
       " 'specindex_lo_clip_mgb': -1.89058,\n",
       " 'specindex_lo_clip_mgicvd': -3.10888,\n",
       " 'specindex_lo_clip_mgiir': 0.0,\n",
       " 'specindex_lo_clip_nad': -4.24834,\n",
       " 'specindex_lo_clip_nai': 0.0,\n",
       " 'specindex_lo_clip_naicvd': 0.0,\n",
       " 'specindex_lo_clip_naisdss': 0.0,\n",
       " 'specindex_lo_clip_pa12': 0.0,\n",
       " 'specindex_lo_clip_pa14': 0.0,\n",
       " 'specindex_lo_clip_pa17': 0.0,\n",
       " 'specindex_lo_clip_tio1': -0.129133,\n",
       " 'specindex_lo_clip_tio2': 0.00316684,\n",
       " 'specindex_lo_clip_tio2sdss': -0.0178701,\n",
       " 'specindex_lo_clip_tiocvd': 0.738448,\n",
       " 'specindex_lo_cn1': -0.385819,\n",
       " 'specindex_lo_cn2': -0.485568,\n",
       " 'specindex_lo_d4000': 2.29264,\n",
       " 'specindex_lo_dn4000': 2.13209,\n",
       " 'specindex_lo_fe4383': -8.18299,\n",
       " 'specindex_lo_fe4531': -6.77229,\n",
       " 'specindex_lo_fe5015': -22.1422,\n",
       " 'specindex_lo_fe5270': -10.7289,\n",
       " 'specindex_lo_fe5335': -999.0,\n",
       " 'specindex_lo_fe5406': -7.10106,\n",
       " 'specindex_lo_fe5709': -11.7459,\n",
       " 'specindex_lo_fe5782': -8.23168,\n",
       " 'specindex_lo_fehcvd': -999.0,\n",
       " 'specindex_lo_g4300': -4.76423,\n",
       " 'specindex_lo_hb': -3.28381,\n",
       " 'specindex_lo_hdeltaa': -2.22777,\n",
       " 'specindex_lo_hdeltaf': -2.32744,\n",
       " 'specindex_lo_hgammaa': -13.2703,\n",
       " 'specindex_lo_hgammaf': -0.462504,\n",
       " 'specindex_lo_mg1': -0.0872268,\n",
       " 'specindex_lo_mg2': -0.105768,\n",
       " 'specindex_lo_mgb': -2.20914,\n",
       " 'specindex_lo_mgicvd': -5.94358,\n",
       " 'specindex_lo_mgiir': 0.0,\n",
       " 'specindex_lo_nad': -10.7727,\n",
       " 'specindex_lo_nai': 0.0,\n",
       " 'specindex_lo_naicvd': 0.0,\n",
       " 'specindex_lo_naisdss': 0.0,\n",
       " 'specindex_lo_pa12': 0.0,\n",
       " 'specindex_lo_pa14': 0.0,\n",
       " 'specindex_lo_pa17': 0.0,\n",
       " 'specindex_lo_tio1': -0.145828,\n",
       " 'specindex_lo_tio2': 0.00489405,\n",
       " 'specindex_lo_tio2sdss': -0.0248258,\n",
       " 'specindex_lo_tiocvd': 0.709605,\n",
       " 'stellar_cont_rchi2_1re': 1.58237,\n",
       " 'stellar_rchi2_1re': None,\n",
       " 'stellar_sigma_1re': 76.3244,\n",
       " 'stellar_vel_hi': 51.7862,\n",
       " 'stellar_vel_hi_clip': 49.8629,\n",
       " 'stellar_vel_lo': -105.375,\n",
       " 'stellar_vel_lo_clip': -58.0984,\n",
       " 'stellar_z': 0.0407708,\n",
       " 'tplkey': 'MILESHC',\n",
       " 'verscore': 'v1_6_2',\n",
       " 'versdap': '2.2.1',\n",
       " 'versdrp2': 'v2_4_3',\n",
       " 'versdrp3': 'v2_4_3',\n",
       " 'versutil': 'v5_5_32',\n",
       " 'z': 0.0407447}"
      ]
     },
     "execution_count": 34,
     "metadata": {},
     "output_type": "execute_result"
    }
   ],
   "source": [
    "# look at the DAP all properties from the maps instance\n",
    "maps.dapall"
   ]
  },
  {
   "cell_type": "markdown",
   "metadata": {},
   "source": [
    "SDSS members produce Value-Added Catalogs (VACS) of MaNGA products.  These products can be incorporated into Marvin.  Any incorporated VACS in Marvin are contained in the ``vacs`` attribute attached to each tool.  More information on VACs in Marvin can be found [here](https://sdss-marvin.readthedocs.io/en/stable/tools/catalogues.html#value-added-catalogs-vacs).  Currently the MaNGA-HI VAC for DR15 has been contributed into Marvin.  Let's take a look at it.  "
   ]
  },
  {
   "cell_type": "code",
   "execution_count": 35,
   "metadata": {},
   "outputs": [
    {
     "data": {
      "text/plain": [
       "<VACContainer ('firefly', 'galaxyzoo', 'gema', 'HI')>"
      ]
     },
     "execution_count": 35,
     "metadata": {},
     "output_type": "execute_result"
    }
   ],
   "source": [
    "# access the available VACs for this object\n",
    "vacs = cube.vacs\n",
    "vacs"
   ]
  },
  {
   "cell_type": "markdown",
   "metadata": {},
   "source": [
    "**vacs** is a container (list) of all names of the vacs contributed into Marvin.  These names are dottable to access to vac data.  These contributed custom products can be of any format chosen by the VAC owner, a Python class, a dictionary, an array, etc.  "
   ]
  },
  {
   "cell_type": "code",
   "execution_count": 36,
   "metadata": {},
   "outputs": [
    {
     "ename": "FileNotFoundError",
     "evalue": "[Errno 2] No such file or directory: '/home/haricash/sas/dr15/manga/HI/v1_0_1/mangaHIall.fits'",
     "output_type": "error",
     "traceback": [
      "\u001b[0;31m---------------------------------------------------------------------------\u001b[0m",
      "\u001b[0;31mFileNotFoundError\u001b[0m                         Traceback (most recent call last)",
      "Input \u001b[0;32mIn [36]\u001b[0m, in \u001b[0;36m<cell line: 2>\u001b[0;34m()\u001b[0m\n\u001b[1;32m      1\u001b[0m \u001b[38;5;66;03m# access the mangahi vac\u001b[39;00m\n\u001b[0;32m----> 2\u001b[0m hi \u001b[38;5;241m=\u001b[39m \u001b[43mvacs\u001b[49m\u001b[38;5;241;43m.\u001b[39;49m\u001b[43mHI\u001b[49m\n\u001b[1;32m      3\u001b[0m \u001b[38;5;28mprint\u001b[39m(hi)\n\u001b[1;32m      4\u001b[0m \u001b[38;5;28mprint\u001b[39m(\u001b[38;5;124m'\u001b[39m\u001b[38;5;124mdata type:\u001b[39m\u001b[38;5;124m'\u001b[39m, \u001b[38;5;28mtype\u001b[39m(hi))\n",
      "File \u001b[0;32m~/anaconda3/envs/msproj/lib/python3.9/site-packages/marvin/contrib/vacs/base.py:186\u001b[0m, in \u001b[0;36mVACMixIn.get_vacs.<locals>.<lambda>\u001b[0;34m(self, sv)\u001b[0m\n\u001b[1;32m    182\u001b[0m     \u001b[38;5;66;03m# We need to set sv=subvac in the lambda function to prevent\u001b[39;00m\n\u001b[1;32m    183\u001b[0m     \u001b[38;5;66;03m# a cell-var-from-loop issue.\u001b[39;00m\n\u001b[1;32m    184\u001b[0m     \u001b[38;5;28;01mif\u001b[39;00m parent_object\u001b[38;5;241m.\u001b[39m_release \u001b[38;5;129;01min\u001b[39;00m subvac\u001b[38;5;241m.\u001b[39mversion:\n\u001b[1;32m    185\u001b[0m         \u001b[38;5;28msetattr\u001b[39m(VACContainer, subvac\u001b[38;5;241m.\u001b[39mname,\n\u001b[0;32m--> 186\u001b[0m                 \u001b[38;5;28mproperty\u001b[39m(\u001b[38;5;28;01mlambda\u001b[39;00m \u001b[38;5;28mself\u001b[39m, sv\u001b[38;5;241m=\u001b[39msubvac: \u001b[43msv\u001b[49m\u001b[43m(\u001b[49m\u001b[43m)\u001b[49m\u001b[38;5;241;43m.\u001b[39;49m\u001b[43mget_target\u001b[49m\u001b[43m(\u001b[49m\u001b[43mparent_object\u001b[49m\u001b[43m)\u001b[49m))\n\u001b[1;32m    188\u001b[0m \u001b[38;5;28;01mreturn\u001b[39;00m vac_container\n",
      "File \u001b[0;32m~/anaconda3/envs/msproj/lib/python3.9/site-packages/marvin/contrib/vacs/hi.py:167\u001b[0m, in \u001b[0;36mHIVAC.get_target\u001b[0;34m(self, parent_object)\u001b[0m\n\u001b[1;32m    164\u001b[0m specfile \u001b[38;5;241m=\u001b[39m \u001b[38;5;28mself\u001b[39m\u001b[38;5;241m.\u001b[39mget_path(\u001b[38;5;124m'\u001b[39m\u001b[38;5;124mmangahispectra\u001b[39m\u001b[38;5;124m'\u001b[39m, path_params\u001b[38;5;241m=\u001b[39m\u001b[38;5;28mself\u001b[39m\u001b[38;5;241m.\u001b[39mpath_params)\n\u001b[1;32m    166\u001b[0m \u001b[38;5;66;03m# create container for more complex return data\u001b[39;00m\n\u001b[0;32m--> 167\u001b[0m hidata \u001b[38;5;241m=\u001b[39m \u001b[43mHITarget\u001b[49m\u001b[43m(\u001b[49m\u001b[43mplateifu\u001b[49m\u001b[43m,\u001b[49m\u001b[43m \u001b[49m\u001b[43mvacfile\u001b[49m\u001b[38;5;241;43m=\u001b[39;49m\u001b[38;5;28;43mself\u001b[39;49m\u001b[38;5;241;43m.\u001b[39;49m\u001b[43msummary_file\u001b[49m\u001b[43m,\u001b[49m\u001b[43m \u001b[49m\u001b[43mspecfile\u001b[49m\u001b[38;5;241;43m=\u001b[39;49m\u001b[43mspecfile\u001b[49m\u001b[43m)\u001b[49m\n\u001b[1;32m    169\u001b[0m \u001b[38;5;66;03m# get the spectral data for that row if it exists\u001b[39;00m\n\u001b[1;32m    170\u001b[0m \u001b[38;5;28;01mif\u001b[39;00m hidata\u001b[38;5;241m.\u001b[39m_indata \u001b[38;5;129;01mand\u001b[39;00m \u001b[38;5;129;01mnot\u001b[39;00m \u001b[38;5;28mself\u001b[39m\u001b[38;5;241m.\u001b[39mfile_exists(specfile):\n",
      "File \u001b[0;32m~/anaconda3/envs/msproj/lib/python3.9/site-packages/marvin/contrib/vacs/hi.py:200\u001b[0m, in \u001b[0;36mHITarget.__init__\u001b[0;34m(self, targetid, vacfile, specfile)\u001b[0m\n\u001b[1;32m    199\u001b[0m \u001b[38;5;28;01mdef\u001b[39;00m \u001b[38;5;21m__init__\u001b[39m(\u001b[38;5;28mself\u001b[39m, targetid, vacfile, specfile\u001b[38;5;241m=\u001b[39m\u001b[38;5;28;01mNone\u001b[39;00m):\n\u001b[0;32m--> 200\u001b[0m     \u001b[38;5;28;43msuper\u001b[39;49m\u001b[43m(\u001b[49m\u001b[43mHITarget\u001b[49m\u001b[43m,\u001b[49m\u001b[43m \u001b[49m\u001b[38;5;28;43mself\u001b[39;49m\u001b[43m)\u001b[49m\u001b[38;5;241;43m.\u001b[39;49m\u001b[38;5;21;43m__init__\u001b[39;49m\u001b[43m(\u001b[49m\u001b[43mtargetid\u001b[49m\u001b[43m,\u001b[49m\u001b[43m \u001b[49m\u001b[43mvacfile\u001b[49m\u001b[43m)\u001b[49m\n\u001b[1;32m    201\u001b[0m     \u001b[38;5;28mself\u001b[39m\u001b[38;5;241m.\u001b[39m_specfile \u001b[38;5;241m=\u001b[39m specfile\n\u001b[1;32m    202\u001b[0m     \u001b[38;5;28mself\u001b[39m\u001b[38;5;241m.\u001b[39m_specdata \u001b[38;5;241m=\u001b[39m \u001b[38;5;28;01mNone\u001b[39;00m\n",
      "File \u001b[0;32m~/anaconda3/envs/msproj/lib/python3.9/site-packages/marvin/contrib/vacs/base.py:337\u001b[0m, in \u001b[0;36mVACTarget.__init__\u001b[0;34m(self, targetid, vacfile, **kwargs)\u001b[0m\n\u001b[1;32m    335\u001b[0m \u001b[38;5;28;01massert\u001b[39;00m \u001b[38;5;28mself\u001b[39m\u001b[38;5;241m.\u001b[39m_ttype \u001b[38;5;129;01min\u001b[39;00m [\u001b[38;5;124m'\u001b[39m\u001b[38;5;124mplateifu\u001b[39m\u001b[38;5;124m'\u001b[39m, \u001b[38;5;124m'\u001b[39m\u001b[38;5;124mmangaid\u001b[39m\u001b[38;5;124m'\u001b[39m], \u001b[38;5;124m'\u001b[39m\u001b[38;5;124mInput targetid must be a valid plateifu or mangaid\u001b[39m\u001b[38;5;124m'\u001b[39m\n\u001b[1;32m    336\u001b[0m \u001b[38;5;28mself\u001b[39m\u001b[38;5;241m.\u001b[39m_vacfile \u001b[38;5;241m=\u001b[39m vacfile\n\u001b[0;32m--> 337\u001b[0m \u001b[38;5;28mself\u001b[39m\u001b[38;5;241m.\u001b[39m_data \u001b[38;5;241m=\u001b[39m \u001b[38;5;28;43mself\u001b[39;49m\u001b[38;5;241;43m.\u001b[39;49m\u001b[43m_get_data\u001b[49m\u001b[43m(\u001b[49m\u001b[38;5;28;43mself\u001b[39;49m\u001b[38;5;241;43m.\u001b[39;49m\u001b[43m_vacfile\u001b[49m\u001b[43m)\u001b[49m\n\u001b[1;32m    338\u001b[0m \u001b[38;5;28mself\u001b[39m\u001b[38;5;241m.\u001b[39m_indata \u001b[38;5;241m=\u001b[39m targetid \u001b[38;5;129;01min\u001b[39;00m \u001b[38;5;28mself\u001b[39m\u001b[38;5;241m.\u001b[39m_data[\u001b[38;5;28mself\u001b[39m\u001b[38;5;241m.\u001b[39m_ttype]\n",
      "File \u001b[0;32m~/anaconda3/envs/msproj/lib/python3.9/site-packages/marvin/contrib/vacs/base.py:361\u001b[0m, in \u001b[0;36mVACTarget._get_data\u001b[0;34m(self, vacfile, ext)\u001b[0m\n\u001b[1;32m    359\u001b[0m \u001b[38;5;28;01mif\u001b[39;00m \u001b[38;5;129;01mnot\u001b[39;00m vacfile:\n\u001b[1;32m    360\u001b[0m     vacfile \u001b[38;5;241m=\u001b[39m \u001b[38;5;28mself\u001b[39m\u001b[38;5;241m.\u001b[39m_vacfile\n\u001b[0;32m--> 361\u001b[0m \u001b[38;5;28;01mreturn\u001b[39;00m \u001b[43mfits\u001b[49m\u001b[38;5;241;43m.\u001b[39;49m\u001b[43mgetdata\u001b[49m\u001b[43m(\u001b[49m\u001b[43mvacfile\u001b[49m\u001b[43m,\u001b[49m\u001b[43m \u001b[49m\u001b[43mext\u001b[49m\u001b[43m)\u001b[49m\n",
      "File \u001b[0;32m~/anaconda3/envs/msproj/lib/python3.9/site-packages/astropy/io/fits/convenience.py:209\u001b[0m, in \u001b[0;36mgetdata\u001b[0;34m(filename, header, lower, upper, view, *args, **kwargs)\u001b[0m\n\u001b[1;32m    205\u001b[0m extver \u001b[38;5;241m=\u001b[39m kwargs\u001b[38;5;241m.\u001b[39mget(\u001b[38;5;124m'\u001b[39m\u001b[38;5;124mextver\u001b[39m\u001b[38;5;124m'\u001b[39m)\n\u001b[1;32m    206\u001b[0m ext_given \u001b[38;5;241m=\u001b[39m \u001b[38;5;129;01mnot\u001b[39;00m (\u001b[38;5;28mlen\u001b[39m(args) \u001b[38;5;241m==\u001b[39m \u001b[38;5;241m0\u001b[39m \u001b[38;5;129;01mand\u001b[39;00m ext \u001b[38;5;129;01mis\u001b[39;00m \u001b[38;5;28;01mNone\u001b[39;00m \u001b[38;5;129;01mand\u001b[39;00m\n\u001b[1;32m    207\u001b[0m                  extname \u001b[38;5;129;01mis\u001b[39;00m \u001b[38;5;28;01mNone\u001b[39;00m \u001b[38;5;129;01mand\u001b[39;00m extver \u001b[38;5;129;01mis\u001b[39;00m \u001b[38;5;28;01mNone\u001b[39;00m)\n\u001b[0;32m--> 209\u001b[0m hdulist, extidx \u001b[38;5;241m=\u001b[39m \u001b[43m_getext\u001b[49m\u001b[43m(\u001b[49m\u001b[43mfilename\u001b[49m\u001b[43m,\u001b[49m\u001b[43m \u001b[49m\u001b[43mmode\u001b[49m\u001b[43m,\u001b[49m\u001b[43m \u001b[49m\u001b[38;5;241;43m*\u001b[39;49m\u001b[43margs\u001b[49m\u001b[43m,\u001b[49m\u001b[43m \u001b[49m\u001b[38;5;241;43m*\u001b[39;49m\u001b[38;5;241;43m*\u001b[39;49m\u001b[43mkwargs\u001b[49m\u001b[43m)\u001b[49m\n\u001b[1;32m    210\u001b[0m \u001b[38;5;28;01mtry\u001b[39;00m:\n\u001b[1;32m    211\u001b[0m     hdu \u001b[38;5;241m=\u001b[39m hdulist[extidx]\n",
      "File \u001b[0;32m~/anaconda3/envs/msproj/lib/python3.9/site-packages/astropy/io/fits/convenience.py:1090\u001b[0m, in \u001b[0;36m_getext\u001b[0;34m(filename, mode, ext, extname, extver, *args, **kwargs)\u001b[0m\n\u001b[1;32m   1087\u001b[0m \u001b[38;5;28;01melif\u001b[39;00m extver \u001b[38;5;129;01mand\u001b[39;00m extname \u001b[38;5;129;01mis\u001b[39;00m \u001b[38;5;28;01mNone\u001b[39;00m:\n\u001b[1;32m   1088\u001b[0m     \u001b[38;5;28;01mraise\u001b[39;00m \u001b[38;5;167;01mTypeError\u001b[39;00m(\u001b[38;5;124m'\u001b[39m\u001b[38;5;124mextver alone cannot specify an extension.\u001b[39m\u001b[38;5;124m'\u001b[39m)\n\u001b[0;32m-> 1090\u001b[0m hdulist \u001b[38;5;241m=\u001b[39m \u001b[43mfitsopen\u001b[49m\u001b[43m(\u001b[49m\u001b[43mfilename\u001b[49m\u001b[43m,\u001b[49m\u001b[43m \u001b[49m\u001b[43mmode\u001b[49m\u001b[38;5;241;43m=\u001b[39;49m\u001b[43mmode\u001b[49m\u001b[43m,\u001b[49m\u001b[43m \u001b[49m\u001b[38;5;241;43m*\u001b[39;49m\u001b[38;5;241;43m*\u001b[39;49m\u001b[43mkwargs\u001b[49m\u001b[43m)\u001b[49m\n\u001b[1;32m   1092\u001b[0m \u001b[38;5;28;01mreturn\u001b[39;00m hdulist, ext\n",
      "File \u001b[0;32m~/anaconda3/envs/msproj/lib/python3.9/site-packages/astropy/io/fits/hdu/hdulist.py:173\u001b[0m, in \u001b[0;36mfitsopen\u001b[0;34m(name, mode, memmap, save_backup, cache, lazy_load_hdus, ignore_missing_simple, **kwargs)\u001b[0m\n\u001b[1;32m    170\u001b[0m \u001b[38;5;28;01mif\u001b[39;00m \u001b[38;5;129;01mnot\u001b[39;00m name:\n\u001b[1;32m    171\u001b[0m     \u001b[38;5;28;01mraise\u001b[39;00m \u001b[38;5;167;01mValueError\u001b[39;00m(\u001b[38;5;124mf\u001b[39m\u001b[38;5;124m'\u001b[39m\u001b[38;5;124mEmpty filename: \u001b[39m\u001b[38;5;132;01m{\u001b[39;00mname\u001b[38;5;132;01m!r}\u001b[39;00m\u001b[38;5;124m'\u001b[39m)\n\u001b[0;32m--> 173\u001b[0m \u001b[38;5;28;01mreturn\u001b[39;00m \u001b[43mHDUList\u001b[49m\u001b[38;5;241;43m.\u001b[39;49m\u001b[43mfromfile\u001b[49m\u001b[43m(\u001b[49m\u001b[43mname\u001b[49m\u001b[43m,\u001b[49m\u001b[43m \u001b[49m\u001b[43mmode\u001b[49m\u001b[43m,\u001b[49m\u001b[43m \u001b[49m\u001b[43mmemmap\u001b[49m\u001b[43m,\u001b[49m\u001b[43m \u001b[49m\u001b[43msave_backup\u001b[49m\u001b[43m,\u001b[49m\u001b[43m \u001b[49m\u001b[43mcache\u001b[49m\u001b[43m,\u001b[49m\n\u001b[1;32m    174\u001b[0m \u001b[43m                        \u001b[49m\u001b[43mlazy_load_hdus\u001b[49m\u001b[43m,\u001b[49m\u001b[43m \u001b[49m\u001b[43mignore_missing_simple\u001b[49m\u001b[43m,\u001b[49m\u001b[43m \u001b[49m\u001b[38;5;241;43m*\u001b[39;49m\u001b[38;5;241;43m*\u001b[39;49m\u001b[43mkwargs\u001b[49m\u001b[43m)\u001b[49m\n",
      "File \u001b[0;32m~/anaconda3/envs/msproj/lib/python3.9/site-packages/astropy/io/fits/hdu/hdulist.py:408\u001b[0m, in \u001b[0;36mHDUList.fromfile\u001b[0;34m(cls, fileobj, mode, memmap, save_backup, cache, lazy_load_hdus, ignore_missing_simple, **kwargs)\u001b[0m\n\u001b[1;32m    396\u001b[0m \u001b[38;5;129m@classmethod\u001b[39m\n\u001b[1;32m    397\u001b[0m \u001b[38;5;28;01mdef\u001b[39;00m \u001b[38;5;21mfromfile\u001b[39m(\u001b[38;5;28mcls\u001b[39m, fileobj, mode\u001b[38;5;241m=\u001b[39m\u001b[38;5;28;01mNone\u001b[39;00m, memmap\u001b[38;5;241m=\u001b[39m\u001b[38;5;28;01mNone\u001b[39;00m,\n\u001b[1;32m    398\u001b[0m              save_backup\u001b[38;5;241m=\u001b[39m\u001b[38;5;28;01mFalse\u001b[39;00m, cache\u001b[38;5;241m=\u001b[39m\u001b[38;5;28;01mTrue\u001b[39;00m, lazy_load_hdus\u001b[38;5;241m=\u001b[39m\u001b[38;5;28;01mTrue\u001b[39;00m,\n\u001b[1;32m    399\u001b[0m              ignore_missing_simple\u001b[38;5;241m=\u001b[39m\u001b[38;5;28;01mFalse\u001b[39;00m, \u001b[38;5;241m*\u001b[39m\u001b[38;5;241m*\u001b[39mkwargs):\n\u001b[1;32m    400\u001b[0m     \u001b[38;5;124;03m\"\"\"\u001b[39;00m\n\u001b[1;32m    401\u001b[0m \u001b[38;5;124;03m    Creates an `HDUList` instance from a file-like object.\u001b[39;00m\n\u001b[1;32m    402\u001b[0m \n\u001b[0;32m   (...)\u001b[0m\n\u001b[1;32m    405\u001b[0m \u001b[38;5;124;03m    documentation for details of the parameters accepted by this method).\u001b[39;00m\n\u001b[1;32m    406\u001b[0m \u001b[38;5;124;03m    \"\"\"\u001b[39;00m\n\u001b[0;32m--> 408\u001b[0m     \u001b[38;5;28;01mreturn\u001b[39;00m \u001b[38;5;28;43mcls\u001b[39;49m\u001b[38;5;241;43m.\u001b[39;49m\u001b[43m_readfrom\u001b[49m\u001b[43m(\u001b[49m\u001b[43mfileobj\u001b[49m\u001b[38;5;241;43m=\u001b[39;49m\u001b[43mfileobj\u001b[49m\u001b[43m,\u001b[49m\u001b[43m \u001b[49m\u001b[43mmode\u001b[49m\u001b[38;5;241;43m=\u001b[39;49m\u001b[43mmode\u001b[49m\u001b[43m,\u001b[49m\u001b[43m \u001b[49m\u001b[43mmemmap\u001b[49m\u001b[38;5;241;43m=\u001b[39;49m\u001b[43mmemmap\u001b[49m\u001b[43m,\u001b[49m\n\u001b[1;32m    409\u001b[0m \u001b[43m                         \u001b[49m\u001b[43msave_backup\u001b[49m\u001b[38;5;241;43m=\u001b[39;49m\u001b[43msave_backup\u001b[49m\u001b[43m,\u001b[49m\u001b[43m \u001b[49m\u001b[43mcache\u001b[49m\u001b[38;5;241;43m=\u001b[39;49m\u001b[43mcache\u001b[49m\u001b[43m,\u001b[49m\n\u001b[1;32m    410\u001b[0m \u001b[43m                         \u001b[49m\u001b[43mignore_missing_simple\u001b[49m\u001b[38;5;241;43m=\u001b[39;49m\u001b[43mignore_missing_simple\u001b[49m\u001b[43m,\u001b[49m\n\u001b[1;32m    411\u001b[0m \u001b[43m                         \u001b[49m\u001b[43mlazy_load_hdus\u001b[49m\u001b[38;5;241;43m=\u001b[39;49m\u001b[43mlazy_load_hdus\u001b[49m\u001b[43m,\u001b[49m\u001b[43m \u001b[49m\u001b[38;5;241;43m*\u001b[39;49m\u001b[38;5;241;43m*\u001b[39;49m\u001b[43mkwargs\u001b[49m\u001b[43m)\u001b[49m\n",
      "File \u001b[0;32m~/anaconda3/envs/msproj/lib/python3.9/site-packages/astropy/io/fits/hdu/hdulist.py:1064\u001b[0m, in \u001b[0;36mHDUList._readfrom\u001b[0;34m(cls, fileobj, data, mode, memmap, cache, lazy_load_hdus, ignore_missing_simple, **kwargs)\u001b[0m\n\u001b[1;32m   1061\u001b[0m \u001b[38;5;28;01mif\u001b[39;00m fileobj \u001b[38;5;129;01mis\u001b[39;00m \u001b[38;5;129;01mnot\u001b[39;00m \u001b[38;5;28;01mNone\u001b[39;00m:\n\u001b[1;32m   1062\u001b[0m     \u001b[38;5;28;01mif\u001b[39;00m \u001b[38;5;129;01mnot\u001b[39;00m \u001b[38;5;28misinstance\u001b[39m(fileobj, _File):\n\u001b[1;32m   1063\u001b[0m         \u001b[38;5;66;03m# instantiate a FITS file object (ffo)\u001b[39;00m\n\u001b[0;32m-> 1064\u001b[0m         fileobj \u001b[38;5;241m=\u001b[39m \u001b[43m_File\u001b[49m\u001b[43m(\u001b[49m\u001b[43mfileobj\u001b[49m\u001b[43m,\u001b[49m\u001b[43m \u001b[49m\u001b[43mmode\u001b[49m\u001b[38;5;241;43m=\u001b[39;49m\u001b[43mmode\u001b[49m\u001b[43m,\u001b[49m\u001b[43m \u001b[49m\u001b[43mmemmap\u001b[49m\u001b[38;5;241;43m=\u001b[39;49m\u001b[43mmemmap\u001b[49m\u001b[43m,\u001b[49m\u001b[43m \u001b[49m\u001b[43mcache\u001b[49m\u001b[38;5;241;43m=\u001b[39;49m\u001b[43mcache\u001b[49m\u001b[43m)\u001b[49m\n\u001b[1;32m   1065\u001b[0m     \u001b[38;5;66;03m# The Astropy mode is determined by the _File initializer if the\u001b[39;00m\n\u001b[1;32m   1066\u001b[0m     \u001b[38;5;66;03m# supplied mode was None\u001b[39;00m\n\u001b[1;32m   1067\u001b[0m     mode \u001b[38;5;241m=\u001b[39m fileobj\u001b[38;5;241m.\u001b[39mmode\n",
      "File \u001b[0;32m~/anaconda3/envs/msproj/lib/python3.9/site-packages/astropy/utils/decorators.py:536\u001b[0m, in \u001b[0;36mdeprecated_renamed_argument.<locals>.decorator.<locals>.wrapper\u001b[0;34m(*args, **kwargs)\u001b[0m\n\u001b[1;32m    533\u001b[0m             message \u001b[38;5;241m+\u001b[39m\u001b[38;5;241m=\u001b[39m \u001b[38;5;124mf\u001b[39m\u001b[38;5;124m'\u001b[39m\u001b[38;5;130;01m\\n\u001b[39;00m\u001b[38;5;124m        Use \u001b[39m\u001b[38;5;132;01m{\u001b[39;00malternative\u001b[38;5;132;01m}\u001b[39;00m\u001b[38;5;124m instead.\u001b[39m\u001b[38;5;124m'\u001b[39m\n\u001b[1;32m    534\u001b[0m         warnings\u001b[38;5;241m.\u001b[39mwarn(message, warning_type, stacklevel\u001b[38;5;241m=\u001b[39m\u001b[38;5;241m2\u001b[39m)\n\u001b[0;32m--> 536\u001b[0m \u001b[38;5;28;01mreturn\u001b[39;00m \u001b[43mfunction\u001b[49m\u001b[43m(\u001b[49m\u001b[38;5;241;43m*\u001b[39;49m\u001b[43margs\u001b[49m\u001b[43m,\u001b[49m\u001b[43m \u001b[49m\u001b[38;5;241;43m*\u001b[39;49m\u001b[38;5;241;43m*\u001b[39;49m\u001b[43mkwargs\u001b[49m\u001b[43m)\u001b[49m\n",
      "File \u001b[0;32m~/anaconda3/envs/msproj/lib/python3.9/site-packages/astropy/io/fits/file.py:170\u001b[0m, in \u001b[0;36m_File.__init__\u001b[0;34m(self, fileobj, mode, memmap, overwrite, cache)\u001b[0m\n\u001b[1;32m    168\u001b[0m     \u001b[38;5;28mself\u001b[39m\u001b[38;5;241m.\u001b[39m_open_fileobj(fileobj, mode, overwrite)\n\u001b[1;32m    169\u001b[0m \u001b[38;5;28;01melif\u001b[39;00m \u001b[38;5;28misinstance\u001b[39m(fileobj, (\u001b[38;5;28mstr\u001b[39m, \u001b[38;5;28mbytes\u001b[39m)):\n\u001b[0;32m--> 170\u001b[0m     \u001b[38;5;28;43mself\u001b[39;49m\u001b[38;5;241;43m.\u001b[39;49m\u001b[43m_open_filename\u001b[49m\u001b[43m(\u001b[49m\u001b[43mfileobj\u001b[49m\u001b[43m,\u001b[49m\u001b[43m \u001b[49m\u001b[43mmode\u001b[49m\u001b[43m,\u001b[49m\u001b[43m \u001b[49m\u001b[43moverwrite\u001b[49m\u001b[43m)\u001b[49m\n\u001b[1;32m    171\u001b[0m \u001b[38;5;28;01melse\u001b[39;00m:\n\u001b[1;32m    172\u001b[0m     \u001b[38;5;28mself\u001b[39m\u001b[38;5;241m.\u001b[39m_open_filelike(fileobj, mode, overwrite)\n",
      "File \u001b[0;32m~/anaconda3/envs/msproj/lib/python3.9/site-packages/astropy/io/fits/file.py:558\u001b[0m, in \u001b[0;36m_File._open_filename\u001b[0;34m(self, filename, mode, overwrite)\u001b[0m\n\u001b[1;32m    555\u001b[0m ext \u001b[38;5;241m=\u001b[39m os\u001b[38;5;241m.\u001b[39mpath\u001b[38;5;241m.\u001b[39msplitext(\u001b[38;5;28mself\u001b[39m\u001b[38;5;241m.\u001b[39mname)[\u001b[38;5;241m1\u001b[39m]\n\u001b[1;32m    557\u001b[0m \u001b[38;5;28;01mif\u001b[39;00m \u001b[38;5;129;01mnot\u001b[39;00m \u001b[38;5;28mself\u001b[39m\u001b[38;5;241m.\u001b[39m_try_read_compressed(\u001b[38;5;28mself\u001b[39m\u001b[38;5;241m.\u001b[39mname, magic, mode, ext\u001b[38;5;241m=\u001b[39mext):\n\u001b[0;32m--> 558\u001b[0m     \u001b[38;5;28mself\u001b[39m\u001b[38;5;241m.\u001b[39m_file \u001b[38;5;241m=\u001b[39m \u001b[43mfileobj_open\u001b[49m\u001b[43m(\u001b[49m\u001b[38;5;28;43mself\u001b[39;49m\u001b[38;5;241;43m.\u001b[39;49m\u001b[43mname\u001b[49m\u001b[43m,\u001b[49m\u001b[43m \u001b[49m\u001b[43mIO_FITS_MODES\u001b[49m\u001b[43m[\u001b[49m\u001b[43mmode\u001b[49m\u001b[43m]\u001b[49m\u001b[43m)\u001b[49m\n\u001b[1;32m    559\u001b[0m     \u001b[38;5;28mself\u001b[39m\u001b[38;5;241m.\u001b[39mclose_on_error \u001b[38;5;241m=\u001b[39m \u001b[38;5;28;01mTrue\u001b[39;00m\n\u001b[1;32m    561\u001b[0m \u001b[38;5;66;03m# Make certain we're back at the beginning of the file\u001b[39;00m\n\u001b[1;32m    562\u001b[0m \u001b[38;5;66;03m# BZ2File does not support seek when the file is open for writing, but\u001b[39;00m\n\u001b[1;32m    563\u001b[0m \u001b[38;5;66;03m# when opening a file for write, bz2.BZ2File always truncates anyway.\u001b[39;00m\n",
      "File \u001b[0;32m~/anaconda3/envs/msproj/lib/python3.9/site-packages/astropy/io/fits/util.py:390\u001b[0m, in \u001b[0;36mfileobj_open\u001b[0;34m(filename, mode)\u001b[0m\n\u001b[1;32m    380\u001b[0m \u001b[38;5;28;01mdef\u001b[39;00m \u001b[38;5;21mfileobj_open\u001b[39m(filename, mode):\n\u001b[1;32m    381\u001b[0m     \u001b[38;5;124;03m\"\"\"\u001b[39;00m\n\u001b[1;32m    382\u001b[0m \u001b[38;5;124;03m    A wrapper around the `open()` builtin.\u001b[39;00m\n\u001b[1;32m    383\u001b[0m \n\u001b[0;32m   (...)\u001b[0m\n\u001b[1;32m    387\u001b[0m \u001b[38;5;124;03m    a raw random-access file reader.\u001b[39;00m\n\u001b[1;32m    388\u001b[0m \u001b[38;5;124;03m    \"\"\"\u001b[39;00m\n\u001b[0;32m--> 390\u001b[0m     \u001b[38;5;28;01mreturn\u001b[39;00m \u001b[38;5;28;43mopen\u001b[39;49m\u001b[43m(\u001b[49m\u001b[43mfilename\u001b[49m\u001b[43m,\u001b[49m\u001b[43m \u001b[49m\u001b[43mmode\u001b[49m\u001b[43m,\u001b[49m\u001b[43m \u001b[49m\u001b[43mbuffering\u001b[49m\u001b[38;5;241;43m=\u001b[39;49m\u001b[38;5;241;43m0\u001b[39;49m\u001b[43m)\u001b[49m\n",
      "\u001b[0;31mFileNotFoundError\u001b[0m: [Errno 2] No such file or directory: '/home/haricash/sas/dr15/manga/HI/v1_0_1/mangaHIall.fits'"
     ]
    }
   ],
   "source": [
    "# access the mangahi vac\n",
    "hi = vacs.HI\n",
    "print(hi)\n",
    "print('data type:', type(hi))\n",
    "\n",
    "# access any HI data available for 8485-1901\n",
    "hi.data"
   ]
  },
  {
   "cell_type": "markdown",
   "metadata": {},
   "source": [
    "<a id='download'></a>\n",
    "### Downloading files\n",
    "While Marvin allows you to access data remotely, frequently you will find that you want to download the file associated to an object so that you can access it more quickly in the future. We can do that using the ``download`` method attached to all marvin core tools. Let’s try to load a cube that we know we do not have in out hard drive, and download it. "
   ]
  },
  {
   "cell_type": "code",
   "execution_count": 37,
   "metadata": {},
   "outputs": [
    {
     "data": {
      "text/plain": [
       "<Marvin Cube (plateifu='8485-1902', mode='remote', data_origin='api')>"
      ]
     },
     "execution_count": 37,
     "metadata": {},
     "output_type": "execute_result"
    }
   ],
   "source": [
    "# Check our remote cube we loaded earlier \n",
    "remote_cube"
   ]
  },
  {
   "cell_type": "code",
   "execution_count": 40,
   "metadata": {},
   "outputs": [
    {
     "name": "stderr",
     "output_type": "stream",
     "text": [
      "Progress: 100%|████████| 1/1 [00:25<00:00, 25.04s/files, n_files=1, n_streams=1]"
     ]
    },
    {
     "name": "stdout",
     "output_type": "stream",
     "text": [
      "SDSS_ACCESS> Done!\n"
     ]
    },
    {
     "name": "stderr",
     "output_type": "stream",
     "text": [
      "\n"
     ]
    }
   ],
   "source": [
    "# download the remote cube\n",
    "remote_cube.download()"
   ]
  },
  {
   "cell_type": "code",
   "execution_count": 39,
   "metadata": {},
   "outputs": [
    {
     "data": {
      "text/plain": [
       "<Marvin Cube (plateifu='8485-1902', mode='remote', data_origin='api')>"
      ]
     },
     "execution_count": 39,
     "metadata": {},
     "output_type": "execute_result"
    }
   ],
   "source": [
    "# loading the cube a second time loads it from the new file\n",
    "new_cube = Cube('8485-1902')\n",
    "new_cube"
   ]
  },
  {
   "cell_type": "markdown",
   "metadata": {},
   "source": [
    "Each tool contains a ``download`` method to download that individual file.  If you want to download a list of targets in bulk, you can use the ``downloadList`` utility function.  This function uses the built-in Python product ``sdss_access`` to download files from the Utah SAS.  ``downloadList`` accepts as input a list of target ids, e.g. plateifus or mangaids.  The ``dltype`` keyword indicates the type of file you wish to download.  The default file is ``cube``.  Let's use the utility function to download a list of DAP MAPS files for three targets.  "
   ]
  },
  {
   "cell_type": "code",
   "execution_count": 41,
   "metadata": {},
   "outputs": [
    {
     "name": "stderr",
     "output_type": "stream",
     "text": [
      "Progress:  83%|██████▋ | 5/6 [00:05<00:01,  1.00s/files, n_files=6, n_streams=5]"
     ]
    },
    {
     "name": "stdout",
     "output_type": "stream",
     "text": [
      "SDSS_ACCESS> Done!\n"
     ]
    },
    {
     "name": "stderr",
     "output_type": "stream",
     "text": [
      "\n"
     ]
    }
   ],
   "source": [
    "from marvin.utils.general import downloadList\n",
    "\n",
    "# create a list of target ids\n",
    "plateifus = ['8485-1901', '8485-1902', '7443-1901']\n",
    "\n",
    "# download the DAP 2d MAPS files for these targets\n",
    "dllist = downloadList(plateifus, dltype='maps')"
   ]
  },
  {
   "cell_type": "markdown",
   "metadata": {},
   "source": [
    "<a id=\"spaxels\"></a>\n",
    "### Interacting with Spaxels\n",
    "All of the core Marvin Galaxy Tools have the ability to extract one ore more ``Spaxel`` objects.  ``Spaxel`` objects are special Marvin objects to make it easier to deal with individual spaxels in galaxies and access their properties.  See the [Getting Started with Spaxels](https://sdss-marvin.readthedocs.io/en/stable/tools/spaxel.html#marvin-spaxel) for more information on how to interact with ``Spaxels``.  We can either use the standard array slicing notation (0-indexed, origin of coordinates in the lower left corner of the array)"
   ]
  },
  {
   "cell_type": "code",
   "execution_count": 58,
   "metadata": {},
   "outputs": [
    {
     "data": {
      "text/plain": [
       "<Marvin Spaxel (plateifu=8485-1901, x=10, y=15; x_cen=-7, y_cen=-2, loaded=cube)>"
      ]
     },
     "execution_count": 58,
     "metadata": {},
     "output_type": "execute_result"
    }
   ],
   "source": [
    "# extract the spaxel at array index x=10, y=15\n",
    "spaxel = cube[15, 10]\n",
    "spaxel"
   ]
  },
  {
   "cell_type": "code",
   "execution_count": 64,
   "metadata": {},
   "outputs": [
    {
     "data": {
      "text/plain": [
       "['__class__',\n",
       " '__delattr__',\n",
       " '__dict__',\n",
       " '__dir__',\n",
       " '__doc__',\n",
       " '__eq__',\n",
       " '__format__',\n",
       " '__ge__',\n",
       " '__getattr__',\n",
       " '__getattribute__',\n",
       " '__gt__',\n",
       " '__hash__',\n",
       " '__init__',\n",
       " '__init_subclass__',\n",
       " '__le__',\n",
       " '__lt__',\n",
       " '__module__',\n",
       " '__ne__',\n",
       " '__new__',\n",
       " '__reduce__',\n",
       " '__reduce_ex__',\n",
       " '__repr__',\n",
       " '__setattr__',\n",
       " '__sizeof__',\n",
       " '__str__',\n",
       " '__subclasshook__',\n",
       " '__weakref__',\n",
       " '_check_versions',\n",
       " '_cube',\n",
       " '_kwargs',\n",
       " '_load_tool',\n",
       " '_maps',\n",
       " '_modelcube',\n",
       " '_parent_shape',\n",
       " '_set_radec',\n",
       " 'bintype',\n",
       " 'cube_quantities',\n",
       " 'datamodel',\n",
       " 'dec',\n",
       " 'dispersion',\n",
       " 'dispersion_prepixel',\n",
       " 'flux',\n",
       " 'getCube',\n",
       " 'getMaps',\n",
       " 'getModelCube',\n",
       " 'load',\n",
       " 'loaded',\n",
       " 'mangaid',\n",
       " 'maps_quantities',\n",
       " 'modelcube_quantities',\n",
       " 'plateifu',\n",
       " 'quality_flags',\n",
       " 'ra',\n",
       " 'release',\n",
       " 'restore',\n",
       " 'save',\n",
       " 'spectral_resolution',\n",
       " 'spectral_resolution_prepixel',\n",
       " 'template',\n",
       " 'vacs',\n",
       " 'x',\n",
       " 'y']"
      ]
     },
     "execution_count": 64,
     "metadata": {},
     "output_type": "execute_result"
    }
   ],
   "source": [
    "dir(spaxel)"
   ]
  },
  {
   "cell_type": "code",
   "execution_count": 68,
   "metadata": {},
   "outputs": [
    {
     "name": "stderr",
     "output_type": "stream",
     "text": [
      "\u001b[1;33m[WARNING]: \u001b[0m\u001b[0;39mmismatch between file version=DR16 and object release=DR15. Setting object release to DR16\u001b[0m \u001b[0;36m(MarvinUserWarning)\u001b[0m\n"
     ]
    }
   ],
   "source": [
    "spaxel_map = spaxel.getMaps()"
   ]
  },
  {
   "cell_type": "code",
   "execution_count": 69,
   "metadata": {},
   "outputs": [],
   "source": [
    "spaxel_ha = spaxel_map.emline_gflux_ha_6564"
   ]
  },
  {
   "cell_type": "code",
   "execution_count": 70,
   "metadata": {},
   "outputs": [
    {
     "name": "stderr",
     "output_type": "stream",
     "text": [
      "\u001b[1;33m[WARNING]: \u001b[0m\u001b[0;39mAuto-removal of grids by pcolor() and pcolormesh() is deprecated since 3.5 and will be removed two minor releases later; please call grid(False) first.\u001b[0m \u001b[0;36m(MatplotlibDeprecationWarning)\u001b[0m\n"
     ]
    },
    {
     "data": {
      "text/plain": [
       "(<Figure size 432x288 with 2 Axes>,\n",
       " <AxesSubplot:title={'center':'Emission line Gaussian flux: H-alpha 6564'}, xlabel='spaxel', ylabel='spaxel'>)"
      ]
     },
     "execution_count": 70,
     "metadata": {},
     "output_type": "execute_result"
    },
    {
     "data": {
      "image/png": "[encoded data removed]",
      "text/plain": [
       "<Figure size 432x288 with 2 Axes>"
      ]
     },
     "metadata": {},
     "output_type": "display_data"
    }
   ],
   "source": [
    "spaxel_ha.plot()"
   ]
  },
  {
   "cell_type": "code",
   "execution_count": 72,
   "metadata": {},
   "outputs": [
    {
     "name": "stderr",
     "output_type": "stream",
     "text": [
      "\u001b[1;33m[WARNING]: \u001b[0m\u001b[0;39mmismatch between file version=DR16 and object release=DR15. Setting object release to DR16\u001b[0m \u001b[0;36m(MarvinUserWarning)\u001b[0m\n",
      "\u001b[1;33m[WARNING]: \u001b[0m\u001b[0;39mAuto-removal of grids by pcolor() and pcolormesh() is deprecated since 3.5 and will be removed two minor releases later; please call grid(False) first.\u001b[0m \u001b[0;36m(MatplotlibDeprecationWarning)\u001b[0m\n"
     ]
    },
    {
     "data": {
      "text/plain": [
       "(<Figure size 432x288 with 2 Axes>,\n",
       " <AxesSubplot:title={'center':'Emission line Gaussian flux: H-alpha 6564'}, xlabel='spaxel', ylabel='spaxel'>)"
      ]
     },
     "execution_count": 72,
     "metadata": {},
     "output_type": "execute_result"
    },
    {
     "data": {
      "image/png": "[encoded data removed]",
      "text/plain": [
       "<Figure size 432x288 with 2 Axes>"
      ]
     },
     "metadata": {},
     "output_type": "display_data"
    }
   ],
   "source": [
    "cube.getMaps().emline_gflux_ha_6564.plot()"
   ]
  },
  {
   "cell_type": "raw",
   "metadata": {},
   "source": []
  },
  {
   "cell_type": "markdown",
   "metadata": {},
   "source": [
    "### Need to understand the whole spaxel thing properly\n",
    "#### Specifically :\n",
    "* How different is a spaxel from taking a particular location in the datacube and looking at the spectra for that cube?\n",
    "* How do we correspond different regions on the SDSS image with a spaxel using this interface?\n",
    "* Why is the spaxel map and the cube map the same?"
   ]
  },
  {
   "cell_type": "markdown",
   "metadata": {},
   "source": [
    "or we can use ``getSpaxel`` method, which accepts multiple arguments. Note that by default, (x, y) coordinates passed to ``getSpaxel`` are measured from the center of the array."
   ]
  },
  {
   "cell_type": "code",
   "execution_count": 55,
   "metadata": {},
   "outputs": [
    {
     "name": "stderr",
     "output_type": "stream",
     "text": [
      "\u001b[1;33m[WARNING]: \u001b[0m\u001b[0;39m`np.float` is a deprecated alias for the builtin `float`. To silence this warning, use `float` by itself. Doing this will not modify any behavior and is safe. If you specifically wanted the numpy scalar type, use `np.float64` here.\u001b[0m \u001b[0;36m(DeprecationWarning)\u001b[0m\n",
      "\u001b[1;33m[WARNING]: \u001b[0m\u001b[0;39m`np.int` is a deprecated alias for the builtin `int`. To silence this warning, use `int` by itself. Doing this will not modify any behavior and is safe. When replacing `np.int`, you may wish to use e.g. `np.int64` or `np.int32` to specify the precision. If you wish to review your current use, check the release note link for additional information.\u001b[0m \u001b[0;36m(DeprecationWarning)\u001b[0m\n"
     ]
    },
    {
     "data": {
      "text/plain": [
       "<Marvin Spaxel (plateifu=8485-1901, x=17, y=17; x_cen=0, y_cen=0, loaded=cube)>"
      ]
     },
     "execution_count": 55,
     "metadata": {},
     "output_type": "execute_result"
    }
   ],
   "source": [
    "# get the spaxel at the center of the target galaxy\n",
    "central_spaxel = cube.getSpaxel(x=0, y=0)\n",
    "central_spaxel"
   ]
  },
  {
   "cell_type": "code",
   "execution_count": 56,
   "metadata": {},
   "outputs": [
    {
     "name": "stderr",
     "output_type": "stream",
     "text": [
      "\u001b[1;33m[WARNING]: \u001b[0m\u001b[0;39mThe truth value of a Quantity is ambiguous. In the future this will raise a ValueError.\u001b[0m \u001b[0;36m(AstropyDeprecationWarning)\u001b[0m\n"
     ]
    },
    {
     "data": {
      "text/plain": [
       "<AxesSubplot:xlabel='$\\\\mathrm{Wavelength}\\\\,[$$\\\\mathrm{\\\\mathring{A}}$$]$', ylabel='$\\\\mathrm{Flux}\\\\,[$$\\\\mathrm{1 \\\\times 10^{-17}\\\\,erg\\\\,\\\\mathring{A}^{-1}\\\\,s^{-1}\\\\,spaxel^{-1}\\\\,cm^{-2}}$$]$'>"
      ]
     },
     "execution_count": 56,
     "metadata": {},
     "output_type": "execute_result"
    },
    {
     "data": {
      "image/png": "[encoded data removed]",
      "text/plain": [
       "<Figure size 432x288 with 1 Axes>"
      ]
     },
     "metadata": {},
     "output_type": "display_data"
    }
   ],
   "source": [
    "# we can plot the spectrum of the spaxel\n",
    "spaxel.flux.plot()"
   ]
  },
  {
   "cell_type": "code",
   "execution_count": null,
   "metadata": {},
   "outputs": [],
   "source": []
  },
  {
   "cell_type": "markdown",
   "metadata": {},
   "source": [
    "### Additional Resources\n",
    "\n",
    "- Go through the [Lean Tutorial](https://sdss-marvin.readthedocs.io/en/latest/tutorials/lean-tutorial.html#marvin-lean-tutorial)\n",
    "- Learn more [Plotting Techniques](https://sdss-marvin.readthedocs.io/en/latest/tutorials/plotting-tutorial.html)\n",
    "- Dig into the [Galaxy Tools](https://sdss-marvin.readthedocs.io/en/latest/tools/index.html) in more detail.\n",
    "- Try out [Marvin Queries](https://sdss-marvin.readthedocs.io/en/latest/query/index.html)"
   ]
  },
  {
   "cell_type": "code",
   "execution_count": null,
   "metadata": {},
   "outputs": [],
   "source": []
  }
 ],
 "metadata": {
  "anaconda-cloud": {},
  "kernelspec": {
   "display_name": "Python 3",
   "language": "python",
   "name": "python3"
  },
  "language_info": {
   "codemirror_mode": {
    "name": "ipython",
    "version": 3
   },
   "file_extension": ".py",
   "mimetype": "text/x-python",
   "name": "python",
   "nbconvert_exporter": "python",
   "pygments_lexer": "ipython3",
   "version": "3.9.12"
  }
 },
 "nbformat": 4,
 "nbformat_minor": 2
}
