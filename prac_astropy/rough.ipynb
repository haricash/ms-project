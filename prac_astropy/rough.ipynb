{
 "cells": [
  {
   "cell_type": "code",
   "execution_count": 5,
   "id": "f6ba15db",
   "metadata": {},
   "outputs": [],
   "source": [
    "import astropy.coordinates"
   ]
  },
  {
   "cell_type": "code",
   "execution_count": 7,
   "id": "af5426a6",
   "metadata": {},
   "outputs": [
    {
     "name": "stdout",
     "output_type": "stream",
     "text": [
      "Help on package astropy.coordinates in astropy:\n",
      "\n",
      "NAME\n",
      "    astropy.coordinates\n",
      "\n",
      "DESCRIPTION\n",
      "    This subpackage contains classes and functions for celestial coordinates\n",
      "    of astronomical objects. It also contains a framework for conversions\n",
      "    between coordinate systems.\n",
      "\n",
      "PACKAGE CONTENTS\n",
      "    angle_formats\n",
      "    angle_lextab\n",
      "    angle_parsetab\n",
      "    angle_utilities\n",
      "    angles\n",
      "    attributes\n",
      "    baseframe\n",
      "    builtin_frames (package)\n",
      "    calculation\n",
      "    distances\n",
      "    earth\n",
      "    earth_orientation\n",
      "    erfa_astrom\n",
      "    errors\n",
      "    funcs\n",
      "    jparser\n",
      "    matching\n",
      "    matrix_utilities\n",
      "    name_resolve\n",
      "    orbital_elements\n",
      "    representation\n",
      "    sites\n",
      "    sky_coordinate\n",
      "    sky_coordinate_parsers\n",
      "    solar_system\n",
      "    spectral_coordinate\n",
      "    spectral_quantity\n",
      "    tests (package)\n",
      "    transformations\n",
      "\n",
      "DATA\n",
      "    frame_transform_graph = <astropy.coordinates.transformations.Transform...\n",
      "\n",
      "FILE\n",
      "    /home/haricash/anaconda3/envs/msproj/lib/python3.9/site-packages/astropy/coordinates/__init__.py\n",
      "\n",
      "\n"
     ]
    }
   ],
   "source": [
    "help(astropy.coordinates)"
   ]
  },
  {
   "cell_type": "code",
   "execution_count": null,
   "id": "3f21b260",
   "metadata": {},
   "outputs": [],
   "source": []
  },
  {
   "cell_type": "code",
   "execution_count": 8,
   "id": "56cfc353",
   "metadata": {},
   "outputs": [],
   "source": [
    "from astropy import units as u"
   ]
  },
  {
   "cell_type": "code",
   "execution_count": 49,
   "id": "e7cf460c",
   "metadata": {},
   "outputs": [
    {
     "data": {
      "text/plain": [
       "Equivalency([(Unit(\"erg / (Angstrom cm2 s)\"),\n",
       "              Unit(\"erg / (cm2 Hz s)\"),\n",
       "              <function astropy.units.equivalencies.spectral_density.<locals>.converter(x)>,\n",
       "              <function astropy.units.equivalencies.spectral_density.<locals>.iconverter(x)>),\n",
       "             (Unit(\"erg / (cm2 Hz s)\"),\n",
       "              Unit(\"erg / (cm2 s)\"),\n",
       "              <function astropy.units.equivalencies.spectral_density.<locals>.converter_f_nu_to_nu_f_nu(x)>,\n",
       "              <function astropy.units.equivalencies.spectral_density.<locals>.iconverter_f_nu_to_nu_f_nu(x)>),\n",
       "             (Unit(\"erg / (Angstrom cm2 s)\"),\n",
       "              Unit(\"erg / (cm2 s)\"),\n",
       "              <function astropy.units.equivalencies.spectral_density.<locals>.converter_f_la_to_la_f_la(x)>,\n",
       "              <function astropy.units.equivalencies.spectral_density.<locals>.iconverter_f_la_to_la_f_la(x)>),\n",
       "             (Unit(\"ph / (Angstrom cm2 s)\"),\n",
       "              Unit(\"erg / (Angstrom cm2 s)\"),\n",
       "              <function astropy.units.equivalencies.spectral_density.<locals>.converter_phot_f_la_to_f_la(x)>,\n",
       "              <function astropy.units.equivalencies.spectral_density.<locals>.iconverter_phot_f_la_to_f_la(x)>),\n",
       "             (Unit(\"ph / (Angstrom cm2 s)\"),\n",
       "              Unit(\"erg / (cm2 Hz s)\"),\n",
       "              <function astropy.units.equivalencies.spectral_density.<locals>.converter_phot_f_la_to_f_nu(x)>,\n",
       "              <function astropy.units.equivalencies.spectral_density.<locals>.iconverter_phot_f_la_to_f_nu(x)>),\n",
       "             (Unit(\"ph / (Angstrom cm2 s)\"),\n",
       "              Unit(\"ph / (cm2 Hz s)\"),\n",
       "              <function astropy.units.equivalencies.spectral_density.<locals>.converter_phot_f_la_phot_f_nu(x)>,\n",
       "              <function astropy.units.equivalencies.spectral_density.<locals>.iconverter_phot_f_la_phot_f_nu(x)>),\n",
       "             (Unit(\"ph / (cm2 Hz s)\"),\n",
       "              Unit(\"erg / (cm2 Hz s)\"),\n",
       "              <function astropy.units.equivalencies.spectral_density.<locals>.converter_phot_f_la_to_f_la(x)>,\n",
       "              <function astropy.units.equivalencies.spectral_density.<locals>.iconverter_phot_f_la_to_f_la(x)>),\n",
       "             (Unit(\"ph / (cm2 Hz s)\"),\n",
       "              Unit(\"erg / (Angstrom cm2 s)\"),\n",
       "              <function astropy.units.equivalencies.spectral_density.<locals>.converter_phot_f_nu_to_f_la(x)>,\n",
       "              <function astropy.units.equivalencies.spectral_density.<locals>.iconverter_phot_f_nu_to_f_la(x)>),\n",
       "             (Unit(\"ph / (cm2 s)\"),\n",
       "              Unit(\"erg / (cm2 s)\"),\n",
       "              <function astropy.units.equivalencies.spectral_density.<locals>.converter_phot_f_la_to_f_la(x)>,\n",
       "              <function astropy.units.equivalencies.spectral_density.<locals>.iconverter_phot_f_la_to_f_la(x)>),\n",
       "             (Unit(\"erg / (Angstrom s)\"),\n",
       "              Unit(\"erg / (Hz s)\"),\n",
       "              <function astropy.units.equivalencies.spectral_density.<locals>.converter(x)>,\n",
       "              <function astropy.units.equivalencies.spectral_density.<locals>.iconverter(x)>),\n",
       "             (Unit(\"erg / (Hz s)\"),\n",
       "              Unit(\"erg / s\"),\n",
       "              <function astropy.units.equivalencies.spectral_density.<locals>.converter_f_nu_to_nu_f_nu(x)>,\n",
       "              <function astropy.units.equivalencies.spectral_density.<locals>.iconverter_f_nu_to_nu_f_nu(x)>),\n",
       "             (Unit(\"erg / (Angstrom s)\"),\n",
       "              Unit(\"erg / s\"),\n",
       "              <function astropy.units.equivalencies.spectral_density.<locals>.converter_f_la_to_la_f_la(x)>,\n",
       "              <function astropy.units.equivalencies.spectral_density.<locals>.iconverter_f_la_to_la_f_la(x)>),\n",
       "             (Unit(\"ph / (Angstrom s)\"),\n",
       "              Unit(\"erg / (Angstrom s)\"),\n",
       "              <function astropy.units.equivalencies.spectral_density.<locals>.converter_phot_f_la_to_f_la(x)>,\n",
       "              <function astropy.units.equivalencies.spectral_density.<locals>.iconverter_phot_f_la_to_f_la(x)>),\n",
       "             (Unit(\"ph / (Angstrom s)\"),\n",
       "              Unit(\"erg / (Hz s)\"),\n",
       "              <function astropy.units.equivalencies.spectral_density.<locals>.converter_phot_f_la_to_f_nu(x)>,\n",
       "              <function astropy.units.equivalencies.spectral_density.<locals>.iconverter_phot_f_la_to_f_nu(x)>),\n",
       "             (Unit(\"ph / (Angstrom s)\"),\n",
       "              Unit(\"ph\"),\n",
       "              <function astropy.units.equivalencies.spectral_density.<locals>.converter_phot_f_la_phot_f_nu(x)>,\n",
       "              <function astropy.units.equivalencies.spectral_density.<locals>.iconverter_phot_f_la_phot_f_nu(x)>),\n",
       "             (Unit(\"ph\"),\n",
       "              Unit(\"erg / (Hz s)\"),\n",
       "              <function astropy.units.equivalencies.spectral_density.<locals>.converter_phot_f_la_to_f_la(x)>,\n",
       "              <function astropy.units.equivalencies.spectral_density.<locals>.iconverter_phot_f_la_to_f_la(x)>),\n",
       "             (Unit(\"ph\"),\n",
       "              Unit(\"erg / (Angstrom s)\"),\n",
       "              <function astropy.units.equivalencies.spectral_density.<locals>.converter_phot_f_nu_to_f_la(x)>,\n",
       "              <function astropy.units.equivalencies.spectral_density.<locals>.iconverter_phot_f_nu_to_f_la(x)>),\n",
       "             (Unit(\"erg / (Angstrom cm2 s sr)\"),\n",
       "              Unit(\"erg / (cm2 Hz s sr)\"),\n",
       "              <function astropy.units.equivalencies.spectral_density.<locals>.converter(x)>,\n",
       "              <function astropy.units.equivalencies.spectral_density.<locals>.iconverter(x)>),\n",
       "             (Unit(\"erg / (cm2 Hz s sr)\"),\n",
       "              Unit(\"erg / (cm2 s sr)\"),\n",
       "              <function astropy.units.equivalencies.spectral_density.<locals>.converter_f_nu_to_nu_f_nu(x)>,\n",
       "              <function astropy.units.equivalencies.spectral_density.<locals>.iconverter_f_nu_to_nu_f_nu(x)>),\n",
       "             (Unit(\"erg / (Angstrom cm2 s sr)\"),\n",
       "              Unit(\"erg / (cm2 s sr)\"),\n",
       "              <function astropy.units.equivalencies.spectral_density.<locals>.converter_f_la_to_la_f_la(x)>,\n",
       "              <function astropy.units.equivalencies.spectral_density.<locals>.iconverter_f_la_to_la_f_la(x)>),\n",
       "             (Unit(\"ph / (Angstrom cm2 s sr)\"),\n",
       "              Unit(\"erg / (Angstrom cm2 s sr)\"),\n",
       "              <function astropy.units.equivalencies.spectral_density.<locals>.converter_phot_f_la_to_f_la(x)>,\n",
       "              <function astropy.units.equivalencies.spectral_density.<locals>.iconverter_phot_f_la_to_f_la(x)>),\n",
       "             (Unit(\"ph / (Angstrom cm2 s sr)\"),\n",
       "              Unit(\"erg / (cm2 Hz s sr)\"),\n",
       "              <function astropy.units.equivalencies.spectral_density.<locals>.converter_phot_f_la_to_f_nu(x)>,\n",
       "              <function astropy.units.equivalencies.spectral_density.<locals>.iconverter_phot_f_la_to_f_nu(x)>),\n",
       "             (Unit(\"ph / (Angstrom cm2 s sr)\"),\n",
       "              Unit(\"ph / (cm2 Hz s sr)\"),\n",
       "              <function astropy.units.equivalencies.spectral_density.<locals>.converter_phot_f_la_phot_f_nu(x)>,\n",
       "              <function astropy.units.equivalencies.spectral_density.<locals>.iconverter_phot_f_la_phot_f_nu(x)>),\n",
       "             (Unit(\"ph / (cm2 Hz s sr)\"),\n",
       "              Unit(\"erg / (cm2 Hz s sr)\"),\n",
       "              <function astropy.units.equivalencies.spectral_density.<locals>.converter_phot_f_la_to_f_la(x)>,\n",
       "              <function astropy.units.equivalencies.spectral_density.<locals>.iconverter_phot_f_la_to_f_la(x)>),\n",
       "             (Unit(\"ph / (cm2 Hz s sr)\"),\n",
       "              Unit(\"erg / (Angstrom cm2 s sr)\"),\n",
       "              <function astropy.units.equivalencies.spectral_density.<locals>.converter_phot_f_nu_to_f_la(x)>,\n",
       "              <function astropy.units.equivalencies.spectral_density.<locals>.iconverter_phot_f_nu_to_f_la(x)>),\n",
       "             (Unit(\"erg / (Angstrom s sr)\"),\n",
       "              Unit(\"erg / (Hz s sr)\"),\n",
       "              <function astropy.units.equivalencies.spectral_density.<locals>.converter(x)>,\n",
       "              <function astropy.units.equivalencies.spectral_density.<locals>.iconverter(x)>),\n",
       "             (Unit(\"erg / (Hz s sr)\"),\n",
       "              Unit(\"erg / (s sr)\"),\n",
       "              <function astropy.units.equivalencies.spectral_density.<locals>.converter_f_nu_to_nu_f_nu(x)>,\n",
       "              <function astropy.units.equivalencies.spectral_density.<locals>.iconverter_f_nu_to_nu_f_nu(x)>),\n",
       "             (Unit(\"erg / (Angstrom s sr)\"),\n",
       "              Unit(\"erg / (s sr)\"),\n",
       "              <function astropy.units.equivalencies.spectral_density.<locals>.converter_f_la_to_la_f_la(x)>,\n",
       "              <function astropy.units.equivalencies.spectral_density.<locals>.iconverter_f_la_to_la_f_la(x)>),\n",
       "             (Unit(\"ph / (Angstrom s sr)\"),\n",
       "              Unit(\"erg / (Angstrom s sr)\"),\n",
       "              <function astropy.units.equivalencies.spectral_density.<locals>.converter_phot_f_la_to_f_la(x)>,\n",
       "              <function astropy.units.equivalencies.spectral_density.<locals>.iconverter_phot_f_la_to_f_la(x)>),\n",
       "             (Unit(\"ph / (Angstrom s sr)\"),\n",
       "              Unit(\"erg / (Hz s sr)\"),\n",
       "              <function astropy.units.equivalencies.spectral_density.<locals>.converter_phot_f_la_to_f_nu(x)>,\n",
       "              <function astropy.units.equivalencies.spectral_density.<locals>.iconverter_phot_f_la_to_f_nu(x)>),\n",
       "             (Unit(\"ph / (Angstrom s sr)\"),\n",
       "              Unit(\"ph / sr\"),\n",
       "              <function astropy.units.equivalencies.spectral_density.<locals>.converter_phot_f_la_phot_f_nu(x)>,\n",
       "              <function astropy.units.equivalencies.spectral_density.<locals>.iconverter_phot_f_la_phot_f_nu(x)>),\n",
       "             (Unit(\"ph / sr\"),\n",
       "              Unit(\"erg / (Hz s sr)\"),\n",
       "              <function astropy.units.equivalencies.spectral_density.<locals>.converter_phot_f_la_to_f_la(x)>,\n",
       "              <function astropy.units.equivalencies.spectral_density.<locals>.iconverter_phot_f_la_to_f_la(x)>),\n",
       "             (Unit(\"ph / sr\"),\n",
       "              Unit(\"erg / (Angstrom s sr)\"),\n",
       "              <function astropy.units.equivalencies.spectral_density.<locals>.converter_phot_f_nu_to_f_la(x)>,\n",
       "              <function astropy.units.equivalencies.spectral_density.<locals>.iconverter_phot_f_nu_to_f_la(x)>)])"
      ]
     },
     "execution_count": 49,
     "metadata": {},
     "output_type": "execute_result"
    }
   ],
   "source": [
    "u.spectral_density(wav=1*u.Hz)"
   ]
  },
  {
   "cell_type": "code",
   "execution_count": 37,
   "id": "b0f5fd95",
   "metadata": {},
   "outputs": [],
   "source": [
    "from astropy.coordinates import SkyCoord\n",
    "\n",
    "coord = SkyCoord(ra=10*u.deg, dec=-6*u.hourangle)"
   ]
  },
  {
   "cell_type": "code",
   "execution_count": 39,
   "id": "905e858a",
   "metadata": {},
   "outputs": [
    {
     "data": {
      "text/plain": [
       "<SkyCoord (Galactic): (l, b) in deg\n",
       "    (302.93192526, -27.12825241)>"
      ]
     },
     "execution_count": 39,
     "metadata": {},
     "output_type": "execute_result"
    }
   ],
   "source": [
    "coord.galactic"
   ]
  },
  {
   "cell_type": "code",
   "execution_count": null,
   "id": "13336058",
   "metadata": {},
   "outputs": [],
   "source": []
  }
 ],
 "metadata": {
  "kernelspec": {
   "display_name": "Python 3",
   "language": "python",
   "name": "python3"
  },
  "language_info": {
   "codemirror_mode": {
    "name": "ipython",
    "version": 3
   },
   "file_extension": ".py",
   "mimetype": "text/x-python",
   "name": "python",
   "nbconvert_exporter": "python",
   "pygments_lexer": "ipython3",
   "version": "3.9.12"
  }
 },
 "nbformat": 4,
 "nbformat_minor": 5
}
