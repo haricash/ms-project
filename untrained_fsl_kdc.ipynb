{
  "cells": [
    {
      "cell_type": "markdown",
      "metadata": {
        "id": "view-in-github",
        "colab_type": "text"
      },
      "source": [
        "<a href=\"https://colab.research.google.com/github/haricash/ms-project/blob/master/untrained_fsl_kdc.ipynb\" target=\"_parent\"><img src=\"https://colab.research.google.com/assets/colab-badge.svg\" alt=\"Open In Colab\"/></a>"
      ]
    },
    {
      "cell_type": "code",
      "execution_count": null,
      "metadata": {
        "id": "HwA5M-uHOv8a"
      },
      "outputs": [],
      "source": [
        "try:\n",
        "    import google.colab\n",
        "    colab = True\n",
        "except:\n",
        "    colab = False"
      ]
    },
    {
      "cell_type": "code",
      "execution_count": null,
      "metadata": {
        "colab": {
          "base_uri": "https://localhost:8080/"
        },
        "id": "GIVV00CNPYxL",
        "outputId": "28f0f9e2-1ff3-40d8-a98c-ded03334ae3b"
      },
      "outputs": [
        {
          "output_type": "stream",
          "name": "stdout",
          "text": [
            "Cloning into 'easy-few-shot-learning'...\n",
            "remote: Enumerating objects: 837, done.\u001b[K\n",
            "remote: Counting objects: 100% (298/298), done.\u001b[K\n",
            "remote: Compressing objects: 100% (164/164), done.\u001b[K\n",
            "remote: Total 837 (delta 171), reused 181 (delta 130), pack-reused 539\u001b[K\n",
            "Receiving objects: 100% (837/837), 2.22 MiB | 24.66 MiB/s, done.\n",
            "Resolving deltas: 100% (460/460), done.\n",
            "/content/easy-few-shot-learning\n",
            "Looking in indexes: https://pypi.org/simple, https://us-python.pkg.dev/colab-wheels/public/simple/\n",
            "Processing /content/easy-few-shot-learning\n",
            "  Preparing metadata (setup.py) ... \u001b[?25l\u001b[?25hdone\n",
            "Requirement already satisfied: matplotlib>=3.0.0 in /usr/local/lib/python3.8/dist-packages (from easyfsl==1.1.0) (3.2.2)\n",
            "Requirement already satisfied: pandas>=1.1.0 in /usr/local/lib/python3.8/dist-packages (from easyfsl==1.1.0) (1.3.5)\n",
            "Requirement already satisfied: torch>=1.4.0 in /usr/local/lib/python3.8/dist-packages (from easyfsl==1.1.0) (1.13.1+cu116)\n",
            "Requirement already satisfied: torchvision>=0.7.0 in /usr/local/lib/python3.8/dist-packages (from easyfsl==1.1.0) (0.14.1+cu116)\n",
            "Requirement already satisfied: tqdm>=4.1.0 in /usr/local/lib/python3.8/dist-packages (from easyfsl==1.1.0) (4.64.1)\n",
            "Requirement already satisfied: kiwisolver>=1.0.1 in /usr/local/lib/python3.8/dist-packages (from matplotlib>=3.0.0->easyfsl==1.1.0) (1.4.4)\n",
            "Requirement already satisfied: python-dateutil>=2.1 in /usr/local/lib/python3.8/dist-packages (from matplotlib>=3.0.0->easyfsl==1.1.0) (2.8.2)\n",
            "Requirement already satisfied: numpy>=1.11 in /usr/local/lib/python3.8/dist-packages (from matplotlib>=3.0.0->easyfsl==1.1.0) (1.21.6)\n",
            "Requirement already satisfied: pyparsing!=2.0.4,!=2.1.2,!=2.1.6,>=2.0.1 in /usr/local/lib/python3.8/dist-packages (from matplotlib>=3.0.0->easyfsl==1.1.0) (3.0.9)\n",
            "Requirement already satisfied: cycler>=0.10 in /usr/local/lib/python3.8/dist-packages (from matplotlib>=3.0.0->easyfsl==1.1.0) (0.11.0)\n",
            "Requirement already satisfied: pytz>=2017.3 in /usr/local/lib/python3.8/dist-packages (from pandas>=1.1.0->easyfsl==1.1.0) (2022.7)\n",
            "Requirement already satisfied: typing-extensions in /usr/local/lib/python3.8/dist-packages (from torch>=1.4.0->easyfsl==1.1.0) (4.4.0)\n",
            "Requirement already satisfied: requests in /usr/local/lib/python3.8/dist-packages (from torchvision>=0.7.0->easyfsl==1.1.0) (2.25.1)\n",
            "Requirement already satisfied: pillow!=8.3.*,>=5.3.0 in /usr/local/lib/python3.8/dist-packages (from torchvision>=0.7.0->easyfsl==1.1.0) (7.1.2)\n",
            "Requirement already satisfied: six>=1.5 in /usr/local/lib/python3.8/dist-packages (from python-dateutil>=2.1->matplotlib>=3.0.0->easyfsl==1.1.0) (1.15.0)\n",
            "Requirement already satisfied: idna<3,>=2.5 in /usr/local/lib/python3.8/dist-packages (from requests->torchvision>=0.7.0->easyfsl==1.1.0) (2.10)\n",
            "Requirement already satisfied: chardet<5,>=3.0.2 in /usr/local/lib/python3.8/dist-packages (from requests->torchvision>=0.7.0->easyfsl==1.1.0) (4.0.0)\n",
            "Requirement already satisfied: certifi>=2017.4.17 in /usr/local/lib/python3.8/dist-packages (from requests->torchvision>=0.7.0->easyfsl==1.1.0) (2022.12.7)\n",
            "Requirement already satisfied: urllib3<1.27,>=1.21.1 in /usr/local/lib/python3.8/dist-packages (from requests->torchvision>=0.7.0->easyfsl==1.1.0) (1.24.3)\n",
            "Building wheels for collected packages: easyfsl\n",
            "  Building wheel for easyfsl (setup.py) ... \u001b[?25l\u001b[?25hdone\n",
            "  Created wheel for easyfsl: filename=easyfsl-1.1.0-py3-none-any.whl size=45218 sha256=be87ba327f94b8296a3eebefa43a2ff1f05ad94557e1b563ebe4c9f5fc6a1f79\n",
            "  Stored in directory: /root/.cache/pip/wheels/54/29/db/7eee3a758434d4337d8e4b1058b4b8cf2b33174f7f34da3ee9\n",
            "Successfully built easyfsl\n",
            "Installing collected packages: easyfsl\n",
            "Successfully installed easyfsl-1.1.0\n"
          ]
        }
      ],
      "source": [
        "if colab is True:\n",
        "    # Running in Google Colab\n",
        "    # Clone the repo\n",
        "    !git clone https://github.com/sicara/easy-few-shot-learning\n",
        "    %cd easy-few-shot-learning\n",
        "    !pip install .\n",
        "else:\n",
        "    # Run locally\n",
        "    # Ensure working directory is the project's root\n",
        "    # Make sure easyfsl is installed!\n",
        "    %cd .."
      ]
    },
    {
      "cell_type": "code",
      "execution_count": null,
      "metadata": {
        "colab": {
          "base_uri": "https://localhost:8080/"
        },
        "id": "OYiG5R_TXX3J",
        "outputId": "5e533258-e425-4b6e-f2b0-443a944c1428"
      },
      "outputs": [
        {
          "output_type": "stream",
          "name": "stdout",
          "text": [
            "Mounted at /content/gdrive\n"
          ]
        }
      ],
      "source": [
        "from google.colab import drive\n",
        "drive.mount('/content/gdrive', force_remount=True)"
      ]
    },
    {
      "cell_type": "code",
      "execution_count": null,
      "metadata": {
        "id": "LQfMsJp_PjKl"
      },
      "outputs": [],
      "source": [
        "from pathlib import Path\n",
        "import random\n",
        "from statistics import mean\n",
        "\n",
        "import numpy as np\n",
        "import torch\n",
        "from torch import nn\n",
        "from tqdm import tqdm"
      ]
    },
    {
      "cell_type": "code",
      "execution_count": null,
      "metadata": {
        "id": "cmXoKojpPkZz"
      },
      "outputs": [],
      "source": [
        "random_seed = 0\n",
        "np.random.seed(random_seed)\n",
        "torch.manual_seed(random_seed)\n",
        "random.seed(random_seed)\n",
        "torch.backends.cudnn.deterministic = True\n",
        "torch.backends.cudnn.benchmark = False"
      ]
    },
    {
      "cell_type": "code",
      "execution_count": null,
      "metadata": {
        "id": "jKGtvn9vP0SW"
      },
      "outputs": [],
      "source": [
        "n_way = 2\n",
        "n_shot = 1\n",
        "n_query = 1\n",
        "\n",
        "DEVICE = \"cuda\"\n",
        "n_workers = 12"
      ]
    },
    {
      "cell_type": "code",
      "execution_count": null,
      "metadata": {
        "id": "QZZRonMmWGLa"
      },
      "outputs": [],
      "source": [
        "train_path = \"/content/gdrive/MyDrive/KDC/train_loader.json\"\n",
        "valid_path = \"/content/gdrive/MyDrive/KDC/valid_loader.json\"\n",
        "\n",
        "# Experimenting with no training and entire dataset for testing\n",
        "test_path = \"/content/gdrive/MyDrive/KDC/test_loader.json\"\n",
        "data_path = \"/content/gdrive/MyDrive/KDC/data_loader.json\""
      ]
    },
    {
      "cell_type": "code",
      "execution_count": null,
      "metadata": {
        "id": "tUUBd9GxqSVf"
      },
      "outputs": [],
      "source": [
        "from easyfsl.datasets import EasySet\n",
        "from torch.utils.data import DataLoader\n",
        "from easyfsl.methods import PrototypicalNetworks\n",
        "from easyfsl.samplers import TaskSampler\n",
        "from easyfsl.modules import resnet12"
      ]
    },
    {
      "cell_type": "code",
      "execution_count": null,
      "metadata": {
        "id": "I5JnLObwqLA0"
      },
      "outputs": [],
      "source": [
        "train_set = EasySet(train_path, 44)\n",
        "val_set = EasySet(valid_path, 44)\n",
        "data_set = EasySet(data_path, 44)"
      ]
    },
    {
      "cell_type": "code",
      "execution_count": null,
      "metadata": {
        "id": "WE9uc89jrXew"
      },
      "outputs": [],
      "source": [
        "model = resnet12(\n",
        "    use_fc=True,\n",
        "    num_classes=len(set(train_set.get_labels())),\n",
        ").to(DEVICE)"
      ]
    },
    {
      "cell_type": "code",
      "execution_count": null,
      "metadata": {
        "id": "zmVrlYvArdxD"
      },
      "outputs": [],
      "source": [
        "few_shot_classifier = PrototypicalNetworks(model).to(DEVICE)"
      ]
    },
    {
      "cell_type": "code",
      "execution_count": null,
      "metadata": {
        "id": "6mOT7cww5zCs"
      },
      "outputs": [],
      "source": [
        "from easyfsl.methods.utils import evaluate"
      ]
    },
    {
      "cell_type": "code",
      "execution_count": null,
      "metadata": {
        "id": "oLrL3wRIPSXU"
      },
      "outputs": [],
      "source": [
        "n_test_tasks = 1000\n",
        "\n",
        "# We'll load data path as we are experimenting without training on the entire dataset \n",
        "test_set = EasySet(data_path, 44)\n",
        "test_sampler = TaskSampler(\n",
        "    test_set, n_way=n_way, n_shot=n_shot, n_query=n_query, n_tasks=n_test_tasks\n",
        ")\n",
        "test_loader = DataLoader(\n",
        "    test_set,\n",
        "    batch_sampler=test_sampler,\n",
        "    num_workers=n_workers,\n",
        "    pin_memory=True,\n",
        "    collate_fn=test_sampler.episodic_collate_fn,\n",
        ")"
      ]
    },
    {
      "cell_type": "code",
      "execution_count": null,
      "metadata": {
        "colab": {
          "base_uri": "https://localhost:8080/"
        },
        "id": "P3MDMMGyQWHO",
        "outputId": "eda88c56-df5b-4cfd-d511-f55fc3bba4d1"
      },
      "outputs": [
        {
          "output_type": "stream",
          "name": "stderr",
          "text": [
            "100%|██████████| 1000/1000 [00:19<00:00, 50.68it/s, accuracy=0.454]"
          ]
        },
        {
          "output_type": "stream",
          "name": "stdout",
          "text": [
            "Average accuracy : 45.35 %\n"
          ]
        },
        {
          "output_type": "stream",
          "name": "stderr",
          "text": [
            "\n"
          ]
        }
      ],
      "source": [
        "model.set_use_fc(False)\n",
        "\n",
        "accuracy = evaluate(few_shot_classifier, test_loader, device=DEVICE)\n",
        "print(f\"Average accuracy : {(100 * accuracy):.2f} %\")"
      ]
    },
    {
      "cell_type": "code",
      "source": [],
      "metadata": {
        "id": "9ncCB9gfxjPb"
      },
      "execution_count": null,
      "outputs": []
    }
  ],
  "metadata": {
    "accelerator": "GPU",
    "colab": {
      "provenance": [],
      "authorship_tag": "ABX9TyO3XsfahH0OnDHezTEa/cXh",
      "include_colab_link": true
    },
    "gpuClass": "standard",
    "kernelspec": {
      "display_name": "Python 3",
      "name": "python3"
    },
    "language_info": {
      "name": "python"
    }
  },
  "nbformat": 4,
  "nbformat_minor": 0
}